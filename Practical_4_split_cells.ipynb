{
 "cells": [
  {
   "cell_type": "markdown",
   "id": "9fd00cef",
   "metadata": {},
   "source": [
    "# Practical_4: Flow control"
   ]
  },
  {
   "cell_type": "markdown",
   "id": "497af3a0",
   "metadata": {},
   "source": [
    "\n",
    "\n",
    "---\n",
    "\n",
    "### Exercise 1:\n",
    "Write a Python program that checks if a number is positive or negative.\n"
   ]
  },
  {
   "cell_type": "code",
   "execution_count": 1,
   "id": "4525d7b1",
   "metadata": {},
   "outputs": [
    {
     "name": "stdout",
     "output_type": "stream",
     "text": [
      "The number 10 is: Positive\n",
      "The number -5 is: Negative\n",
      "The number 0 is: Zero\n"
     ]
    }
   ],
   "source": [
    "# Exercise 1\n",
    "# This program checks if a given number is positive, negative, or zero.\n",
    "\n",
    "def check_number_sign(number):\n",
    "  \"\"\"\n",
    "  Checks the sign of a given number.\n",
    "\n",
    "  Args:\n",
    "    number: The number to check. Can be an integer or a float.\n",
    "\n",
    "  Returns:\n",
    "    A string indicating if the number is \"Positive\", \"Negative\", or \"Zero\".\n",
    "  \"\"\"\n",
    "  if number > 0:\n",
    "    return \"Positive\"\n",
    "  elif number < 0:\n",
    "    return \"Negative\"\n",
    "  else:\n",
    "    return \"Zero\"\n",
    "\n",
    "# --- Example Usage ---\n",
    "\n",
    "# Test with a positive number\n",
    "num1 = 10\n",
    "print(f\"The number {num1} is: {check_number_sign(num1)}\")\n",
    "\n",
    "# Test with a negative number\n",
    "num2 = -5\n",
    "print(f\"The number {num2} is: {check_number_sign(num2)}\")\n",
    "\n",
    "# Test with zero\n",
    "num3 = 0\n",
    "print(f\"The number {num3} is: {check_number_sign(num3)}\")\n",
    "\n",
    "# You can also get input from the user:\n",
    "# try:\n",
    "#   user_input = float(input(\"Enter a number: \"))\n",
    "#   print(f\"The number {user_input} is: {check_number_sign(user_input)}\")\n",
    "# except ValueError:\n",
    "#   print(\"Invalid input. Please enter a valid number.\")\n"
   ]
  },
  {
   "cell_type": "markdown",
   "id": "289c0fec",
   "metadata": {},
   "source": [
    "\n",
    "---\n",
    "\n",
    "### Exercise 2:\n",
    "Write a Python function that checks if a string starts with a vowel.\n"
   ]
  },
  {
   "cell_type": "code",
   "execution_count": 6,
   "id": "3adbe475",
   "metadata": {},
   "outputs": [
    {
     "name": "stdout",
     "output_type": "stream",
     "text": [
      "'Apple' starts with a vowel: True\n",
      "'banana' starts with a vowel: False\n",
      "'Orange' starts with a vowel: True\n",
      "'Umbrella' starts with a vowel: True\n",
      "'Elephant' starts with a vowel: True\n",
      "'xylophone' starts with a vowel: False\n",
      "'' (empty string) starts with a vowel: False\n",
      "'123' starts with a vowel: False\n"
     ]
    }
   ],
   "source": [
    "# Exercise 2\n",
    "# This Python function checks if a given string starts with a vowel.\n",
    "def starts_with_vowel(input_string):\n",
    "    \"\"\"\n",
    "    Checks if a string starts with a vowel (a, e, i, o, u), case-insensitive.\n",
    "\n",
    "    Args:\n",
    "        input_string: The string to check.\n",
    "\n",
    "    Returns:\n",
    "        True if the string starts with a vowel, False otherwise.\n",
    "    \"\"\"\n",
    "    # Define a set of vowels for efficient lookup.\n",
    "    vowels = {'a', 'e', 'i', 'o', 'u'}\n",
    "\n",
    "    # Check if the string is not empty.\n",
    "    if input_string:\n",
    "        # Get the first character and convert it to lowercase for case-insensitive comparison.\n",
    "        first_char = input_string[0].lower()\n",
    "        # Check if the first character is in the set of vowels.\n",
    "        return first_char in vowels\n",
    "    else:\n",
    "        # If the string is empty, it cannot start with a vowel.\n",
    "        return False\n",
    "\n",
    "# --- Example Usage ---\n",
    "\n",
    "# Test cases\n",
    "print(f\"'Apple' starts with a vowel: {starts_with_vowel('Apple')}\")       # Expected: True\n",
    "print(f\"'banana' starts with a vowel: {starts_with_vowel('banana')}\")     # Expected: False\n",
    "print(f\"'Orange' starts with a vowel: {starts_with_vowel('Orange')}\")     # Expected: True\n",
    "print(f\"'Umbrella' starts with a vowel: {starts_with_vowel('Umbrella')}\") # Expected: True\n",
    "print(f\"'Elephant' starts with a vowel: {starts_with_vowel('Elephant')}\") # Expected: True\n",
    "print(f\"'xylophone' starts with a vowel: {starts_with_vowel('xylophone')}\")# Expected: False\n",
    "print(f\"'' (empty string) starts with a vowel: {starts_with_vowel('')}\")   # Expected: False\n",
    "print(f\"'123' starts with a vowel: {starts_with_vowel('123')}\")           # Expected: False\n",
    "\n"
   ]
  },
  {
   "cell_type": "markdown",
   "id": "d64fdd3e",
   "metadata": {},
   "source": [
    "\n",
    "---\n",
    "\n",
    "### Exercise 3:\n",
    "Write a Python program that takes a list of integers and prints \"Even\" for each even number and \"Odd\" for each odd number.\n"
   ]
  },
  {
   "cell_type": "code",
   "execution_count": 7,
   "id": "e6926b1c",
   "metadata": {},
   "outputs": [
    {
     "name": "stdout",
     "output_type": "stream",
     "text": [
      "Odd\n",
      "Even\n",
      "Odd\n",
      "Even\n",
      "Odd\n",
      "Even\n"
     ]
    }
   ],
   "source": [
    "# Exercise 3\n",
    "# A list of integers\n",
    "numbers = [1, 2, 3, 4, 5, 6]\n",
    "\n",
    "# Loop through each number in the list\n",
    "for number in numbers:\n",
    "    # Check if the number is even\n",
    "    if number % 2 == 0:\n",
    "        print(\"Even\")\n",
    "    else:\n",
    "        print(\"Odd\")\n"
   ]
  },
  {
   "cell_type": "markdown",
   "id": "b5ce7b99",
   "metadata": {},
   "source": [
    "\n",
    "---\n",
    "\n",
    "### Exercise 4:\n",
    "Write a Python program that checks if a given year is a leap year.\n"
   ]
  },
  {
   "cell_type": "code",
   "execution_count": 8,
   "id": "eb3d99f0",
   "metadata": {},
   "outputs": [
    {
     "name": "stdout",
     "output_type": "stream",
     "text": [
      "Enter a year: 2021\n",
      "Not a leap year\n"
     ]
    }
   ],
   "source": [
    "# Exercise 4\n",
    "# Take input from the user\n",
    "year = int(input(\"Enter a year: \"))\n",
    "\n",
    "# Check if the year is a leap year\n",
    "if (year % 4 == 0 and year % 100 != 0) or (year % 400 == 0):\n",
    "    print(\"Leap year\")\n",
    "else:\n",
    "    print(\"Not a leap year\")\n"
   ]
  },
  {
   "cell_type": "markdown",
   "id": "c5496d7d",
   "metadata": {},
   "source": [
    "\n",
    "---\n",
    "\n",
    "### Exercise 5:\n",
    "Write a Python function that checks if a number is divisible by both 3 and 5.\n"
   ]
  },
  {
   "cell_type": "code",
   "execution_count": 9,
   "id": "46b1bd68",
   "metadata": {},
   "outputs": [
    {
     "name": "stdout",
     "output_type": "stream",
     "text": [
      "True\n",
      "False\n",
      "False\n",
      "True\n"
     ]
    }
   ],
   "source": [
    "# Exercise 5\n",
    "def is_divisible_by_3_and_5(number):\n",
    "    \"\"\"\n",
    "    Checks if a number is divisible by both 3 and 5.\n",
    "\n",
    "    Args:\n",
    "        number: The number to check.\n",
    "\n",
    "    Returns:\n",
    "        True if divisible by both 3 and 5, False otherwise.\n",
    "    \"\"\"\n",
    "    return number % 3 == 0 and number % 5 == 0\n",
    "\n",
    "# --- Example Usage ---\n",
    "print(is_divisible_by_3_and_5(15))  # Expected: True\n",
    "print(is_divisible_by_3_and_5(10))  # Expected: False\n",
    "print(is_divisible_by_3_and_5(9))   # Expected: False\n",
    "print(is_divisible_by_3_and_5(30))  # Expected: True\n"
   ]
  },
  {
   "cell_type": "markdown",
   "id": "b0348707",
   "metadata": {},
   "source": [
    "\n",
    "---\n",
    "\n",
    "### Exercise 6:\n",
    "Write a Python program that prints \"Hot\" if the temperature is above 30, \"Warm\" if it is between 15 and 30, and \"Cold\" if it is below 15.\n"
   ]
  },
  {
   "cell_type": "code",
   "execution_count": 10,
   "id": "dfde8564",
   "metadata": {},
   "outputs": [
    {
     "name": "stdout",
     "output_type": "stream",
     "text": [
      "Enter the temperature: 12\n",
      "Cold\n"
     ]
    }
   ],
   "source": [
    "# Exercise 6\n",
    "# Ask the user to enter the temperature\n",
    "temperature = float(input(\"Enter the temperature: \"))\n",
    "\n",
    "# Check the temperature range\n",
    "if temperature > 30:\n",
    "    print(\"Hot\")\n",
    "elif 15 <= temperature <= 30:\n",
    "    print(\"Warm\")\n",
    "else:\n",
    "    print(\"Cold\")\n"
   ]
  },
  {
   "cell_type": "markdown",
   "id": "ec1d713e",
   "metadata": {},
   "source": [
    "\n",
    "---\n",
    "\n",
    "### Exercise 7:\n",
    "Write a Python program that checks if a string contains the letter 'a'.\n"
   ]
  },
  {
   "cell_type": "code",
   "execution_count": 11,
   "id": "2eb30c57",
   "metadata": {},
   "outputs": [
    {
     "name": "stdout",
     "output_type": "stream",
     "text": [
      "Enter a string: Title\n",
      "The string does not contain the letter 'a'.\n"
     ]
    }
   ],
   "source": [
    "# Exercise 7\n",
    "# Ask the user to enter a string\n",
    "user_input = input(\"Enter a string: \")\n",
    "\n",
    "# Check if 'a' is in the string\n",
    "if 'a' in user_input:\n",
    "    print(\"The string contains the letter 'a'.\")\n",
    "else:\n",
    "    print(\"The string does not contain the letter 'a'.\")\n"
   ]
  },
  {
   "cell_type": "markdown",
   "id": "8194f567",
   "metadata": {},
   "source": [
    "\n",
    "---\n",
    "\n",
    "### Exercise 8:\n",
    "Write a Python function that checks if two numbers are equal, or which one is larger.\n"
   ]
  },
  {
   "cell_type": "code",
   "execution_count": 12,
   "id": "ede9943f",
   "metadata": {},
   "outputs": [
    {
     "name": "stdout",
     "output_type": "stream",
     "text": [
      "10 is larger than 5.\n",
      "The numbers are equal.\n",
      "9 is larger than 4.\n"
     ]
    }
   ],
   "source": [
    "# Exercise 8\n",
    "def compare_numbers(num1, num2):\n",
    "    \"\"\"\n",
    "    Compares two numbers and prints whether they are equal or which one is larger.\n",
    "\n",
    "    Args:\n",
    "        num1: The first number.\n",
    "        num2: The second number.\n",
    "    \"\"\"\n",
    "    if num1 == num2:\n",
    "        print(\"The numbers are equal.\")\n",
    "    elif num1 > num2:\n",
    "        print(f\"{num1} is larger than {num2}.\")\n",
    "    else:\n",
    "        print(f\"{num2} is larger than {num1}.\")\n",
    "\n",
    "# --- Example Usage ---\n",
    "compare_numbers(10, 5)   # Expected: 10 is larger than 5.\n",
    "compare_numbers(3, 3)    # Expected: The numbers are equal.\n",
    "compare_numbers(4, 9)    # Expected: 9 is larger than 4.\n"
   ]
  },
  {
   "cell_type": "markdown",
   "id": "9e86c97f",
   "metadata": {},
   "source": [
    "\n",
    "---\n",
    "\n",
    "### Exercise 9:\n",
    "Write a Python program that checks if a list is empty.\n"
   ]
  },
  {
   "cell_type": "code",
   "execution_count": 13,
   "id": "13738c3f",
   "metadata": {},
   "outputs": [
    {
     "name": "stdout",
     "output_type": "stream",
     "text": [
      "The list is empty.\n"
     ]
    }
   ],
   "source": [
    "# Exercise 9\n",
    "# Example list\n",
    "my_list = []\n",
    "\n",
    "# Check if the list is empty\n",
    "if not my_list:\n",
    "    print(\"The list is empty.\")\n",
    "else:\n",
    "    print(\"The list is not empty.\")\n"
   ]
  },
  {
   "cell_type": "markdown",
   "id": "645a85cc",
   "metadata": {},
   "source": [
    "\n",
    "---\n",
    "\n",
    "### Exercise 10:\n",
    "Write a Python function that takes two strings and checks if they are anagrams.\n"
   ]
  },
  {
   "cell_type": "code",
   "execution_count": 14,
   "id": "756b7d46",
   "metadata": {},
   "outputs": [
    {
     "name": "stdout",
     "output_type": "stream",
     "text": [
      "True\n",
      "False\n",
      "True\n",
      "True\n"
     ]
    }
   ],
   "source": [
    "# Exercise 10\n",
    "def are_anagrams(str1, str2):\n",
    "    \"\"\"\n",
    "    Checks if two strings are anagrams (ignores spaces and case).\n",
    "\n",
    "    Args:\n",
    "        str1: The first string.\n",
    "        str2: The second string.\n",
    "\n",
    "    Returns:\n",
    "        True if they are anagrams, False otherwise.\n",
    "    \"\"\"\n",
    "    # Remove spaces and convert to lowercase for a case-insensitive comparison\n",
    "    str1 = str1.replace(\" \", \"\").lower()\n",
    "    str2 = str2.replace(\" \", \"\").lower()\n",
    "\n",
    "    # Check if the sorted characters are the same\n",
    "    return sorted(str1) == sorted(str2)\n",
    "\n",
    "# --- Example Usage ---\n",
    "print(are_anagrams(\"listen\", \"silent\"))  # Expected: True\n",
    "print(are_anagrams(\"Hello\", \"world\"))    # Expected: False\n",
    "print(are_anagrams(\"Astronomer\", \"Moon starer\"))  # Expected: True\n",
    "print(are_anagrams(\"Dormitory\", \"Dirty room\"))    # Expected: True\n"
   ]
  },
  {
   "cell_type": "markdown",
   "id": "59ebce61",
   "metadata": {},
   "source": [
    "\n",
    "---\n",
    "\n",
    "### Exercise 11:\n",
    "Write a Python program that checks if a number is prime.\n"
   ]
  },
  {
   "cell_type": "code",
   "execution_count": 15,
   "id": "b077d9a1",
   "metadata": {},
   "outputs": [
    {
     "name": "stdout",
     "output_type": "stream",
     "text": [
      "Enter a number: 9\n",
      "9 is not a prime number.\n"
     ]
    }
   ],
   "source": [
    "# Exercise 11\n",
    "def is_prime(number):\n",
    "    \"\"\"\n",
    "    Checks if a number is prime.\n",
    "\n",
    "    Args:\n",
    "        number: The number to check.\n",
    "\n",
    "    Returns:\n",
    "        True if the number is prime, False otherwise.\n",
    "    \"\"\"\n",
    "    if number <= 1:\n",
    "        return False\n",
    "    for i in range(2, int(number**0.5) + 1):\n",
    "        if number % i == 0:\n",
    "            return False\n",
    "    return True\n",
    "\n",
    "# --- Example Usage ---\n",
    "num = int(input(\"Enter a number: \"))\n",
    "if is_prime(num):\n",
    "    print(f\"{num} is a prime number.\")\n",
    "else:\n",
    "    print(f\"{num} is not a prime number.\")\n"
   ]
  },
  {
   "cell_type": "markdown",
   "id": "531463b8",
   "metadata": {},
   "source": [
    "\n",
    "---\n",
    "\n",
    "### Exercise 12:\n",
    "Write a Python program that checks if a list of numbers is sorted in ascending order.\n"
   ]
  },
  {
   "cell_type": "code",
   "execution_count": 16,
   "id": "01fc5a9e",
   "metadata": {},
   "outputs": [
    {
     "name": "stdout",
     "output_type": "stream",
     "text": [
      "True\n",
      "False\n"
     ]
    }
   ],
   "source": [
    "# Exercise 12\n",
    "def is_sorted_ascending(numbers):\n",
    "    \"\"\"\n",
    "    Checks if the list is sorted in ascending order.\n",
    "\n",
    "    Args:\n",
    "        numbers: List of numbers.\n",
    "\n",
    "    Returns:\n",
    "        True if sorted ascending, False otherwise.\n",
    "    \"\"\"\n",
    "    for i in range(len(numbers) - 1):\n",
    "        if numbers[i] > numbers[i + 1]:\n",
    "            return False\n",
    "    return True\n",
    "\n",
    "# --- Example Usage ---\n",
    "my_list = [1, 2, 3, 4, 5]\n",
    "print(is_sorted_ascending(my_list))  # Expected: True\n",
    "\n",
    "my_list2 = [1, 3, 2, 4, 5]\n",
    "print(is_sorted_ascending(my_list2))  # Expected: False\n"
   ]
  },
  {
   "cell_type": "markdown",
   "id": "b15a0cca",
   "metadata": {},
   "source": [
    "\n",
    "---\n",
    "\n",
    "### Exercise 13:\n",
    "Write a Python function that takes a character and checks if it is a digit.\n"
   ]
  },
  {
   "cell_type": "code",
   "execution_count": 17,
   "id": "2dc9a053",
   "metadata": {},
   "outputs": [
    {
     "name": "stdout",
     "output_type": "stream",
     "text": [
      "True\n",
      "False\n",
      "True\n",
      "False\n"
     ]
    }
   ],
   "source": [
    "# Exercise 13\n",
    "def is_digit(char):\n",
    "    \"\"\"\n",
    "    Checks if the given character is a digit (0-9).\n",
    "\n",
    "    Args:\n",
    "        char: A single character string.\n",
    "\n",
    "    Returns:\n",
    "        True if the character is a digit, False otherwise.\n",
    "    \"\"\"\n",
    "    return char.isdigit()\n",
    "\n",
    "# --- Example Usage ---\n",
    "print(is_digit('5'))  # Expected: True\n",
    "print(is_digit('a'))  # Expected: False\n",
    "print(is_digit('0'))  # Expected: True\n",
    "print(is_digit('#'))  # Expected: False\n"
   ]
  },
  {
   "cell_type": "markdown",
   "id": "60190b10",
   "metadata": {},
   "source": [
    "\n",
    "---\n",
    "\n",
    "### Exercise 14:\n",
    "Write a Python function that checks if a string contains only uppercase letters.\n"
   ]
  },
  {
   "cell_type": "code",
   "execution_count": 18,
   "id": "4ed8ebfa",
   "metadata": {},
   "outputs": [
    {
     "name": "stdout",
     "output_type": "stream",
     "text": [
      "True\n",
      "False\n",
      "False\n",
      "False\n"
     ]
    }
   ],
   "source": [
    "# Exercise 14\n",
    "def is_all_uppercase(s):\n",
    "    \"\"\"\n",
    "    Checks if the string contains only uppercase letters.\n",
    "\n",
    "    Args:\n",
    "        s: Input string.\n",
    "\n",
    "    Returns:\n",
    "        True if all characters are uppercase letters, False otherwise.\n",
    "    \"\"\"\n",
    "    return s.isupper() and s.isalpha()\n",
    "\n",
    "# --- Example Usage ---\n",
    "print(is_all_uppercase(\"HELLO\"))     # Expected: True\n",
    "print(is_all_uppercase(\"Hello\"))     # Expected: False\n",
    "print(is_all_uppercase(\"WORLD123\"))  # Expected: False\n",
    "print(is_all_uppercase(\"\"))          # Expected: False (empty string)\n"
   ]
  },
  {
   "cell_type": "markdown",
   "id": "7f7dd4fd",
   "metadata": {},
   "source": [
    "\n",
    "---\n",
    "\n",
    "### Exercise 15:\n",
    "Write a Python program that checks if a number is a multiple of 10.\n"
   ]
  },
  {
   "cell_type": "code",
   "execution_count": 19,
   "id": "e35d5709",
   "metadata": {},
   "outputs": [
    {
     "name": "stdout",
     "output_type": "stream",
     "text": [
      "Enter a number: 20\n",
      "20 is a multiple of 10.\n"
     ]
    }
   ],
   "source": [
    "# Exercise 15\n",
    "# Take input from the user\n",
    "number = int(input(\"Enter a number: \"))\n",
    "\n",
    "# Check if the number is a multiple of 10\n",
    "if number % 10 == 0:\n",
    "    print(f\"{number} is a multiple of 10.\")\n",
    "else:\n",
    "    print(f\"{number} is not a multiple of 10.\")\n"
   ]
  },
  {
   "cell_type": "markdown",
   "id": "83e1c5d3",
   "metadata": {},
   "source": [
    "\n",
    "---\n",
    "\n",
    "### Exercise 16:\n",
    "Write a Python function that checks if a list contains any duplicates.\n"
   ]
  },
  {
   "cell_type": "code",
   "execution_count": 20,
   "id": "24d52edd",
   "metadata": {},
   "outputs": [
    {
     "name": "stdout",
     "output_type": "stream",
     "text": [
      "False\n",
      "True\n",
      "False\n"
     ]
    }
   ],
   "source": [
    "# Exercise 16\n",
    "def has_duplicates(lst):\n",
    "    \"\"\"\n",
    "    Checks if the list contains any duplicates.\n",
    "\n",
    "    Args:\n",
    "        lst: List of elements.\n",
    "\n",
    "    Returns:\n",
    "        True if duplicates exist, False otherwise.\n",
    "    \"\"\"\n",
    "    return len(lst) != len(set(lst))\n",
    "\n",
    "# --- Example Usage ---\n",
    "print(has_duplicates([1, 2, 3, 4]))       # Expected: False\n",
    "print(has_duplicates([1, 2, 2, 4, 5]))    # Expected: True\n",
    "print(has_duplicates([]))                  # Expected: False\n"
   ]
  },
  {
   "cell_type": "markdown",
   "id": "d9533146",
   "metadata": {},
   "source": [
    "\n",
    "---\n",
    "\n",
    "### Exercise 17:\n",
    "Write a Python program that prints \"Teenager\" if the age is between 13 and 19, otherwise it prints \"Not a teenager.\"\n"
   ]
  },
  {
   "cell_type": "code",
   "execution_count": 21,
   "id": "bd9212dd",
   "metadata": {},
   "outputs": [
    {
     "name": "stdout",
     "output_type": "stream",
     "text": [
      "Enter your age: 28\n",
      "Not a teenager.\n"
     ]
    }
   ],
   "source": [
    "# Exercise 17\n",
    "# Ask the user to enter their age\n",
    "age = int(input(\"Enter your age: \"))\n",
    "\n",
    "# Check if age is between 13 and 19 (inclusive)\n",
    "if 13 <= age <= 19:\n",
    "    print(\"Teenager\")\n",
    "else:\n",
    "    print(\"Not a teenager.\")\n"
   ]
  },
  {
   "cell_type": "markdown",
   "id": "370f2ba1",
   "metadata": {},
   "source": [
    "\n",
    "---\n",
    "\n",
    "### Exercise 18:\n",
    "Write a Python function that checks if a list contains an element greater than 100.\n"
   ]
  },
  {
   "cell_type": "code",
   "execution_count": 22,
   "id": "23cde312",
   "metadata": {},
   "outputs": [
    {
     "name": "stdout",
     "output_type": "stream",
     "text": [
      "True\n",
      "False\n",
      "False\n"
     ]
    }
   ],
   "source": [
    "# Exercise 18\n",
    "def contains_greater_than_100(lst):\n",
    "    \"\"\"\n",
    "    Checks if the list contains any element greater than 100.\n",
    "\n",
    "    Args:\n",
    "        lst: List of numbers.\n",
    "\n",
    "    Returns:\n",
    "        True if any element is greater than 100, False otherwise.\n",
    "    \"\"\"\n",
    "    for num in lst:\n",
    "        if num > 100:\n",
    "            return True\n",
    "    return False\n",
    "\n",
    "# --- Example Usage ---\n",
    "print(contains_greater_than_100([10, 50, 101, 20]))  # Expected: True\n",
    "print(contains_greater_than_100([10, 50, 99, 20]))   # Expected: False\n",
    "print(contains_greater_than_100([]))                 # Expected: False\n"
   ]
  },
  {
   "cell_type": "markdown",
   "id": "322ae5e3",
   "metadata": {},
   "source": [
    "\n",
    "---\n",
    "\n",
    "### Exercise 19:\n",
    "Write a Python program that checks if a number is even or odd.\n"
   ]
  },
  {
   "cell_type": "code",
   "execution_count": 23,
   "id": "a91bd104",
   "metadata": {},
   "outputs": [
    {
     "name": "stdout",
     "output_type": "stream",
     "text": [
      "Enter a number: 14\n",
      "14 is even.\n"
     ]
    }
   ],
   "source": [
    "# Exercise 19\n",
    "# Take input from the user\n",
    "number = int(input(\"Enter a number: \"))\n",
    "\n",
    "# Check if the number is even or odd\n",
    "if number % 2 == 0:\n",
    "    print(f\"{number} is even.\")\n",
    "else:\n",
    "    print(f\"{number} is odd.\")\n"
   ]
  },
  {
   "cell_type": "markdown",
   "id": "98e0835d",
   "metadata": {},
   "source": [
    "\n",
    "---\n",
    "\n",
    "### Exercise 20:\n",
    "Write a Python function that checks if a string ends with a punctuation mark.\n"
   ]
  },
  {
   "cell_type": "code",
   "execution_count": 24,
   "id": "31fd2458",
   "metadata": {},
   "outputs": [
    {
     "name": "stdout",
     "output_type": "stream",
     "text": [
      "True\n",
      "False\n",
      "False\n",
      "True\n"
     ]
    }
   ],
   "source": [
    "# Exercise 20\n",
    "import string\n",
    "\n",
    "def ends_with_punctuation(s):\n",
    "    \"\"\"\n",
    "    Checks if the string ends with a punctuation mark.\n",
    "\n",
    "    Args:\n",
    "        s: Input string.\n",
    "\n",
    "    Returns:\n",
    "        True if the string ends with punctuation, False otherwise.\n",
    "    \"\"\"\n",
    "    if not s:\n",
    "        return False  # Empty string has no punctuation at the end\n",
    "    return s[-1] in string.punctuation\n",
    "\n",
    "# --- Example Usage ---\n",
    "print(ends_with_punctuation(\"Hello!\"))    # Expected: True\n",
    "print(ends_with_punctuation(\"Hello\"))     # Expected: False\n",
    "print(ends_with_punctuation(\"\"))          # Expected: False\n",
    "print(ends_with_punctuation(\"What?\"))     # Expected: True\n"
   ]
  },
  {
   "cell_type": "markdown",
   "id": "fb313702",
   "metadata": {},
   "source": [
    "\n",
    "---\n",
    "\n",
    "### Exercise 21:\n",
    "Write a Python program that prints \"Yes\" if the number is between 1 and 100, otherwise it prints \"No.\"\n"
   ]
  },
  {
   "cell_type": "code",
   "execution_count": 25,
   "id": "e362bd56",
   "metadata": {},
   "outputs": [
    {
     "name": "stdout",
     "output_type": "stream",
     "text": [
      "Enter a number: 99\n",
      "Yes\n"
     ]
    }
   ],
   "source": [
    "# Exercise 21\n",
    "# Take input from the user\n",
    "number = int(input(\"Enter a number: \"))\n",
    "\n",
    "# Check if number is between 1 and 100 (inclusive)\n",
    "if 1 <= number <= 100:\n",
    "    print(\"Yes\")\n",
    "else:\n",
    "    print(\"No\")\n"
   ]
  },
  {
   "cell_type": "markdown",
   "id": "3afeef94",
   "metadata": {},
   "source": [
    "\n",
    "---\n",
    "\n",
    "### Exercise 22:\n",
    "Write a Python program that checks if two strings have the same length.\n"
   ]
  },
  {
   "cell_type": "code",
   "execution_count": 26,
   "id": "73b75867",
   "metadata": {},
   "outputs": [
    {
     "name": "stdout",
     "output_type": "stream",
     "text": [
      "Enter the first string: annick\n",
      "Enter the second string: rosine\n",
      "The strings have the same length.\n"
     ]
    }
   ],
   "source": [
    "# Exercise 22\n",
    "# Take input from the user\n",
    "string1 = input(\"Enter the first string: \")\n",
    "string2 = input(\"Enter the second string: \")\n",
    "\n",
    "# Check if lengths are the same\n",
    "if len(string1) == len(string2):\n",
    "    print(\"The strings have the same length.\")\n",
    "else:\n",
    "    print(\"The strings do not have the same length.\")\n"
   ]
  },
  {
   "cell_type": "markdown",
   "id": "bdd8e2ae",
   "metadata": {},
   "source": [
    "\n",
    "---\n",
    "\n",
    "### Exercise 23:\n",
    "Write a Python function that checks if a number is greater than its reverse.\n"
   ]
  },
  {
   "cell_type": "code",
   "execution_count": 27,
   "id": "da8ad2f4",
   "metadata": {},
   "outputs": [
    {
     "name": "stdout",
     "output_type": "stream",
     "text": [
      "False\n",
      "True\n",
      "False\n"
     ]
    }
   ],
   "source": [
    "# Exercise 23\n",
    "def is_greater_than_reverse(num):\n",
    "    \"\"\"\n",
    "    Checks if the number is greater than its reverse.\n",
    "\n",
    "    Args:\n",
    "        num: An integer number.\n",
    "\n",
    "    Returns:\n",
    "        True if num is greater than its reverse, False otherwise.\n",
    "    \"\"\"\n",
    "    # Convert the number to string, reverse it, and convert back to int\n",
    "    reversed_num = int(str(num)[::-1])\n",
    "    return num > reversed_num\n",
    "\n",
    "# --- Example Usage ---\n",
    "print(is_greater_than_reverse(123))  # Expected: False (123 < 321)\n",
    "print(is_greater_than_reverse(321))  # Expected: True  (321 > 123)\n",
    "print(is_greater_than_reverse(121))  # Expected: False (121 == 121)\n"
   ]
  },
  {
   "cell_type": "markdown",
   "id": "fab070bc",
   "metadata": {},
   "source": [
    "\n",
    "---\n",
    "\n",
    "### Exercise 24:\n",
    "Write a Python program that checks if a password contains both letters and numbers.\n"
   ]
  },
  {
   "cell_type": "code",
   "execution_count": 28,
   "id": "6e22f9b2",
   "metadata": {},
   "outputs": [
    {
     "name": "stdout",
     "output_type": "stream",
     "text": [
      "Enter your password: 27knnjck\n",
      "Password contains both letters and numbers.\n"
     ]
    }
   ],
   "source": [
    "# Exercise 24\n",
    "# Take input from the user\n",
    "password = input(\"Enter your password: \")\n",
    "\n",
    "# Check for letters and digits\n",
    "has_letter = any(char.isalpha() for char in password)\n",
    "has_digit = any(char.isdigit() for char in password)\n",
    "\n",
    "if has_letter and has_digit:\n",
    "    print(\"Password contains both letters and numbers.\")\n",
    "else:\n",
    "    print(\"Password must contain both letters and numbers.\")\n"
   ]
  },
  {
   "cell_type": "markdown",
   "id": "11cb6e7b",
   "metadata": {},
   "source": [
    "\n",
    "---\n",
    "\n",
    "### Exercise 25:\n",
    "Write a Python program that checks if a number is between two given numbers.\n"
   ]
  },
  {
   "cell_type": "code",
   "execution_count": 29,
   "id": "38cab028",
   "metadata": {},
   "outputs": [
    {
     "name": "stdout",
     "output_type": "stream",
     "text": [
      "Enter the number to check: 54\n",
      "Enter the lower bound: 14\n",
      "Enter the upper bound: 85\n",
      "54.0 is between 14.0 and 85.0.\n"
     ]
    }
   ],
   "source": [
    "# Exercise 25\n",
    "# Take inputs from the user\n",
    "num = float(input(\"Enter the number to check: \"))\n",
    "lower_bound = float(input(\"Enter the lower bound: \"))\n",
    "upper_bound = float(input(\"Enter the upper bound: \"))\n",
    "\n",
    "# Check if num is between lower_bound and upper_bound\n",
    "if lower_bound <= num <= upper_bound:\n",
    "    print(f\"{num} is between {lower_bound} and {upper_bound}.\")\n",
    "else:\n",
    "    print(f\"{num} is NOT between {lower_bound} and {upper_bound}.\")\n"
   ]
  },
  {
   "cell_type": "markdown",
   "id": "50b24a42",
   "metadata": {},
   "source": [
    "\n",
    "---\n",
    "\n",
    "### Exercise 26:\n",
    "Write a Python function that checks if all characters in a string are unique.\n"
   ]
  },
  {
   "cell_type": "code",
   "execution_count": 30,
   "id": "62537159",
   "metadata": {},
   "outputs": [
    {
     "name": "stdout",
     "output_type": "stream",
     "text": [
      "False\n",
      "True\n",
      "True\n"
     ]
    }
   ],
   "source": [
    "# Exercise 26\n",
    "def all_unique_chars(s):\n",
    "    \"\"\"\n",
    "    Checks if all characters in the string are unique.\n",
    "\n",
    "    Args:\n",
    "        s: Input string.\n",
    "\n",
    "    Returns:\n",
    "        True if all characters are unique, False otherwise.\n",
    "    \"\"\"\n",
    "    return len(s) == len(set(s))\n",
    "\n",
    "# --- Example Usage ---\n",
    "print(all_unique_chars(\"hello\"))  # Expected: False ('l' repeats)\n",
    "print(all_unique_chars(\"world\"))  # Expected: True\n",
    "print(all_unique_chars(\"\"))       # Expected: True (empty string)\n"
   ]
  },
  {
   "cell_type": "markdown",
   "id": "54ffa82e",
   "metadata": {},
   "source": [
    "\n",
    "---\n",
    "\n",
    "### Exercise 27:\n",
    "Write a Python program that checks if a number is a perfect square.\n"
   ]
  },
  {
   "cell_type": "code",
   "execution_count": 31,
   "id": "dd0707b7",
   "metadata": {},
   "outputs": [
    {
     "name": "stdout",
     "output_type": "stream",
     "text": [
      "Enter a number: 81\n",
      "81 is a perfect square.\n"
     ]
    }
   ],
   "source": [
    "# Exercise 27\n",
    "import math\n",
    "\n",
    "# Take input from the user\n",
    "num = int(input(\"Enter a number: \"))\n",
    "\n",
    "# Check if the number is a perfect square\n",
    "if num >= 0:\n",
    "    root = math.isqrt(num)  # Efficient integer square root (Python 3.8+)\n",
    "    if root * root == num:\n",
    "        print(f\"{num} is a perfect square.\")\n",
    "    else:\n",
    "        print(f\"{num} is NOT a perfect square.\")\n",
    "else:\n",
    "    print(\"Negative numbers cannot be perfect squares.\")\n"
   ]
  },
  {
   "cell_type": "markdown",
   "id": "78349b82",
   "metadata": {},
   "source": [
    "\n",
    "---\n",
    "\n",
    "### Exercise 28:\n",
    "Write a Python function that checks if a word is a palindrome.\n"
   ]
  },
  {
   "cell_type": "code",
   "execution_count": 32,
   "id": "04056d04",
   "metadata": {},
   "outputs": [
    {
     "name": "stdout",
     "output_type": "stream",
     "text": [
      "True\n",
      "False\n",
      "True\n",
      "False\n"
     ]
    }
   ],
   "source": [
    "# Exercise 28\n",
    "def is_palindrome(word):\n",
    "    \"\"\"\n",
    "    Checks if a word is a palindrome.\n",
    "\n",
    "    Args:\n",
    "        word: The input string.\n",
    "\n",
    "    Returns:\n",
    "        True if the word is a palindrome, False otherwise.\n",
    "    \"\"\"\n",
    "    # Convert to lowercase to ignore case\n",
    "    word = word.lower()\n",
    "    # Check if word is same as its reverse\n",
    "    return word == word[::-1]\n",
    "\n",
    "# --- Example Usage ---\n",
    "print(is_palindrome(\"Madam\"))     # Expected: True\n",
    "print(is_palindrome(\"Hello\"))     # Expected: False\n",
    "print(is_palindrome(\"Racecar\"))   # Expected: True\n",
    "print(is_palindrome(\"Python\"))    # Expected: False\n"
   ]
  },
  {
   "cell_type": "markdown",
   "id": "9728cce0",
   "metadata": {},
   "source": [
    "\n",
    "---\n",
    "\n",
    "### Exercise 29:\n",
    "Write a Python program that prints \"Fizz\" if a number is divisible by 3, \"Buzz\" if it is divisible by 5, and \"FizzBuzz\" if divisible by both.\n"
   ]
  },
  {
   "cell_type": "code",
   "execution_count": 33,
   "id": "d3caedaa",
   "metadata": {},
   "outputs": [
    {
     "name": "stdout",
     "output_type": "stream",
     "text": [
      "Enter a number: 51\n",
      "Fizz\n"
     ]
    }
   ],
   "source": [
    "# Exercise 29\n",
    "# Take input from the user\n",
    "number = int(input(\"Enter a number: \"))\n",
    "\n",
    "# Check divisibility\n",
    "if number % 3 == 0 and number % 5 == 0:\n",
    "    print(\"FizzBuzz\")\n",
    "elif number % 3 == 0:\n",
    "    print(\"Fizz\")\n",
    "elif number % 5 == 0:\n",
    "    print(\"Buzz\")\n",
    "else:\n",
    "    print(number)\n"
   ]
  },
  {
   "cell_type": "markdown",
   "id": "b3c19de5",
   "metadata": {},
   "source": [
    "\n",
    "---\n",
    "\n",
    "### Exercise 30:\n",
    "Write a Python program that checks if the sum of the digits of a number is even.\n"
   ]
  },
  {
   "cell_type": "code",
   "execution_count": 34,
   "id": "1d8d47e4",
   "metadata": {},
   "outputs": [
    {
     "name": "stdout",
     "output_type": "stream",
     "text": [
      "Enter a number: 200\n",
      "The sum of digits (2) is even.\n"
     ]
    }
   ],
   "source": [
    "# Exercise 30\n",
    "# Take input from the user\n",
    "number = input(\"Enter a number: \")\n",
    "\n",
    "# Calculate the sum of digits\n",
    "digits_sum = sum(int(digit) for digit in number if digit.isdigit())\n",
    "\n",
    "# Check if the sum is even\n",
    "if digits_sum % 2 == 0:\n",
    "    print(f\"The sum of digits ({digits_sum}) is even.\")\n",
    "else:\n",
    "    print(f\"The sum of digits ({digits_sum}) is odd.\")\n"
   ]
  },
  {
   "cell_type": "markdown",
   "id": "dbe78293",
   "metadata": {},
   "source": [
    "\n",
    "---\n",
    "\n",
    "### Exercise 31:\n",
    "Write a Python program that checks if a string is a valid email address.\n"
   ]
  },
  {
   "cell_type": "code",
   "execution_count": 35,
   "id": "dc64fe29",
   "metadata": {},
   "outputs": [
    {
     "name": "stdout",
     "output_type": "stream",
     "text": [
      "Enter an email address: nyannick123@gmail.com\n",
      "Valid email address.\n"
     ]
    }
   ],
   "source": [
    "# Exercise 31\n",
    "import re\n",
    "\n",
    "def is_valid_email(email):\n",
    "    \"\"\"\n",
    "    Checks if the given string is a valid email address using a regex pattern.\n",
    "\n",
    "    Args:\n",
    "        email: The email address string to validate.\n",
    "\n",
    "    Returns:\n",
    "        True if valid, False otherwise.\n",
    "    \"\"\"\n",
    "    # Simple regex for email validation\n",
    "    pattern = r'^[\\w\\.-]+@[\\w\\.-]+\\.\\w+$'\n",
    "    return re.match(pattern, email) is not None\n",
    "\n",
    "# --- Example Usage ---\n",
    "email = input(\"Enter an email address: \")\n",
    "if is_valid_email(email):\n",
    "    print(\"Valid email address.\")\n",
    "else:\n",
    "    print(\"Invalid email address.\")\n"
   ]
  },
  {
   "cell_type": "markdown",
   "id": "32922851",
   "metadata": {},
   "source": [
    "\n",
    "---\n",
    "\n",
    "### Exercise 32:\n",
    "Write a Python function that checks if a number is within 10 of 100 or 200.\n"
   ]
  },
  {
   "cell_type": "code",
   "execution_count": 36,
   "id": "c3ae205c",
   "metadata": {},
   "outputs": [
    {
     "name": "stdout",
     "output_type": "stream",
     "text": [
      "True\n",
      "True\n",
      "True\n",
      "True\n",
      "False\n",
      "False\n"
     ]
    }
   ],
   "source": [
    "# Exercise 32\n",
    "def within_10_of_100_or_200(num):\n",
    "    \"\"\"\n",
    "    Checks if num is within 10 of 100 or 200.\n",
    "\n",
    "    Args:\n",
    "        num: An integer or float number.\n",
    "\n",
    "    Returns:\n",
    "        True if num is within 10 of 100 or 200, False otherwise.\n",
    "    \"\"\"\n",
    "    return abs(num - 100) <= 10 or abs(num - 200) <= 10\n",
    "\n",
    "# --- Example Usage ---\n",
    "print(within_10_of_100_or_200(90))   # Expected: True  (within 10 of 100)\n",
    "print(within_10_of_100_or_200(110))  # Expected: True  (within 10 of 100)\n",
    "print(within_10_of_100_or_200(190))  # Expected: True  (within 10 of 200)\n",
    "print(within_10_of_100_or_200(210))  # Expected: True  (within 10 of 200)\n",
    "print(within_10_of_100_or_200(50))   # Expected: False\n",
    "print(within_10_of_100_or_200(220))  # Expected: False\n"
   ]
  },
  {
   "cell_type": "markdown",
   "id": "fedc8718",
   "metadata": {},
   "source": [
    "\n",
    "---\n",
    "\n",
    "### Exercise 33:\n",
    "Write a Python program that checks if a given string is a valid URL.\n"
   ]
  },
  {
   "cell_type": "code",
   "execution_count": 38,
   "id": "756593ce",
   "metadata": {},
   "outputs": [
    {
     "name": "stdout",
     "output_type": "stream",
     "text": [
      "Enter a URL: https://github.com/dida012/TekHer-Python-Basics.git\n",
      "Valid URL.\n"
     ]
    }
   ],
   "source": [
    "# Exercise 33\n",
    "import re\n",
    "\n",
    "def is_valid_url(url):\n",
    "    \"\"\"\n",
    "    Checks if the given string is a valid URL using a regex pattern.\n",
    "\n",
    "    Args:\n",
    "        url: The URL string to validate.\n",
    "\n",
    "    Returns:\n",
    "        True if valid, False otherwise.\n",
    "    \"\"\"\n",
    "    # Basic URL regex pattern\n",
    "    pattern = re.compile(\n",
    "        r'^(https?://)?'          # optional http or https scheme\n",
    "        r'([\\w.-]+)'              # domain or subdomain\n",
    "        r'(\\.[a-zA-Z]{2,})'       # top-level domain like .com, .org\n",
    "        r'(:\\d+)?'                # optional port\n",
    "        r'(/[\\w./?%&=-]*)?$'      # optional path and query string\n",
    "    )\n",
    "    return re.match(pattern, url) is not None\n",
    "\n",
    "# --- Example Usage ---\n",
    "url = input(\"Enter a URL: \")\n",
    "if is_valid_url(url):\n",
    "    print(\"Valid URL.\")\n",
    "else:\n",
    "    print(\"Invalid URL.\")\n"
   ]
  },
  {
   "cell_type": "markdown",
   "id": "13e8fcae",
   "metadata": {},
   "source": [
    "\n",
    "---\n",
    "\n",
    "### Exercise 34:\n",
    "Write a Python program that checks if a list contains all even numbers.\n"
   ]
  },
  {
   "cell_type": "code",
   "execution_count": 39,
   "id": "e3069861",
   "metadata": {},
   "outputs": [
    {
     "name": "stdout",
     "output_type": "stream",
     "text": [
      "All numbers are even.\n"
     ]
    }
   ],
   "source": [
    "# Exercise 34\n",
    "# Sample list of numbers\n",
    "numbers = [2, 4, 6, 8, 10]\n",
    "\n",
    "# Check if all numbers are even\n",
    "if all(num % 2 == 0 for num in numbers):\n",
    "    print(\"All numbers are even.\")\n",
    "else:\n",
    "    print(\"Not all numbers are even.\")\n"
   ]
  },
  {
   "cell_type": "markdown",
   "id": "f19e5362",
   "metadata": {},
   "source": [
    "\n",
    "---\n",
    "\n",
    "### Exercise 35:\n",
    "Write a Python program that checks if a word is longer than a given length.\n"
   ]
  },
  {
   "cell_type": "code",
   "execution_count": 42,
   "id": "491df226",
   "metadata": {},
   "outputs": [
    {
     "name": "stdout",
     "output_type": "stream",
     "text": [
      "Enter a word: Economics \n",
      "Enter the length to compare: 5\n",
      "'Economics ' is longer than 5 characters.\n"
     ]
    }
   ],
   "source": [
    "# Exercise 35\n",
    "# Take input from the user\n",
    "word = input(\"Enter a word: \")\n",
    "length = int(input(\"Enter the length to compare: \"))\n",
    "\n",
    "# Check if the word is longer than the given length\n",
    "if len(word) > length:\n",
    "    print(f\"'{word}' is longer than {length} characters.\")\n",
    "else:\n",
    "    print(f\"'{word}' is NOT longer than {length} characters.\")\n"
   ]
  },
  {
   "cell_type": "markdown",
   "id": "68956c6c",
   "metadata": {},
   "source": [
    "\n",
    "---\n",
    "\n",
    "### Exercise 36:\n",
    "Write a Python program that checks if a list contains only positive numbers.\n"
   ]
  },
  {
   "cell_type": "code",
   "execution_count": 43,
   "id": "09112e89",
   "metadata": {},
   "outputs": [
    {
     "name": "stdout",
     "output_type": "stream",
     "text": [
      "All numbers are positive.\n"
     ]
    }
   ],
   "source": [
    "# Exercise 36\n",
    "# Sample list of numbers\n",
    "numbers = [1, 2, 3, 4, 5]\n",
    "\n",
    "# Check if all numbers are positive\n",
    "if all(num > 0 for num in numbers):\n",
    "    print(\"All numbers are positive.\")\n",
    "else:\n",
    "    print(\"Not all numbers are positive.\")\n"
   ]
  },
  {
   "cell_type": "markdown",
   "id": "14f0333b",
   "metadata": {},
   "source": [
    "\n",
    "---\n",
    "\n",
    "### Exercise 37:\n",
    "Write a Python function that checks if a year is a century year (i.e., divisible by 100).\n"
   ]
  },
  {
   "cell_type": "code",
   "execution_count": 44,
   "id": "9a0ee8fa",
   "metadata": {},
   "outputs": [
    {
     "name": "stdout",
     "output_type": "stream",
     "text": [
      "True\n",
      "True\n",
      "False\n",
      "True\n"
     ]
    }
   ],
   "source": [
    "# Exercise 37\n",
    "def is_century_year(year):\n",
    "    \"\"\"\n",
    "    Checks if a given year is a century year (divisible by 100).\n",
    "\n",
    "    Args:\n",
    "        year: An integer representing the year.\n",
    "\n",
    "    Returns:\n",
    "        True if the year is a century year, False otherwise.\n",
    "    \"\"\"\n",
    "    return year % 100 == 0\n",
    "\n",
    "# --- Example Usage ---\n",
    "print(is_century_year(1900))  # Expected: True\n",
    "print(is_century_year(2000))  # Expected: True\n",
    "print(is_century_year(2021))  # Expected: False\n",
    "print(is_century_year(2100))  # Expected: True\n"
   ]
  },
  {
   "cell_type": "markdown",
   "id": "6271bb93",
   "metadata": {},
   "source": [
    "\n",
    "---\n",
    "\n",
    "### Exercise 38:\n",
    "Write a Python program that checks if the sum of a list of numbers is greater than 100.\n"
   ]
  },
  {
   "cell_type": "code",
   "execution_count": 45,
   "id": "6ddf783b",
   "metadata": {},
   "outputs": [
    {
     "name": "stdout",
     "output_type": "stream",
     "text": [
      "The sum (120) is greater than 100.\n"
     ]
    }
   ],
   "source": [
    "# Exercise 38\n",
    "# Sample list of numbers\n",
    "numbers = [30, 40, 50]\n",
    "\n",
    "# Calculate the sum of the list\n",
    "total = sum(numbers)\n",
    "\n",
    "# Check if the sum is greater than 100\n",
    "if total > 100:\n",
    "    print(f\"The sum ({total}) is greater than 100.\")\n",
    "else:\n",
    "    print(f\"The sum ({total}) is not greater than 100.\")\n"
   ]
  },
  {
   "cell_type": "markdown",
   "id": "8a8b88a8",
   "metadata": {},
   "source": [
    "\n",
    "---\n",
    "\n",
    "### Exercise 39:\n",
    "Write a Python function that checks if a given word is a substring of another string.\n"
   ]
  },
  {
   "cell_type": "code",
   "execution_count": 46,
   "id": "2d077065",
   "metadata": {},
   "outputs": [
    {
     "name": "stdout",
     "output_type": "stream",
     "text": [
      "True\n",
      "False\n",
      "True\n"
     ]
    }
   ],
   "source": [
    "# Exercise 39\n",
    "def is_substring(word, string):\n",
    "    \"\"\"\n",
    "    Checks if 'word' is a substring of 'string'.\n",
    "\n",
    "    Args:\n",
    "        word: The substring to search for.\n",
    "        string: The string to search within.\n",
    "\n",
    "    Returns:\n",
    "        True if 'word' is a substring of 'string', False otherwise.\n",
    "    \"\"\"\n",
    "    return word in string\n",
    "\n",
    "# --- Example Usage ---\n",
    "print(is_substring(\"cat\", \"concatenate\"))  # Expected: True\n",
    "print(is_substring(\"dog\", \"concatenate\"))  # Expected: False\n",
    "print(is_substring(\"hello\", \"hello world\")) # Expected: True\n"
   ]
  },
  {
   "cell_type": "markdown",
   "id": "b21a3bd9",
   "metadata": {},
   "source": [
    "\n",
    "---\n",
    "\n",
    "### Exercise 40:\n",
    "Write a Python program that checks if a number is a power of 2.\n"
   ]
  },
  {
   "cell_type": "code",
   "execution_count": 47,
   "id": "fa1ccd70",
   "metadata": {},
   "outputs": [
    {
     "name": "stdout",
     "output_type": "stream",
     "text": [
      "True\n",
      "True\n",
      "False\n",
      "True\n",
      "False\n"
     ]
    }
   ],
   "source": [
    "# Exercise 40\n",
    "def is_power_of_two(n):\n",
    "    \"\"\"\n",
    "    Checks if a number is a power of 2.\n",
    "\n",
    "    Args:\n",
    "        n: Integer number to check.\n",
    "\n",
    "    Returns:\n",
    "        True if n is a power of 2, False otherwise.\n",
    "    \"\"\"\n",
    "    if n <= 0:\n",
    "        return False\n",
    "    # A power of two has only one bit set in binary\n",
    "    return (n & (n - 1)) == 0\n",
    "\n",
    "# --- Example Usage ---\n",
    "print(is_power_of_two(1))   # Expected: True (2^0)\n",
    "print(is_power_of_two(2))   # Expected: True (2^1)\n",
    "print(is_power_of_two(3))   # Expected: False\n",
    "print(is_power_of_two(16))  # Expected: True (2^4)\n",
    "print(is_power_of_two(18))  # Expected: False\n"
   ]
  },
  {
   "cell_type": "markdown",
   "id": "5ecd119f",
   "metadata": {},
   "source": [
    "\n",
    "---\n",
    "\n",
    "### Exercise 41:\n",
    "Write a Python function that checks if a string contains no spaces.\n"
   ]
  },
  {
   "cell_type": "code",
   "execution_count": 48,
   "id": "8017833e",
   "metadata": {},
   "outputs": [
    {
     "name": "stdout",
     "output_type": "stream",
     "text": [
      "True\n",
      "False\n",
      "True\n"
     ]
    }
   ],
   "source": [
    "# Exercise 41\n",
    "def no_spaces(s):\n",
    "    \"\"\"\n",
    "    Checks if the string contains no spaces.\n",
    "\n",
    "    Args:\n",
    "        s: Input string.\n",
    "\n",
    "    Returns:\n",
    "        True if there are no spaces in the string, False otherwise.\n",
    "    \"\"\"\n",
    "    return ' ' not in s\n",
    "\n",
    "# --- Example Usage ---\n",
    "print(no_spaces(\"HelloWorld\"))  # Expected: True\n",
    "print(no_spaces(\"Hello World\")) # Expected: False\n",
    "print(no_spaces(\"\"))            # Expected: True (empty string has no spaces)\n"
   ]
  },
  {
   "cell_type": "markdown",
   "id": "9b3c2803",
   "metadata": {},
   "source": [
    "\n",
    "---\n",
    "\n",
    "### Exercise 42:\n",
    "Write a Python program that prints \"Yes\" if a number is divisible by both 2 and 3, otherwise it prints \"No.\"\n"
   ]
  },
  {
   "cell_type": "code",
   "execution_count": 49,
   "id": "cdbf39a0",
   "metadata": {},
   "outputs": [
    {
     "name": "stdout",
     "output_type": "stream",
     "text": [
      "Enter a number: 66\n",
      "Yes\n"
     ]
    }
   ],
   "source": [
    "# Exercise 42\n",
    "# Take input from the user\n",
    "number = int(input(\"Enter a number: \"))\n",
    "\n",
    "# Check divisibility by 2 and 3\n",
    "if number % 2 == 0 and number % 3 == 0:\n",
    "    print(\"Yes\")\n",
    "else:\n",
    "    print(\"No\")\n"
   ]
  },
  {
   "cell_type": "markdown",
   "id": "5a691fcf",
   "metadata": {},
   "source": [
    "\n",
    "---\n",
    "\n",
    "### Exercise 43:\n",
    "Write a Python program that checks if a number is a palindrome.\n"
   ]
  },
  {
   "cell_type": "code",
   "execution_count": 50,
   "id": "e7528a0b",
   "metadata": {},
   "outputs": [
    {
     "name": "stdout",
     "output_type": "stream",
     "text": [
      "Enter a number: 55\n",
      "55 is a palindrome.\n"
     ]
    }
   ],
   "source": [
    "# Exercise 43\n",
    "def is_palindrome_number(num):\n",
    "    \"\"\"\n",
    "    Checks if a number is a palindrome.\n",
    "\n",
    "    Args:\n",
    "        num: An integer number.\n",
    "\n",
    "    Returns:\n",
    "        True if the number is a palindrome, False otherwise.\n",
    "    \"\"\"\n",
    "    # Convert the number to string\n",
    "    num_str = str(num)\n",
    "    # Check if string is the same forwards and backwards\n",
    "    return num_str == num_str[::-1]\n",
    "\n",
    "# --- Example Usage ---\n",
    "number = int(input(\"Enter a number: \"))\n",
    "if is_palindrome_number(number):\n",
    "    print(f\"{number} is a palindrome.\")\n",
    "else:\n",
    "    print(f\"{number} is not a palindrome.\")\n"
   ]
  },
  {
   "cell_type": "markdown",
   "id": "49dfa276",
   "metadata": {},
   "source": [
    "\n",
    "---\n",
    "\n",
    "### Exercise 44:\n",
    "Write a Python function that checks if a string is made of only lowercase letters.\n"
   ]
  },
  {
   "cell_type": "code",
   "execution_count": 51,
   "id": "2aa39193",
   "metadata": {},
   "outputs": [
    {
     "name": "stdout",
     "output_type": "stream",
     "text": [
      "True\n",
      "False\n",
      "False\n",
      "False\n"
     ]
    }
   ],
   "source": [
    "# Exercise 44\n",
    "def is_all_lowercase(s):\n",
    "    \"\"\"\n",
    "    Checks if the string contains only lowercase letters.\n",
    "\n",
    "    Args:\n",
    "        s: Input string.\n",
    "\n",
    "    Returns:\n",
    "        True if all characters are lowercase letters, False otherwise.\n",
    "    \"\"\"\n",
    "    return s.isalpha() and s.islower()\n",
    "\n",
    "# --- Example Usage ---\n",
    "print(is_all_lowercase(\"hello\"))      # Expected: True\n",
    "print(is_all_lowercase(\"Hello\"))      # Expected: False\n",
    "print(is_all_lowercase(\"hello123\"))   # Expected: False\n",
    "print(is_all_lowercase(\"\"))           # Expected: False (empty string)\n"
   ]
  },
  {
   "cell_type": "markdown",
   "id": "e5ba21ba",
   "metadata": {},
   "source": [
    "\n",
    "---\n",
    "\n",
    "### Exercise 45:\n",
    "Write a Python program that checks if a string starts with a specific prefix.\n"
   ]
  },
  {
   "cell_type": "code",
   "execution_count": 52,
   "id": "e6670049",
   "metadata": {},
   "outputs": [
    {
     "name": "stdout",
     "output_type": "stream",
     "text": [
      "Enter the string: Establish \n",
      "Enter the prefix to check: ish\n",
      "The string does NOT start with 'ish'.\n"
     ]
    }
   ],
   "source": [
    "# Exercise 45\n",
    "# Take inputs from the user\n",
    "string = input(\"Enter the string: \")\n",
    "prefix = input(\"Enter the prefix to check: \")\n",
    "\n",
    "# Check if the string starts with the prefix\n",
    "if string.startswith(prefix):\n",
    "    print(f\"The string starts with '{prefix}'.\")\n",
    "else:\n",
    "    print(f\"The string does NOT start with '{prefix}'.\")\n"
   ]
  },
  {
   "cell_type": "markdown",
   "id": "1ee0a3b5",
   "metadata": {},
   "source": [
    "\n",
    "---\n",
    "\n",
    "### Exercise 46:\n",
    "Write a Python function that checks if a number is divisible by any number in a given list.\n"
   ]
  },
  {
   "cell_type": "code",
   "execution_count": 53,
   "id": "7d01ccf9",
   "metadata": {},
   "outputs": [
    {
     "name": "stdout",
     "output_type": "stream",
     "text": [
      "True\n",
      "False\n",
      "True\n",
      "True\n"
     ]
    }
   ],
   "source": [
    "# Exercise 46\n",
    "def is_divisible_by_any(number, divisors):\n",
    "    \"\"\"\n",
    "    Checks if 'number' is divisible by any number in the 'divisors' list.\n",
    "\n",
    "    Args:\n",
    "        number: The number to check.\n",
    "        divisors: A list of integers to check divisibility against.\n",
    "\n",
    "    Returns:\n",
    "        True if divisible by any number in the list, False otherwise.\n",
    "    \"\"\"\n",
    "    for d in divisors:\n",
    "        if d != 0 and number % d == 0:\n",
    "            return True\n",
    "    return False\n",
    "\n",
    "# --- Example Usage ---\n",
    "print(is_divisible_by_any(10, [2, 3, 5]))   # Expected: True (divisible by 2 and 5)\n",
    "print(is_divisible_by_any(7, [2, 4, 6]))    # Expected: False\n",
    "print(is_divisible_by_any(15, [4, 5]))      # Expected: True (divisible by 5)\n",
    "print(is_divisible_by_any(0, [1, 2, 3]))    # Expected: True (0 is divisible by all non-zero numbers)\n"
   ]
  },
  {
   "cell_type": "markdown",
   "id": "1563300f",
   "metadata": {},
   "source": [
    "\n",
    "---\n",
    "\n",
    "### Exercise 47:\n",
    "Write a Python program that prints \"Yes\" if a string has more than one occurrence of the same letter.\n"
   ]
  },
  {
   "cell_type": "code",
   "execution_count": 54,
   "id": "923dcbc1",
   "metadata": {},
   "outputs": [
    {
     "name": "stdout",
     "output_type": "stream",
     "text": [
      "Enter a string: Beautiful \n",
      "Yes\n"
     ]
    }
   ],
   "source": [
    "# Exercise 47\n",
    "# Take input from the user\n",
    "string = input(\"Enter a string: \")\n",
    "\n",
    "# Check for any letter occurring more than once\n",
    "if len(set(string)) < len(string):\n",
    "    print(\"Yes\")\n",
    "else:\n",
    "    print(\"No\")\n"
   ]
  },
  {
   "cell_type": "markdown",
   "id": "ecfb7eba",
   "metadata": {},
   "source": [
    "\n",
    "---\n",
    "\n",
    "### Exercise 48:\n",
    "Write a Python function that checks if a number is prime by dividing it by numbers up to its square root.\n"
   ]
  },
  {
   "cell_type": "code",
   "execution_count": 55,
   "id": "3492a570",
   "metadata": {},
   "outputs": [
    {
     "name": "stdout",
     "output_type": "stream",
     "text": [
      "True\n",
      "False\n",
      "True\n",
      "False\n"
     ]
    }
   ],
   "source": [
    "# Exercise 48\n",
    "import math\n",
    "\n",
    "def is_prime(n):\n",
    "    \"\"\"\n",
    "    Checks if a number is prime.\n",
    "\n",
    "    Args:\n",
    "        n: Integer to check.\n",
    "\n",
    "    Returns:\n",
    "        True if n is prime, False otherwise.\n",
    "    \"\"\"\n",
    "    if n <= 1:\n",
    "        return False\n",
    "    if n <= 3:\n",
    "        return True\n",
    "\n",
    "    # If divisible by 2 or 3, not prime\n",
    "    if n % 2 == 0 or n % 3 == 0:\n",
    "        return False\n",
    "\n",
    "    # Check divisibility from 5 to sqrt(n), skipping even numbers\n",
    "    limit = int(math.sqrt(n)) + 1\n",
    "    for i in range(5, limit, 6):\n",
    "        if n % i == 0 or n % (i + 2) == 0:\n",
    "            return False\n",
    "    return True\n",
    "\n",
    "# --- Example Usage ---\n",
    "print(is_prime(29))  # Expected: True\n",
    "print(is_prime(15))  # Expected: False\n",
    "print(is_prime(2))   # Expected: True\n",
    "print(is_prime(1))   # Expected: False\n"
   ]
  },
  {
   "cell_type": "markdown",
   "id": "efb3508c",
   "metadata": {},
   "source": [
    "\n",
    "---\n",
    "\n",
    "### Exercise 49:\n",
    "Write a Python program that checks if a number is within 1 of a multiple of 10.\n"
   ]
  },
  {
   "cell_type": "code",
   "execution_count": 56,
   "id": "fc272cc0",
   "metadata": {},
   "outputs": [
    {
     "name": "stdout",
     "output_type": "stream",
     "text": [
      "Enter a number: 40\n",
      "40 is within 1 of a multiple of 10.\n"
     ]
    }
   ],
   "source": [
    "# Exercise 49\n",
    "# Take input from the user\n",
    "number = int(input(\"Enter a number: \"))\n",
    "\n",
    "# Check if number is within 1 of a multiple of 10\n",
    "if number % 10 <= 1 or number % 10 >= 9:\n",
    "    print(f\"{number} is within 1 of a multiple of 10.\")\n",
    "else:\n",
    "    print(f\"{number} is NOT within 1 of a multiple of 10.\")\n"
   ]
  },
  {
   "cell_type": "markdown",
   "id": "8c58ab68",
   "metadata": {},
   "source": [
    "\n",
    "---\n",
    "\n",
    "### Exercise 50:\n",
    "Write a Python program that prints \"In range\" if a number is between 10 and 20 (inclusive), otherwise it prints \"Out of range.\"\n"
   ]
  },
  {
   "cell_type": "code",
   "execution_count": 57,
   "id": "24ea2036",
   "metadata": {},
   "outputs": [
    {
     "name": "stdout",
     "output_type": "stream",
     "text": [
      "Enter a number: 15\n",
      "In range\n"
     ]
    }
   ],
   "source": [
    "# Exercise 50\n",
    "# Take input from the user\n",
    "number = int(input(\"Enter a number: \"))\n",
    "\n",
    "# Check if number is in range [10, 20]\n",
    "if 10 <= number <= 20:\n",
    "    print(\"In range\")\n",
    "else:\n",
    "    print(\"Out of range\")\n"
   ]
  },
  {
   "cell_type": "markdown",
   "id": "87ccd774",
   "metadata": {},
   "source": [
    "\n",
    "---"
   ]
  }
 ],
 "metadata": {
  "kernelspec": {
   "display_name": "Python 3 (ipykernel)",
   "language": "python",
   "name": "python3"
  },
  "language_info": {
   "codemirror_mode": {
    "name": "ipython",
    "version": 3
   },
   "file_extension": ".py",
   "mimetype": "text/x-python",
   "name": "python",
   "nbconvert_exporter": "python",
   "pygments_lexer": "ipython3",
   "version": "3.11.5"
  }
 },
 "nbformat": 4,
 "nbformat_minor": 5
}
