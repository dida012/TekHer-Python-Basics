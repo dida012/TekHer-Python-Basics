{
 "cells": [
  {
   "cell_type": "markdown",
   "id": "9fd00cef",
   "metadata": {},
   "source": [
    "# Practical_4: Flow control"
   ]
  },
  {
   "cell_type": "markdown",
   "id": "497af3a0",
   "metadata": {},
   "source": [
    "\n",
    "\n",
    "---\n",
    "\n",
    "### Exercise 1:\n",
    "Write a Python program that checks if a number is positive or negative.\n"
   ]
  },
  {
   "cell_type": "code",
   "execution_count": 2,
   "id": "4525d7b1",
   "metadata": {},
   "outputs": [
    {
     "name": "stdout",
     "output_type": "stream",
     "text": [
      "Enter the number-5\n",
      "the number is negative.\n"
     ]
    }
   ],
   "source": [
    "# Exercise 1\n",
    "num = int(input(\"Enter the number\"))\n",
    "#checks if a number is positive or negative\n",
    "if num>0:\n",
    "    print(\"the number is positive.\")\n",
    "elif num<0:\n",
    "    print(\"the number is negative.\")\n",
    "else:\n",
    "    print(\"the number is Zero.\")"
   ]
  },
  {
   "cell_type": "markdown",
   "id": "289c0fec",
   "metadata": {},
   "source": [
    "\n",
    "---\n",
    "\n",
    "### Exercise 2:\n",
    "Write a Python function that checks if a string starts with a vowel.\n"
   ]
  },
  {
   "cell_type": "code",
   "execution_count": 3,
   "id": "3adbe475",
   "metadata": {},
   "outputs": [
    {
     "name": "stdout",
     "output_type": "stream",
     "text": [
      "True\n",
      "False\n",
      "False\n"
     ]
    }
   ],
   "source": [
    "# Exercise 2\n",
    "def starts_with_vowel(word):\n",
    "    vowels = 'aeiouAEIOU'\n",
    "    if word and word[0] in vowels:\n",
    "        return True \n",
    "    return False \n",
    "print(starts_with_vowel(\"Apple\"))\n",
    "print(starts_with_vowel(\"banana\"))\n",
    "print(starts_with_vowel(\"\"))"
   ]
  },
  {
   "cell_type": "markdown",
   "id": "d64fdd3e",
   "metadata": {},
   "source": [
    "\n",
    "---\n",
    "\n",
    "### Exercise 3:\n",
    "Write a Python program that takes a list of integers and prints \"Even\" for each even number and \"Odd\" for each odd number.\n"
   ]
  },
  {
   "cell_type": "code",
   "execution_count": 8,
   "id": "e6926b1c",
   "metadata": {},
   "outputs": [
    {
     "name": "stdout",
     "output_type": "stream",
     "text": [
      "10 is Even\n",
      "37 is Odd\n",
      "8 is Even\n",
      "90 is Even\n",
      "22 is Even\n",
      "21 is Odd\n",
      "33 is Odd\n"
     ]
    }
   ],
   "source": [
    "# Exercise 3\n",
    "#Don't use int(input(...)) when you're entering a list. Use ast.literal_eval() to safely parse the input into a list.\n",
    "#mumbers = int(input(\"Enter the number\"))\n",
    "#numbers = ast.literal_eval(numbers_input)\n",
    "numbers = [10, 37, 8, 90, 22, 21, 33]\n",
    "# loop through the list\n",
    "for num in numbers:\n",
    "    if num % 2 ==0:\n",
    "        print(f\"{num} is Even\")\n",
    "    else:\n",
    "        print(f\"{num} is Odd\")\n",
    "        \n",
    "        "
   ]
  },
  {
   "cell_type": "markdown",
   "id": "b5ce7b99",
   "metadata": {},
   "source": [
    "\n",
    "---\n",
    "\n",
    "### Exercise 4:\n",
    "Write a Python program that checks if a given year is a leap year.\n"
   ]
  },
  {
   "cell_type": "code",
   "execution_count": 9,
   "id": "eb3d99f0",
   "metadata": {},
   "outputs": [
    {
     "name": "stdout",
     "output_type": "stream",
     "text": [
      "2025 is not a leap year.\n"
     ]
    }
   ],
   "source": [
    "# Exercise 4\n",
    "def is_leap_year(year):\n",
    "    # leap year is divisible by 4\n",
    "    #but if it's divisible by 100; it mustalso be divisible by 400\n",
    "    \n",
    "    if (year %4==0) and (year % 100 !=0 or year % 400 ==0):\n",
    "        return True \n",
    "    else:\n",
    "        return False \n",
    "    \n",
    "year = 2025\n",
    "\n",
    "if is_leap_year(year):\n",
    "    print(f\"{year} is a leap year.\")\n",
    "else:\n",
    "    print(f\"{year} is not a leap year.\")"
   ]
  },
  {
   "cell_type": "markdown",
   "id": "c5496d7d",
   "metadata": {},
   "source": [
    "\n",
    "---\n",
    "\n",
    "### Exercise 5:\n",
    "Write a Python function that checks if a number is divisible by both 3 and 5.\n"
   ]
  },
  {
   "cell_type": "code",
   "execution_count": 12,
   "id": "46b1bd68",
   "metadata": {},
   "outputs": [
    {
     "name": "stdout",
     "output_type": "stream",
     "text": [
      "True\n",
      "False\n",
      "False\n"
     ]
    }
   ],
   "source": [
    "# Exercise 5\n",
    "def divisible_by_3_and_5(num):\n",
    "    if num % 3 ==0 and num % 5 ==0:\n",
    "        return True\n",
    "    else:\n",
    "        return False \n",
    "    \n",
    "print(divisible_by_3_and_5(15))\n",
    "print(divisible_by_3_and_5(10))\n",
    "print(divisible_by_3_and_5(9))\n",
    "    "
   ]
  },
  {
   "cell_type": "markdown",
   "id": "b0348707",
   "metadata": {},
   "source": [
    "\n",
    "---\n",
    "\n",
    "### Exercise 6:\n",
    "Write a Python program that prints \"Hot\" if the temperature is above 30, \"Warm\" if it is between 15 and 30, and \"Cold\" if it is below 15.\n"
   ]
  },
  {
   "cell_type": "code",
   "execution_count": 13,
   "id": "dfde8564",
   "metadata": {},
   "outputs": [
    {
     "name": "stdout",
     "output_type": "stream",
     "text": [
      "Enter the temperature25\n",
      "Warm\n"
     ]
    }
   ],
   "source": [
    "# Exercise 6\n",
    "temperature = int(input(\"Enter the temperature\"))\n",
    "# Check the temperature range and print the result\n",
    "if temperature > 30:\n",
    "    print(\"Hot\")\n",
    "elif 15 <= temperature <=30:\n",
    "    print(\"Warm\")\n",
    "else:\n",
    "    print(\"Cold \")"
   ]
  },
  {
   "cell_type": "markdown",
   "id": "ec1d713e",
   "metadata": {},
   "source": [
    "\n",
    "---\n",
    "\n",
    "### Exercise 7:\n",
    "Write a Python program that checks if a string contains the letter 'a'.\n"
   ]
  },
  {
   "cell_type": "code",
   "execution_count": 14,
   "id": "2eb30c57",
   "metadata": {},
   "outputs": [
    {
     "name": "stdout",
     "output_type": "stream",
     "text": [
      "The string contains the letter 'a'.\n"
     ]
    }
   ],
   "source": [
    "# Exercise 7\n",
    "# define the string\n",
    "text = \"Hello, world! was good for the night \"\n",
    "# check if a string contains the letter'a'\n",
    "if 'a' in text:\n",
    "    print(\"The string contains the letter 'a'.\")\n",
    "else:\n",
    "    print(\"The string does not contains the letter 'a'.\")"
   ]
  },
  {
   "cell_type": "markdown",
   "id": "8194f567",
   "metadata": {},
   "source": [
    "\n",
    "---\n",
    "\n",
    "### Exercise 8:\n",
    "Write a Python function that checks if two numbers are equal, or which one is larger.\n"
   ]
  },
  {
   "cell_type": "code",
   "execution_count": 15,
   "id": "ede9943f",
   "metadata": {},
   "outputs": [
    {
     "name": "stdout",
     "output_type": "stream",
     "text": [
      "10 is larger than 5.\n",
      "Both numbers are equal.\n",
      "12 is larger than 3.\n"
     ]
    }
   ],
   "source": [
    "# Exercise 8\n",
    "def compare_numbers(a,b):\n",
    "    if a == b:\n",
    "        return \"Both numbers are equal.\"\n",
    "    elif a > b:\n",
    "        return f\"{a} is larger than {b}.\"\n",
    "    else:\n",
    "        return f\"{b} is larger than {a}.\"\n",
    "    \n",
    "print(compare_numbers(5,10))\n",
    "print(compare_numbers(7,7))\n",
    "print(compare_numbers(12,3))"
   ]
  },
  {
   "cell_type": "markdown",
   "id": "9e86c97f",
   "metadata": {},
   "source": [
    "\n",
    "---\n",
    "\n",
    "### Exercise 9:\n",
    "Write a Python program that checks if a list is empty.\n"
   ]
  },
  {
   "cell_type": "code",
   "execution_count": 17,
   "id": "13738c3f",
   "metadata": {},
   "outputs": [
    {
     "name": "stdout",
     "output_type": "stream",
     "text": [
      "The list is empty\n"
     ]
    }
   ],
   "source": [
    "# Exercise 9\n",
    "# define list\n",
    "my_list = []\n",
    "\n",
    "# check if the list is empty \n",
    "if not my_list:\n",
    "    print(\"The list is empty\")\n",
    "else:\n",
    "    print(\"The list is not empty \")"
   ]
  },
  {
   "cell_type": "markdown",
   "id": "645a85cc",
   "metadata": {},
   "source": [
    "\n",
    "---\n",
    "\n",
    "### Exercise 10:\n",
    "Write a Python function that takes two strings and checks if they are anagrams.\n"
   ]
  },
  {
   "cell_type": "code",
   "execution_count": 21,
   "id": "756b7d46",
   "metadata": {},
   "outputs": [
    {
     "name": "stdout",
     "output_type": "stream",
     "text": [
      "True\n",
      "False\n",
      "False\n"
     ]
    }
   ],
   "source": [
    "# Exercise 10\n",
    "def are_anagrams(str1,str2):\n",
    "    #remove space and convert to lowercase \n",
    "    str1 = str1.replace(\"\",\"\").lower()\n",
    "    str2 = str2.replace(\"\",\"\").lower()\n",
    "    \n",
    "    # check if sorted characters are the same\n",
    "    \n",
    "    return sorted(str1) == sorted(str2)\n",
    "\n",
    "print(are_anagrams(\"listen\", \"silent\"))\n",
    "print(are_anagrams(\"hello\", \"world\"))\n",
    "print(are_anagrams(\"Dormitory\", \"Dirty room\"))"
   ]
  },
  {
   "cell_type": "markdown",
   "id": "59ebce61",
   "metadata": {},
   "source": [
    "\n",
    "---\n",
    "\n",
    "### Exercise 11:\n",
    "Write a Python program that checks if a number is prime.\n"
   ]
  },
  {
   "cell_type": "code",
   "execution_count": 24,
   "id": "b077d9a1",
   "metadata": {},
   "outputs": [
    {
     "name": "stdout",
     "output_type": "stream",
     "text": [
      "Enter the number1\n",
      "1 is not a prime number.\n"
     ]
    }
   ],
   "source": [
    "# Exercise 11\n",
    "def is_prime(num):\n",
    "    if num <= 1:\n",
    "        return False #0 and 1 are not prime\n",
    "    for i in range(2, int(num**0.5) + 1):\n",
    "        if num % i == 0:\n",
    "            return False # found a divisor, not prime\n",
    "        return True\n",
    "number = int(input(\"Enter the number\"))\n",
    "\n",
    "if is_prime(number):\n",
    "    print(f\"{number} is a prime number.\")\n",
    "else:\n",
    "    print(f\"{number} is not a prime number.\")"
   ]
  },
  {
   "cell_type": "markdown",
   "id": "531463b8",
   "metadata": {},
   "source": [
    "\n",
    "---\n",
    "\n",
    "### Exercise 12:\n",
    "Write a Python program that checks if a list of numbers is sorted in ascending order.\n"
   ]
  },
  {
   "cell_type": "code",
   "execution_count": 28,
   "id": "01fc5a9e",
   "metadata": {},
   "outputs": [
    {
     "name": "stdout",
     "output_type": "stream",
     "text": [
      "The list is not sorted in ascending order\n"
     ]
    }
   ],
   "source": [
    "# Exercise 12\n",
    "# define the list\n",
    "numbers = [11,23,34,83,90,77]\n",
    "\n",
    "# check if a list of numbers is sorted in ascending order\n",
    "if numbers == sorted(numbers):\n",
    "        print(\"The list is sorted in ascending order\")\n",
    "        \n",
    "else:\n",
    "    print(\"The list is not sorted in ascending order\")"
   ]
  },
  {
   "cell_type": "markdown",
   "id": "b15a0cca",
   "metadata": {},
   "source": [
    "\n",
    "---\n",
    "\n",
    "### Exercise 13:\n",
    "Write a Python function that takes a character and checks if it is a digit.\n"
   ]
  },
  {
   "cell_type": "code",
   "execution_count": 30,
   "id": "2dc9a053",
   "metadata": {},
   "outputs": [
    {
     "name": "stdout",
     "output_type": "stream",
     "text": [
      "True\n",
      "False\n",
      "True\n",
      "False\n"
     ]
    }
   ],
   "source": [
    "# Exercise 13\n",
    "def is_digit(character):\n",
    "    return character.isdigit()\n",
    "\n",
    "print(is_digit('5'))\n",
    "print(is_digit('a'))\n",
    "print(is_digit('10'))\n",
    "print(is_digit(' '))"
   ]
  },
  {
   "cell_type": "markdown",
   "id": "60190b10",
   "metadata": {},
   "source": [
    "\n",
    "---\n",
    "\n",
    "### Exercise 14:\n",
    "Write a Python function that checks if a string contains only uppercase letters.\n"
   ]
  },
  {
   "cell_type": "code",
   "execution_count": 31,
   "id": "4ed8ebfa",
   "metadata": {},
   "outputs": [
    {
     "name": "stdout",
     "output_type": "stream",
     "text": [
      "True\n",
      "False\n",
      "False\n"
     ]
    }
   ],
   "source": [
    "# Exercise 14\n",
    "def is_all_uppercase(word):\n",
    "    return word.isupper()\n",
    "\n",
    "print(is_all_uppercase(\"HELLO\"))\n",
    "print(is_all_uppercase(\"sell\"))\n",
    "print(is_all_uppercase(\" \"))"
   ]
  },
  {
   "cell_type": "markdown",
   "id": "7f7dd4fd",
   "metadata": {},
   "source": [
    "\n",
    "---\n",
    "\n",
    "### Exercise 15:\n",
    "Write a Python program that checks if a number is a multiple of 10.\n"
   ]
  },
  {
   "cell_type": "code",
   "execution_count": 35,
   "id": "e35d5709",
   "metadata": {},
   "outputs": [
    {
     "name": "stdout",
     "output_type": "stream",
     "text": [
      "90 is a multiple of 10.\n"
     ]
    }
   ],
   "source": [
    "# Exercise 15\n",
    "#define the number \n",
    "number = 90\n",
    "    #check if the number is a multiple of 10\n",
    "if number % 10 == 0:\n",
    "        print(f\"{number} is a multiple of 10.\")\n",
    "else:\n",
    "        print(f\"{number} is not a multiple of 10.\" )"
   ]
  },
  {
   "cell_type": "markdown",
   "id": "83e1c5d3",
   "metadata": {},
   "source": [
    "\n",
    "---\n",
    "\n",
    "### Exercise 16:\n",
    "Write a Python function that checks if a list contains any duplicates.\n"
   ]
  },
  {
   "cell_type": "code",
   "execution_count": 36,
   "id": "24d52edd",
   "metadata": {},
   "outputs": [
    {
     "name": "stdout",
     "output_type": "stream",
     "text": [
      "False\n",
      "True\n"
     ]
    }
   ],
   "source": [
    "# Exercise 16\n",
    "def has_duplicates(list):\n",
    "    return len(list) != len(set(list))\n",
    "\n",
    "print(has_duplicates([1, 2, 3, 4]))        \n",
    "print(has_duplicates([1, 2, 3, 2, 5,3,3]))  "
   ]
  },
  {
   "cell_type": "markdown",
   "id": "d9533146",
   "metadata": {},
   "source": [
    "\n",
    "---\n",
    "\n",
    "### Exercise 17:\n",
    "Write a Python program that prints \"Teenager\" if the age is between 13 and 19, otherwise it prints \"Not a teenager.\"\n"
   ]
  },
  {
   "cell_type": "code",
   "execution_count": 37,
   "id": "bd9212dd",
   "metadata": {},
   "outputs": [
    {
     "name": "stdout",
     "output_type": "stream",
     "text": [
      "Enter the number23\n",
      "Not a teenager.\n"
     ]
    }
   ],
   "source": [
    "# Exercise 17\n",
    "age = int(input(\"Enter the number\"))\n",
    "\n",
    "# check if the age is between 13 and 19\n",
    "\n",
    "if 13 <= age <= 19:\n",
    "    print(\"Teenager\")\n",
    "else:\n",
    "    print(\"Not a teenager.\")"
   ]
  },
  {
   "cell_type": "markdown",
   "id": "370f2ba1",
   "metadata": {},
   "source": [
    "\n",
    "---\n",
    "\n",
    "### Exercise 18:\n",
    "Write a Python function that checks if a list contains an element greater than 100.\n"
   ]
  },
  {
   "cell_type": "code",
   "execution_count": 48,
   "id": "23cde312",
   "metadata": {},
   "outputs": [
    {
     "name": "stdout",
     "output_type": "stream",
     "text": [
      "Enter numbers separated by spaces: 12 34 67 8 9 150\n",
      "The list contains a number greater than 100.\n"
     ]
    }
   ],
   "source": [
    "# Exercise 18\n",
    "def has_greater(list):\n",
    "    # Return True if any element in list is greater than 100\n",
    "    for x in list:\n",
    "        if x > 100:\n",
    "            return True\n",
    "    return False\n",
    "\n",
    "# Let the user input a list of numbers\n",
    "user_input = input(\"Enter numbers separated by spaces: \")\n",
    "num_list = [int(x) for x in user_input.split()]\n",
    "\n",
    "# Call the function and print the result\n",
    "if has_greater(num_list):\n",
    "    print(\"The list contains a number greater than 100.\")\n",
    "else:\n",
    "    print(\"The list does NOT contain any number greater than 100.\")\n"
   ]
  },
  {
   "cell_type": "markdown",
   "id": "322ae5e3",
   "metadata": {},
   "source": [
    "\n",
    "---\n",
    "\n",
    "### Exercise 19:\n",
    "Write a Python program that checks if a number is even or odd.\n"
   ]
  },
  {
   "cell_type": "code",
   "execution_count": 50,
   "id": "a91bd104",
   "metadata": {},
   "outputs": [
    {
     "name": "stdout",
     "output_type": "stream",
     "text": [
      "Enter the number: 12\n",
      "12 is Even.\n"
     ]
    }
   ],
   "source": [
    "# Exercise 19\n",
    "number = int(input(\"Enter the number: \"))\n",
    "#check if the number is even or odd\n",
    "if number % 2 ==0:\n",
    "    print(f\"{number} is Even.\")\n",
    "else:\n",
    "    print(f\"{number} is Odd.\")"
   ]
  },
  {
   "cell_type": "markdown",
   "id": "98e0835d",
   "metadata": {},
   "source": [
    "\n",
    "---\n",
    "\n",
    "### Exercise 20:\n",
    "Write a Python function that checks if a string ends with a punctuation mark.\n"
   ]
  },
  {
   "cell_type": "code",
   "execution_count": 1,
   "id": "31fd2458",
   "metadata": {},
   "outputs": [
    {
     "name": "stdout",
     "output_type": "stream",
     "text": [
      "True\n",
      "False\n",
      "False\n"
     ]
    }
   ],
   "source": [
    "# Exercise 20\n",
    "import string\n",
    "\n",
    "def ends_with_punctuation(word):\n",
    "    if word and word[-1] in string.punctuation:\n",
    "        return True\n",
    "    else:\n",
    "        return False\n",
    "print(ends_with_punctuation(\"Hello!\"))   \n",
    "print(ends_with_punctuation(\"Hi there\")) \n",
    "print(ends_with_punctuation(\"\"))         \n"
   ]
  },
  {
   "cell_type": "markdown",
   "id": "fb313702",
   "metadata": {},
   "source": [
    "\n",
    "---\n",
    "\n",
    "### Exercise 21:\n",
    "Write a Python program that prints \"Yes\" if the number is between 1 and 100, otherwise it prints \"No.\"\n"
   ]
  },
  {
   "cell_type": "code",
   "execution_count": 2,
   "id": "e362bd56",
   "metadata": {},
   "outputs": [
    {
     "name": "stdout",
     "output_type": "stream",
     "text": [
      "Enter a number: 60\n",
      "Yes\n"
     ]
    }
   ],
   "source": [
    "# Exercise 21\n",
    "n = int(input(\"Enter a number: \"))\n",
    "\n",
    "if 1 <= n <= 100:\n",
    "    print(\"Yes\")\n",
    "else:\n",
    "    print(\"No\")\n"
   ]
  },
  {
   "cell_type": "markdown",
   "id": "3afeef94",
   "metadata": {},
   "source": [
    "\n",
    "---\n",
    "\n",
    "### Exercise 22:\n",
    "Write a Python program that checks if two strings have the same length.\n"
   ]
  },
  {
   "cell_type": "code",
   "execution_count": 3,
   "id": "73b75867",
   "metadata": {},
   "outputs": [
    {
     "name": "stdout",
     "output_type": "stream",
     "text": [
      "Enter the first string: hello \n",
      "Enter the second string: sames\n",
      "The strings have different lengths.\n"
     ]
    }
   ],
   "source": [
    "# Exercise 22\n",
    "str1 = input(\"Enter the first string: \")\n",
    "str2 = input(\"Enter the second string: \")\n",
    "\n",
    "if len(str1) == len(str2):\n",
    "    print(\"The strings have the same length.\")\n",
    "else:\n",
    "    print(\"The strings have different lengths.\")\n"
   ]
  },
  {
   "cell_type": "markdown",
   "id": "bdd8e2ae",
   "metadata": {},
   "source": [
    "\n",
    "---\n",
    "\n",
    "### Exercise 23:\n",
    "Write a Python function that checks if a number is greater than its reverse.\n"
   ]
  },
  {
   "cell_type": "code",
   "execution_count": 4,
   "id": "da8ad2f4",
   "metadata": {},
   "outputs": [
    {
     "name": "stdout",
     "output_type": "stream",
     "text": [
      "True\n",
      "True\n",
      "False\n"
     ]
    }
   ],
   "source": [
    "# Exercise 23\n",
    "def is_greater_than_reverse(n):\n",
    "    # Convert the number to a string, reverse it, and convert it back to an integer\n",
    "    reversed_n = int(str(n)[::-1])\n",
    "    return n > reversed_n\n",
    "\n",
    "print(is_greater_than_reverse(73))   \n",
    "print(is_greater_than_reverse(21))   \n",
    "print(is_greater_than_reverse(44))   \n"
   ]
  },
  {
   "cell_type": "markdown",
   "id": "fab070bc",
   "metadata": {},
   "source": [
    "\n",
    "---\n",
    "\n",
    "### Exercise 24:\n",
    "Write a Python program that checks if a password contains both letters and numbers.\n"
   ]
  },
  {
   "cell_type": "code",
   "execution_count": 5,
   "id": "6e22f9b2",
   "metadata": {},
   "outputs": [
    {
     "name": "stdout",
     "output_type": "stream",
     "text": [
      "Enter a password: dida\n",
      "Password is invalid (must contain both letters and numbers).\n"
     ]
    }
   ],
   "source": [
    "# Exercise 24\n",
    "def is_valid_password(password):\n",
    "    has_letter = False\n",
    "    has_digit = False\n",
    "\n",
    "    for char in password:\n",
    "        if char.isalpha():\n",
    "            has_letter = True\n",
    "        elif char.isdigit():\n",
    "            has_digit = True\n",
    "\n",
    "    return has_letter and has_digit\n",
    "\n",
    "# Example usage\n",
    "password = input(\"Enter a password: \")\n",
    "\n",
    "if is_valid_password(password):\n",
    "    print(\"Password is valid (contains both letters and numbers).\")\n",
    "else:\n",
    "    print(\"Password is invalid (must contain both letters and numbers).\")\n"
   ]
  },
  {
   "cell_type": "markdown",
   "id": "11cb6e7b",
   "metadata": {},
   "source": [
    "\n",
    "---\n",
    "\n",
    "### Exercise 25:\n",
    "Write a Python program that checks if a number is between two given numbers.\n"
   ]
  },
  {
   "cell_type": "code",
   "execution_count": 6,
   "id": "38cab028",
   "metadata": {},
   "outputs": [
    {
     "name": "stdout",
     "output_type": "stream",
     "text": [
      "Enter the number to check: 45\n",
      "Enter the lower bound: 2\n",
      "Enter the upper bound: 23\n",
      "The number is NOT between the given bounds.\n"
     ]
    }
   ],
   "source": [
    "# Exercise 25\n",
    "def is_between(num, lower, upper):\n",
    "    return lower <= num <= upper\n",
    "\n",
    "# Example usage\n",
    "number = int(input(\"Enter the number to check: \"))\n",
    "low = int(input(\"Enter the lower bound: \"))\n",
    "high = int(input(\"Enter the upper bound: \"))\n",
    "\n",
    "if is_between(number, low, high):\n",
    "    print(\"The number is between the given bounds.\")\n",
    "else:\n",
    "    print(\"The number is NOT between the given bounds.\")\n"
   ]
  },
  {
   "cell_type": "markdown",
   "id": "50b24a42",
   "metadata": {},
   "source": [
    "\n",
    "---\n",
    "\n",
    "### Exercise 26:\n",
    "Write a Python function that checks if all characters in a string are unique.\n"
   ]
  },
  {
   "cell_type": "code",
   "execution_count": 7,
   "id": "62537159",
   "metadata": {},
   "outputs": [
    {
     "name": "stdout",
     "output_type": "stream",
     "text": [
      "Enter a string: hello\n",
      "There are duplicate characters.\n"
     ]
    }
   ],
   "source": [
    "# Exercise 26\n",
    "def all_unique_characters(s):\n",
    "    return len(set(s)) == len(s)\n",
    "\n",
    "# Get input from the user\n",
    "user_input = input(\"Enter a string: \")\n",
    "\n",
    "# Check and display result\n",
    "if all_unique_characters(user_input):\n",
    "    print(\"All characters are unique.\")\n",
    "else:\n",
    "    print(\"There are duplicate characters.\")\n"
   ]
  },
  {
   "cell_type": "markdown",
   "id": "54ffa82e",
   "metadata": {},
   "source": [
    "\n",
    "---\n",
    "\n",
    "### Exercise 27:\n",
    "Write a Python program that checks if a number is a perfect square.\n"
   ]
  },
  {
   "cell_type": "code",
   "execution_count": 8,
   "id": "dd0707b7",
   "metadata": {},
   "outputs": [
    {
     "name": "stdout",
     "output_type": "stream",
     "text": [
      "Enter a number: 81\n",
      "81 is a perfect square.\n"
     ]
    }
   ],
   "source": [
    "# Exercise 27\n",
    "import math\n",
    "\n",
    "def is_perfect_square(n):\n",
    "    if n < 0:\n",
    "        return False  # Negative numbers can't be perfect squares\n",
    "    root = math.isqrt(n)  # Gets the integer square root (Python 3.8+)\n",
    "    return root * root == n\n",
    "\n",
    "# Example usage\n",
    "number = int(input(\"Enter a number: \"))\n",
    "if is_perfect_square(number):\n",
    "    print(f\"{number} is a perfect square.\")\n",
    "else:\n",
    "    print(f\"{number} is NOT a perfect square.\")\n"
   ]
  },
  {
   "cell_type": "markdown",
   "id": "78349b82",
   "metadata": {},
   "source": [
    "\n",
    "---\n",
    "\n",
    "### Exercise 28:\n",
    "Write a Python function that checks if a word is a palindrome.\n"
   ]
  },
  {
   "cell_type": "code",
   "execution_count": 9,
   "id": "04056d04",
   "metadata": {},
   "outputs": [
    {
     "name": "stdout",
     "output_type": "stream",
     "text": [
      "Enter a word to check if it is a palindrome: racecar\n",
      "\"racecar\" is a palindrome.\n"
     ]
    }
   ],
   "source": [
    "# Exercise 28\n",
    "def is_palindrome(word):\n",
    "    return word == word[::-1]\n",
    "\n",
    "# Get input from the user\n",
    "user_word = input(\"Enter a word to check if it is a palindrome: \")\n",
    "\n",
    "# Check and print result\n",
    "if is_palindrome(user_word):\n",
    "    print(f'\"{user_word}\" is a palindrome.')\n",
    "else:\n",
    "    print(f'\"{user_word}\" is not a palindrome.')\n"
   ]
  },
  {
   "cell_type": "markdown",
   "id": "9728cce0",
   "metadata": {},
   "source": [
    "\n",
    "---\n",
    "\n",
    "### Exercise 29:\n",
    "Write a Python program that prints \"Fizz\" if a number is divisible by 3, \"Buzz\" if it is divisible by 5, and \"FizzBuzz\" if divisible by both.\n"
   ]
  },
  {
   "cell_type": "code",
   "execution_count": 10,
   "id": "d3caedaa",
   "metadata": {},
   "outputs": [
    {
     "name": "stdout",
     "output_type": "stream",
     "text": [
      "Enter a number: 40\n",
      "Buzz\n"
     ]
    }
   ],
   "source": [
    "# Exercise 29\n",
    "def fizzbuzz(n):\n",
    "    if n % 3 == 0 and n % 5 == 0:\n",
    "        print(\"FizzBuzz\")\n",
    "    elif n % 3 == 0:\n",
    "        print(\"Fizz\")\n",
    "    elif n % 5 == 0:\n",
    "        print(\"Buzz\")\n",
    "    else:\n",
    "        print(n)\n",
    "\n",
    "# Example usage:\n",
    "number = int(input(\"Enter a number: \"))\n",
    "fizzbuzz(number)\n"
   ]
  },
  {
   "cell_type": "markdown",
   "id": "b3c19de5",
   "metadata": {},
   "source": [
    "\n",
    "---\n",
    "\n",
    "### Exercise 30:\n",
    "Write a Python program that checks if the sum of the digits of a number is even.\n"
   ]
  },
  {
   "cell_type": "code",
   "execution_count": 11,
   "id": "1d8d47e4",
   "metadata": {},
   "outputs": [
    {
     "name": "stdout",
     "output_type": "stream",
     "text": [
      "Enter a number: 8\n",
      "The sum of the digits is even.\n"
     ]
    }
   ],
   "source": [
    "# Exercise 30\n",
    "def is_sum_of_digits_even(n):\n",
    "    # Convert number to string to iterate over each digit\n",
    "    digits = [int(d) for d in str(abs(n))]  # abs() to handle negative numbers\n",
    "    total = sum(digits)\n",
    "    return total % 2 == 0\n",
    "\n",
    "# Example usage:\n",
    "number = int(input(\"Enter a number: \"))\n",
    "if is_sum_of_digits_even(number):\n",
    "    print(\"The sum of the digits is even.\")\n",
    "else:\n",
    "    print(\"The sum of the digits is odd.\")\n"
   ]
  },
  {
   "cell_type": "markdown",
   "id": "dbe78293",
   "metadata": {},
   "source": [
    "\n",
    "---\n",
    "\n",
    "### Exercise 31:\n",
    "Write a Python program that checks if a string is a valid email address.\n"
   ]
  },
  {
   "cell_type": "code",
   "execution_count": 12,
   "id": "dc64fe29",
   "metadata": {},
   "outputs": [
    {
     "name": "stdout",
     "output_type": "stream",
     "text": [
      "Enter an email address: nyannick123@gmail.com \n",
      "Invalid email address.\n"
     ]
    }
   ],
   "source": [
    "# Exercise 31\n",
    "import re\n",
    "\n",
    "def is_valid_email(email):\n",
    "    # Basic regex pattern for email validation\n",
    "    pattern = r'^[\\w\\.-]+@[\\w\\.-]+\\.\\w+$'\n",
    "    return re.match(pattern, email) is not None\n",
    "\n",
    "# Example usage\n",
    "email = input(\"Enter an email address: \")\n",
    "if is_valid_email(email):\n",
    "    print(\"Valid email address.\")\n",
    "else:\n",
    "    print(\"Invalid email address.\")\n"
   ]
  },
  {
   "cell_type": "markdown",
   "id": "32922851",
   "metadata": {},
   "source": [
    "\n",
    "---\n",
    "\n",
    "### Exercise 32:\n",
    "Write a Python function that checks if a number is within 10 of 100 or 200.\n"
   ]
  },
  {
   "cell_type": "code",
   "execution_count": 13,
   "id": "c3ae205c",
   "metadata": {},
   "outputs": [
    {
     "name": "stdout",
     "output_type": "stream",
     "text": [
      "Enter a number: 90\n",
      "90 is within 10 of 100 or 200.\n"
     ]
    }
   ],
   "source": [
    "# Exercise 32\n",
    "def within_10_of_100_or_200(n):\n",
    "    return abs(100 - n) <= 10 or abs(200 - n) <= 10\n",
    "\n",
    "# Get number from user\n",
    "number = int(input(\"Enter a number: \"))\n",
    "\n",
    "# Check and print result\n",
    "if within_10_of_100_or_200(number):\n",
    "    print(f\"{number} is within 10 of 100 or 200.\")\n",
    "else:\n",
    "    print(f\"{number} is NOT within 10 of 100 or 200.\")\n"
   ]
  },
  {
   "cell_type": "markdown",
   "id": "fedc8718",
   "metadata": {},
   "source": [
    "\n",
    "---\n",
    "\n",
    "### Exercise 33:\n",
    "Write a Python program that checks if a given string is a valid URL.\n"
   ]
  },
  {
   "cell_type": "code",
   "execution_count": null,
   "id": "756593ce",
   "metadata": {},
   "outputs": [],
   "source": [
    "# Exercise 33\n",
    "def is_valid_url(url):\n",
    "    if (url.startswith(\"http://\") or url.startswith(\"https://\")) and \".\" in url:\n",
    "        return True\n",
    "    else:\n",
    "        return False\n",
    "\n",
    "# Get input from user\n",
    "url = input(\"Enter a URL: \")\n",
    "\n",
    "if is_valid_url(url):\n",
    "    print(\"Valid URL.\")\n",
    "else:\n",
    "    print(\"Invalid URL.\")\n",
    "\n",
    "\n"
   ]
  },
  {
   "cell_type": "markdown",
   "id": "13e8fcae",
   "metadata": {},
   "source": [
    "\n",
    "---\n",
    "\n",
    "### Exercise 34:\n",
    "Write a Python program that checks if a list contains all even numbers.\n"
   ]
  },
  {
   "cell_type": "code",
   "execution_count": null,
   "id": "e3069861",
   "metadata": {},
   "outputs": [],
   "source": [
    "# Exercise 34\n",
    "def all_even(numbers):\n",
    "    for num in numbers:\n",
    "        if num % 2 != 0:\n",
    "            return False\n",
    "    return True\n",
    "\n",
    "# Example usage\n",
    "nums = [2, 4, 6, 8]\n",
    "if all_even(nums):\n",
    "    print(\"All numbers are even.\")\n",
    "else:\n",
    "    print(\"Not all numbers are even.\")\n"
   ]
  },
  {
   "cell_type": "markdown",
   "id": "f19e5362",
   "metadata": {},
   "source": [
    "\n",
    "---\n",
    "\n",
    "### Exercise 35:\n",
    "Write a Python program that checks if a word is longer than a given length.\n"
   ]
  },
  {
   "cell_type": "code",
   "execution_count": null,
   "id": "491df226",
   "metadata": {},
   "outputs": [],
   "source": [
    "# Exercise 35\n",
    "def is_longer_than(word, length):\n",
    "    return len(word) > length\n",
    "\n",
    "# Get input from user\n",
    "word = input(\"Enter a word: \")\n",
    "length = int(input(\"Enter the length to compare: \"))\n",
    "\n",
    "# Check and display result\n",
    "if is_longer_than(word, length):\n",
    "    print(f'\"{word}\" is longer than {length} characters.')\n",
    "else:\n",
    "    print(f'\"{word}\" is NOT longer than {length} characters.')\n"
   ]
  },
  {
   "cell_type": "markdown",
   "id": "68956c6c",
   "metadata": {},
   "source": [
    "\n",
    "---\n",
    "\n",
    "### Exercise 36:\n",
    "Write a Python program that checks if a list contains only positive numbers.\n"
   ]
  },
  {
   "cell_type": "code",
   "execution_count": null,
   "id": "09112e89",
   "metadata": {},
   "outputs": [],
   "source": [
    "# Exercise 36\n",
    "def all_positive(numbers):\n",
    "    for num in numbers:\n",
    "        if num <= 0:\n",
    "            return False\n",
    "    return True\n",
    "\n",
    "# Example usage\n",
    "nums = [3, 5, 8, 1, 10]\n",
    "\n",
    "if all_positive(nums):\n",
    "    print(\"All numbers are positive.\")\n",
    "else:\n",
    "    print(\"The list contains zero or negative numbers.\")\n"
   ]
  },
  {
   "cell_type": "markdown",
   "id": "14f0333b",
   "metadata": {},
   "source": [
    "\n",
    "---\n",
    "\n",
    "### Exercise 37:\n",
    "Write a Python function that checks if a year is a century year (i.e., divisible by 100).\n"
   ]
  },
  {
   "cell_type": "code",
   "execution_count": null,
   "id": "9a0ee8fa",
   "metadata": {},
   "outputs": [],
   "source": [
    "# Exercise 37"
   ]
  },
  {
   "cell_type": "markdown",
   "id": "6271bb93",
   "metadata": {},
   "source": [
    "\n",
    "---\n",
    "\n",
    "### Exercise 38:\n",
    "Write a Python program that checks if the sum of a list of numbers is greater than 100.\n"
   ]
  },
  {
   "cell_type": "code",
   "execution_count": null,
   "id": "6ddf783b",
   "metadata": {},
   "outputs": [],
   "source": [
    "# Exercise 38"
   ]
  },
  {
   "cell_type": "markdown",
   "id": "8a8b88a8",
   "metadata": {},
   "source": [
    "\n",
    "---\n",
    "\n",
    "### Exercise 39:\n",
    "Write a Python function that checks if a given word is a substring of another string.\n"
   ]
  },
  {
   "cell_type": "code",
   "execution_count": null,
   "id": "2d077065",
   "metadata": {},
   "outputs": [],
   "source": [
    "# Exercise 39"
   ]
  },
  {
   "cell_type": "markdown",
   "id": "b21a3bd9",
   "metadata": {},
   "source": [
    "\n",
    "---\n",
    "\n",
    "### Exercise 40:\n",
    "Write a Python program that checks if a number is a power of 2.\n"
   ]
  },
  {
   "cell_type": "code",
   "execution_count": null,
   "id": "fa1ccd70",
   "metadata": {},
   "outputs": [],
   "source": [
    "# Exercise 40"
   ]
  },
  {
   "cell_type": "markdown",
   "id": "5ecd119f",
   "metadata": {},
   "source": [
    "\n",
    "---\n",
    "\n",
    "### Exercise 41:\n",
    "Write a Python function that checks if a string contains no spaces.\n"
   ]
  },
  {
   "cell_type": "code",
   "execution_count": null,
   "id": "8017833e",
   "metadata": {},
   "outputs": [],
   "source": [
    "# Exercise 41"
   ]
  },
  {
   "cell_type": "markdown",
   "id": "9b3c2803",
   "metadata": {},
   "source": [
    "\n",
    "---\n",
    "\n",
    "### Exercise 42:\n",
    "Write a Python program that prints \"Yes\" if a number is divisible by both 2 and 3, otherwise it prints \"No.\"\n"
   ]
  },
  {
   "cell_type": "code",
   "execution_count": null,
   "id": "cdbf39a0",
   "metadata": {},
   "outputs": [],
   "source": [
    "# Exercise 42"
   ]
  },
  {
   "cell_type": "markdown",
   "id": "5a691fcf",
   "metadata": {},
   "source": [
    "\n",
    "---\n",
    "\n",
    "### Exercise 43:\n",
    "Write a Python program that checks if a number is a palindrome.\n"
   ]
  },
  {
   "cell_type": "code",
   "execution_count": null,
   "id": "e7528a0b",
   "metadata": {},
   "outputs": [],
   "source": [
    "# Exercise 43"
   ]
  },
  {
   "cell_type": "markdown",
   "id": "49dfa276",
   "metadata": {},
   "source": [
    "\n",
    "---\n",
    "\n",
    "### Exercise 44:\n",
    "Write a Python function that checks if a string is made of only lowercase letters.\n"
   ]
  },
  {
   "cell_type": "code",
   "execution_count": null,
   "id": "2aa39193",
   "metadata": {},
   "outputs": [],
   "source": [
    "# Exercise 44"
   ]
  },
  {
   "cell_type": "markdown",
   "id": "e5ba21ba",
   "metadata": {},
   "source": [
    "\n",
    "---\n",
    "\n",
    "### Exercise 45:\n",
    "Write a Python program that checks if a string starts with a specific prefix.\n"
   ]
  },
  {
   "cell_type": "code",
   "execution_count": null,
   "id": "e6670049",
   "metadata": {},
   "outputs": [],
   "source": [
    "# Exercise 45"
   ]
  },
  {
   "cell_type": "markdown",
   "id": "1ee0a3b5",
   "metadata": {},
   "source": [
    "\n",
    "---\n",
    "\n",
    "### Exercise 46:\n",
    "Write a Python function that checks if a number is divisible by any number in a given list.\n"
   ]
  },
  {
   "cell_type": "code",
   "execution_count": null,
   "id": "7d01ccf9",
   "metadata": {},
   "outputs": [],
   "source": [
    "# Exercise 46"
   ]
  },
  {
   "cell_type": "markdown",
   "id": "1563300f",
   "metadata": {},
   "source": [
    "\n",
    "---\n",
    "\n",
    "### Exercise 47:\n",
    "Write a Python program that prints \"Yes\" if a string has more than one occurrence of the same letter.\n"
   ]
  },
  {
   "cell_type": "code",
   "execution_count": null,
   "id": "923dcbc1",
   "metadata": {},
   "outputs": [],
   "source": [
    "# Exercise 47"
   ]
  },
  {
   "cell_type": "markdown",
   "id": "ecfb7eba",
   "metadata": {},
   "source": [
    "\n",
    "---\n",
    "\n",
    "### Exercise 48:\n",
    "Write a Python function that checks if a number is prime by dividing it by numbers up to its square root.\n"
   ]
  },
  {
   "cell_type": "code",
   "execution_count": null,
   "id": "3492a570",
   "metadata": {},
   "outputs": [],
   "source": [
    "# Exercise 48"
   ]
  },
  {
   "cell_type": "markdown",
   "id": "efb3508c",
   "metadata": {},
   "source": [
    "\n",
    "---\n",
    "\n",
    "### Exercise 49:\n",
    "Write a Python program that checks if a number is within 1 of a multiple of 10.\n"
   ]
  },
  {
   "cell_type": "code",
   "execution_count": null,
   "id": "fc272cc0",
   "metadata": {},
   "outputs": [],
   "source": [
    "# Exercise 49"
   ]
  },
  {
   "cell_type": "markdown",
   "id": "8c58ab68",
   "metadata": {},
   "source": [
    "\n",
    "---\n",
    "\n",
    "### Exercise 50:\n",
    "Write a Python program that prints \"In range\" if a number is between 10 and 20 (inclusive), otherwise it prints \"Out of range.\"\n"
   ]
  },
  {
   "cell_type": "code",
   "execution_count": null,
   "id": "24ea2036",
   "metadata": {},
   "outputs": [],
   "source": [
    "# Exercise 50"
   ]
  },
  {
   "cell_type": "markdown",
   "id": "87ccd774",
   "metadata": {},
   "source": [
    "\n",
    "---"
   ]
  }
 ],
 "metadata": {
  "kernelspec": {
   "display_name": "Python 3 (ipykernel)",
   "language": "python",
   "name": "python3"
  },
  "language_info": {
   "codemirror_mode": {
    "name": "ipython",
    "version": 3
   },
   "file_extension": ".py",
   "mimetype": "text/x-python",
   "name": "python",
   "nbconvert_exporter": "python",
   "pygments_lexer": "ipython3",
   "version": "3.11.5"
  }
 },
 "nbformat": 4,
 "nbformat_minor": 5
}
