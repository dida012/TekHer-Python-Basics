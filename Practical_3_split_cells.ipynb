{
 "cells": [
  {
   "cell_type": "markdown",
   "id": "cb9ebacc",
   "metadata": {},
   "source": [
    "# Practical_3: Iterable objects or Containers"
   ]
  },
  {
   "cell_type": "markdown",
   "id": "95af436e",
   "metadata": {},
   "source": [
    "\n",
    "---\n",
    "\n",
    "### Exercise 1:\n",
    "Create a list of integers from 1 to 10.\n"
   ]
  },
  {
   "cell_type": "code",
   "execution_count": 1,
   "id": "c99db8f5",
   "metadata": {},
   "outputs": [
    {
     "name": "stdout",
     "output_type": "stream",
     "text": [
      "[1, 2, 3, 4, 5, 6, 7, 8, 9]\n"
     ]
    }
   ],
   "source": [
    "# Exercise 1\n",
    "x=list(range(1,10))\n",
    "print(x)"
   ]
  },
  {
   "cell_type": "markdown",
   "id": "03698ae8",
   "metadata": {},
   "source": [
    "\n",
    "---\n",
    "\n",
    "### Exercise 2:\n",
    "Create a tuple containing the elements `\"apple\"`, `\"banana\"`, and `\"cherry\"`.\n"
   ]
  },
  {
   "cell_type": "code",
   "execution_count": 2,
   "id": "e8bad276",
   "metadata": {},
   "outputs": [
    {
     "name": "stdout",
     "output_type": "stream",
     "text": [
      "('apple', 'banana', 'cherry')\n"
     ]
    }
   ],
   "source": [
    "# Exercise 2\n",
    "x=(\"apple\",\"banana\",\"cherry\")\n",
    "x=tuple(x)\n",
    "print(x)"
   ]
  },
  {
   "cell_type": "markdown",
   "id": "f966d443",
   "metadata": {},
   "source": [
    "\n",
    "---\n",
    "\n",
    "### Exercise 3:\n",
    "Convert the list `numbers = [10, 20, 30, 40]` into a tuple.\n"
   ]
  },
  {
   "cell_type": "code",
   "execution_count": 3,
   "id": "82f344f9",
   "metadata": {},
   "outputs": [
    {
     "name": "stdout",
     "output_type": "stream",
     "text": [
      "(10, 20, 30, 40)\n"
     ]
    }
   ],
   "source": [
    "# Exercise 3\n",
    "n=[10,20,30,40]\n",
    "n=tuple(n)\n",
    "print(n) "
   ]
  },
  {
   "cell_type": "markdown",
   "id": "e7116820",
   "metadata": {},
   "source": [
    "\n",
    "---\n",
    "\n",
    "### Exercise 4:\n",
    "Create a set containing the elements `1, 2, 3, 4, 5`.\n"
   ]
  },
  {
   "cell_type": "code",
   "execution_count": 4,
   "id": "eeb3faad",
   "metadata": {},
   "outputs": [
    {
     "name": "stdout",
     "output_type": "stream",
     "text": [
      "{1, 2, 3, 4, 5}\n"
     ]
    }
   ],
   "source": [
    "# Exercise 4\n",
    "x=set(range(1,6))\n",
    "print(x)"
   ]
  },
  {
   "cell_type": "markdown",
   "id": "6ff44a5e",
   "metadata": {},
   "source": [
    "\n",
    "---\n",
    "\n",
    "### Exercise 5:\n",
    "Create a dictionary `student` with the keys `\"name\"`, `\"age\"`, and `\"grade\"` and corresponding values `\"Alice\"`, `20`, and `\"A\"`.\n"
   ]
  },
  {
   "cell_type": "code",
   "execution_count": 5,
   "id": "4343c280",
   "metadata": {},
   "outputs": [
    {
     "name": "stdout",
     "output_type": "stream",
     "text": [
      "{'name': 'Alice', 'age': 20, 'grade': 'A'}\n"
     ]
    }
   ],
   "source": [
    "# Exercise 5\n",
    "student={\"name\":\"Alice\",\"age\":20,\"grade\":\"A\"}\n",
    "print(student)\n"
   ]
  },
  {
   "cell_type": "markdown",
   "id": "e6133eec",
   "metadata": {},
   "source": [
    "\n",
    "---\n",
    "\n",
    "### Exercise 6:\n",
    "Access the second element of the list `[10, 20, 30, 40, 50]` using indexing.\n"
   ]
  },
  {
   "cell_type": "code",
   "execution_count": 6,
   "id": "98325501",
   "metadata": {},
   "outputs": [
    {
     "name": "stdout",
     "output_type": "stream",
     "text": [
      "20\n"
     ]
    }
   ],
   "source": [
    "# Exercise 6\n",
    "x=[10,20,30,40,50]\n",
    "print(x[1])"
   ]
  },
  {
   "cell_type": "markdown",
   "id": "6ad0cee3",
   "metadata": {},
   "source": [
    "\n",
    "---\n",
    "\n",
    "### Exercise 7:\n",
    "Change the third element of the list `fruits = [\"apple\", \"banana\", \"cherry\", \"orange\"]` to `\"mango\"`.\n"
   ]
  },
  {
   "cell_type": "code",
   "execution_count": 7,
   "id": "edf8e912",
   "metadata": {},
   "outputs": [
    {
     "name": "stdout",
     "output_type": "stream",
     "text": [
      "['apple', 'banana', 'mango', 'orange']\n"
     ]
    }
   ],
   "source": [
    "# Exercise 7\n",
    "fruits=[\"apple\",\"banana\",\"cherry\",\"orange\"]\n",
    "fruits[2]=\"mango\"\n",
    "print(fruits)"
   ]
  },
  {
   "cell_type": "markdown",
   "id": "113d5721",
   "metadata": {},
   "source": [
    "\n",
    "---\n",
    "\n",
    "### Exercise 8:\n",
    "Add the number `6` to the set `numbers = {1, 2, 3, 4, 5}`.\n"
   ]
  },
  {
   "cell_type": "code",
   "execution_count": 9,
   "id": "201e7dd8",
   "metadata": {
    "scrolled": true
   },
   "outputs": [
    {
     "name": "stdout",
     "output_type": "stream",
     "text": [
      "{1, 2, 3, 4, 5, 6}\n"
     ]
    }
   ],
   "source": [
    "# Exercise 8\n",
    "number={1,2,3,4,5}\n",
    "number.add(6)\n",
    "print(number)"
   ]
  },
  {
   "cell_type": "code",
   "execution_count": 22,
   "id": "22b5ece4",
   "metadata": {},
   "outputs": [
    {
     "data": {
      "text/plain": [
       "['__and__',\n",
       " '__class__',\n",
       " '__class_getitem__',\n",
       " '__contains__',\n",
       " '__delattr__',\n",
       " '__dir__',\n",
       " '__doc__',\n",
       " '__eq__',\n",
       " '__format__',\n",
       " '__ge__',\n",
       " '__getattribute__',\n",
       " '__getstate__',\n",
       " '__gt__',\n",
       " '__hash__',\n",
       " '__iand__',\n",
       " '__init__',\n",
       " '__init_subclass__',\n",
       " '__ior__',\n",
       " '__isub__',\n",
       " '__iter__',\n",
       " '__ixor__',\n",
       " '__le__',\n",
       " '__len__',\n",
       " '__lt__',\n",
       " '__ne__',\n",
       " '__new__',\n",
       " '__or__',\n",
       " '__rand__',\n",
       " '__reduce__',\n",
       " '__reduce_ex__',\n",
       " '__repr__',\n",
       " '__ror__',\n",
       " '__rsub__',\n",
       " '__rxor__',\n",
       " '__setattr__',\n",
       " '__sizeof__',\n",
       " '__str__',\n",
       " '__sub__',\n",
       " '__subclasshook__',\n",
       " '__xor__',\n",
       " 'add',\n",
       " 'clear',\n",
       " 'copy',\n",
       " 'difference',\n",
       " 'difference_update',\n",
       " 'discard',\n",
       " 'intersection',\n",
       " 'intersection_update',\n",
       " 'isdisjoint',\n",
       " 'issubset',\n",
       " 'issuperset',\n",
       " 'pop',\n",
       " 'remove',\n",
       " 'symmetric_difference',\n",
       " 'symmetric_difference_update',\n",
       " 'union',\n",
       " 'update']"
      ]
     },
     "execution_count": 22,
     "metadata": {},
     "output_type": "execute_result"
    }
   ],
   "source": [
    "dir(number)"
   ]
  },
  {
   "cell_type": "markdown",
   "id": "1fbe664f",
   "metadata": {},
   "source": [
    "\n",
    "---\n",
    "\n",
    "### Exercise 9:\n",
    "Remove the key `\"age\"` from the dictionary `person = {\"name\": \"John\", \"age\": 25, \"city\": \"New York\"}`.\n"
   ]
  },
  {
   "cell_type": "code",
   "execution_count": 10,
   "id": "9df67448",
   "metadata": {},
   "outputs": [
    {
     "name": "stdout",
     "output_type": "stream",
     "text": [
      "{'name': 'John', 'city': 'New York'}\n"
     ]
    }
   ],
   "source": [
    "# Exercise 9\n",
    "person = {\"name\":\"John\",\"age\":25,\"city\":\"New York\"}\n",
    "del person[\"age\"]\n",
    "print(person)"
   ]
  },
  {
   "cell_type": "markdown",
   "id": "7b3e4700",
   "metadata": {},
   "source": [
    "\n",
    "---\n",
    "\n",
    "### Exercise 10:\n",
    "Create a range object starting from 0 to 9.\n"
   ]
  },
  {
   "cell_type": "code",
   "execution_count": 12,
   "id": "5debcc0f",
   "metadata": {},
   "outputs": [
    {
     "name": "stdout",
     "output_type": "stream",
     "text": [
      "range(0, 9)\n"
     ]
    }
   ],
   "source": [
    "# Exercise 10\n",
    "x=range(0,9)\n",
    "#x=(list(x))\n",
    "print(x)"
   ]
  },
  {
   "cell_type": "markdown",
   "id": "c252718b",
   "metadata": {},
   "source": [
    "\n",
    "---\n",
    "\n",
    "### Exercise 11:\n",
    "Use a list comprehension to create a list of squares of numbers from 1 to 10.\n"
   ]
  },
  {
   "cell_type": "code",
   "execution_count": 14,
   "id": "05398773",
   "metadata": {},
   "outputs": [
    {
     "name": "stdout",
     "output_type": "stream",
     "text": [
      "[1, 4, 9, 16, 25, 36, 49, 64, 81]\n"
     ]
    }
   ],
   "source": [
    "\n",
    "x = list(range(1, 10))\n",
    "squares = [i**2 for i in x]\n",
    "print(squares)\n"
   ]
  },
  {
   "cell_type": "markdown",
   "id": "3768839d",
   "metadata": {},
   "source": [
    "\n",
    "---\n",
    "\n",
    "### Exercise 12:\n",
    "Create a tuple of even numbers between 2 and 10 using a tuple comprehension.\n"
   ]
  },
  {
   "cell_type": "code",
   "execution_count": 27,
   "id": "b835355f",
   "metadata": {},
   "outputs": [
    {
     "name": "stdout",
     "output_type": "stream",
     "text": [
      "(2, 4, 6, 8)\n"
     ]
    }
   ],
   "source": [
    "# Exercise 12\n",
    "#x=tuple(range(2,10,2))\n",
    "#print(x)\n",
    "even_numbers = tuple(x for x in range(2, 10) if x % 2 == 0)\n",
    "print(even_numbers)\n",
    "\n"
   ]
  },
  {
   "cell_type": "markdown",
   "id": "101d1b59",
   "metadata": {},
   "source": [
    "\n",
    "---\n",
    "\n",
    "### Exercise 13:\n",
    "Use a for loop to iterate through the list `fruits = [\"apple\", \"banana\", \"cherry\"]` and print each element.\n"
   ]
  },
  {
   "cell_type": "code",
   "execution_count": 33,
   "id": "27fccbc4",
   "metadata": {},
   "outputs": [
    {
     "name": "stdout",
     "output_type": "stream",
     "text": [
      "apple\n",
      "banana\n",
      "cherry\n"
     ]
    }
   ],
   "source": [
    "# Exercise 13\n",
    "fruits = [\"apple\",\"banana\",\"cherry\"]\n",
    "for i in fruits:\n",
    " print(i)"
   ]
  },
  {
   "cell_type": "markdown",
   "id": "a44c67a3",
   "metadata": {},
   "source": [
    "\n",
    "---\n",
    "\n",
    "### Exercise 14:\n",
    "Check if the value `3` exists in the set `numbers = {1, 2, 3, 4, 5}`.\n"
   ]
  },
  {
   "cell_type": "code",
   "execution_count": 40,
   "id": "72e1068d",
   "metadata": {},
   "outputs": [
    {
     "name": "stdout",
     "output_type": "stream",
     "text": [
      "3 exists in the set\n"
     ]
    }
   ],
   "source": [
    "# Exercise 14\n",
    "numbers={1, 2, 3, 4, 5}\n",
    "if 3 in numbers:\n",
    "    print(\"3 exists in the set\")\n",
    "else :\n",
    "        print(\"3 is not exists in the set\")"
   ]
  },
  {
   "cell_type": "markdown",
   "id": "c80a4ba4",
   "metadata": {},
   "source": [
    "\n",
    "---\n",
    "\n",
    "### Exercise 15:\n",
    "Use the `len()` function to find the length of the tuple `numbers = (10, 20, 30)`.\n"
   ]
  },
  {
   "cell_type": "code",
   "execution_count": 41,
   "id": "82d5bb30",
   "metadata": {},
   "outputs": [
    {
     "name": "stdout",
     "output_type": "stream",
     "text": [
      "3\n"
     ]
    }
   ],
   "source": [
    "# Exercise 15\n",
    "numbers = (10, 20, 30)\n",
    "numbers =len(numbers)\n",
    "print(numbers)"
   ]
  },
  {
   "cell_type": "markdown",
   "id": "5b491bb0",
   "metadata": {},
   "source": [
    "\n",
    "---\n",
    "\n",
    "### Exercise 16:\n",
    "Add the value `100` at the end of the list `scores = [80, 85, 90, 95]`.\n"
   ]
  },
  {
   "cell_type": "code",
   "execution_count": 43,
   "id": "3a6f2e42",
   "metadata": {},
   "outputs": [
    {
     "name": "stdout",
     "output_type": "stream",
     "text": [
      "[80, 85, 90, 95, 100]\n"
     ]
    }
   ],
   "source": [
    "# Exercise 16\n",
    "scores = [80, 85, 90, 95]\n",
    "scores.append(100)\n",
    "print(scores)"
   ]
  },
  {
   "cell_type": "markdown",
   "id": "0ee5adfc",
   "metadata": {},
   "source": [
    "\n",
    "---\n",
    "\n",
    "### Exercise 17:\n",
    "Write a function that takes a list as input and returns the sum of all elements in the list.\n"
   ]
  },
  {
   "cell_type": "code",
   "execution_count": 57,
   "id": "3e2870ac",
   "metadata": {},
   "outputs": [
    {
     "name": "stdout",
     "output_type": "stream",
     "text": [
      "15\n"
     ]
    }
   ],
   "source": [
    "# Exercise 16\n",
    "def sum_of_list(numbers):\n",
    "    Ans = 0\n",
    "    for num in numbers:\n",
    "        Ans += num\n",
    "    return Ans\n",
    "\n",
    "# Define the list\n",
    "num_list = [1, 2, 3, 4, 5]\n",
    "#input(\"Enter the numbers\")\n",
    "# Call the function and print the result\n",
    "print(sum_of_list(num_list))\n",
    "\n"
   ]
  },
  {
   "cell_type": "code",
   "execution_count": null,
   "id": "700ab8af",
   "metadata": {},
   "outputs": [],
   "source": []
  },
  {
   "cell_type": "markdown",
   "id": "35d5d0b1",
   "metadata": {},
   "source": [
    "\n",
    "---\n",
    "\n",
    "### Exercise 18:\n",
    "Create a set containing the unique elements of the list `numbers = [1, 2, 2, 3, 4, 4, 5]`.\n"
   ]
  },
  {
   "cell_type": "code",
   "execution_count": 58,
   "id": "e2f801ad",
   "metadata": {},
   "outputs": [
    {
     "name": "stdout",
     "output_type": "stream",
     "text": [
      "{1, 2, 3, 4, 5}\n"
     ]
    }
   ],
   "source": [
    "# Exercise 18\n",
    "numbers = [1, 2, 2, 3, 4, 4, 5]\n",
    "unique_numbers = set(numbers)\n",
    "print(unique_numbers)"
   ]
  },
  {
   "cell_type": "markdown",
   "id": "6c102900",
   "metadata": {},
   "source": [
    "\n",
    "---\n",
    "\n",
    "### Exercise 19:\n",
    "Convert the string `\"hello\"` into a list of characters.\n"
   ]
  },
  {
   "cell_type": "code",
   "execution_count": 59,
   "id": "07c63fed",
   "metadata": {},
   "outputs": [
    {
     "name": "stdout",
     "output_type": "stream",
     "text": [
      "['h', 'e', 'l', 'l', 'o']\n"
     ]
    }
   ],
   "source": [
    "# Exercise 19\n",
    "my_string = \"hello\"\n",
    "list_of_characters = list(my_string)\n",
    "print(list_of_characters)"
   ]
  },
  {
   "cell_type": "markdown",
   "id": "c22d6b97",
   "metadata": {},
   "source": [
    "\n",
    "---\n",
    "\n",
    "### Exercise 20:\n",
    "Write a Python function that reverses a tuple `(1, 2, 3, 4)`.\n"
   ]
  },
  {
   "cell_type": "code",
   "execution_count": 64,
   "id": "e2a7b1be",
   "metadata": {},
   "outputs": [
    {
     "name": "stdout",
     "output_type": "stream",
     "text": [
      "(4, 3, 2, 1)\n"
     ]
    }
   ],
   "source": [
    "# Exercise 20\n",
    "def reverse_tuple(x):\n",
    "    return x[::-1]\n",
    "\n",
    "# Example usage\n",
    "original_tuple = (1, 2, 3, 4)\n",
    "reversed_tuple = reverse_tuple(original_tuple)\n",
    "print(reversed_tuple)\n"
   ]
  },
  {
   "cell_type": "markdown",
   "id": "4c12cf45",
   "metadata": {},
   "source": [
    "\n",
    "---\n",
    "\n",
    "### Exercise 21:\n",
    "Merge two dictionaries `dict1 = {\"a\": 1, \"b\": 2}` and `dict2 = {\"c\": 3, \"d\": 4}` into a single dictionary.\n"
   ]
  },
  {
   "cell_type": "code",
   "execution_count": 66,
   "id": "537c61a1",
   "metadata": {},
   "outputs": [
    {
     "name": "stdout",
     "output_type": "stream",
     "text": [
      "{'a': 1, 'b': 2, 'c': 3, 'd': 4}\n"
     ]
    }
   ],
   "source": [
    "# Exercise 21\n",
    "dict1={\"a\": 1, \"b\": 2}\n",
    "dict2={\"c\": 3, \"d\": 4}\n",
    "\n",
    "merged_dict = {**dict1, **dict2}\n",
    "print(merged_dict)"
   ]
  },
  {
   "cell_type": "markdown",
   "id": "752fc2f0",
   "metadata": {},
   "source": [
    "\n",
    "---\n",
    "\n",
    "### Exercise 22:\n",
    "Create a dictionary where keys are numbers from 1 to 5, and values are their squares.\n"
   ]
  },
  {
   "cell_type": "code",
   "execution_count": 68,
   "id": "f4b8b50a",
   "metadata": {},
   "outputs": [
    {
     "name": "stdout",
     "output_type": "stream",
     "text": [
      "{1: 1, 2: 4, 3: 9, 4: 16}\n"
     ]
    }
   ],
   "source": [
    "# Exercise 22\n",
    "squares = {x: x**2 for x in range(1, 5)}\n",
    "print(squares)\n"
   ]
  },
  {
   "cell_type": "markdown",
   "id": "87925b31",
   "metadata": {},
   "source": [
    "\n",
    "---\n",
    "\n",
    "### Exercise 23:\n",
    "Write a Python program to iterate through a dictionary and print each key-value pair.\n"
   ]
  },
  {
   "cell_type": "code",
   "execution_count": 3,
   "id": "65c5827c",
   "metadata": {},
   "outputs": [
    {
     "name": "stdout",
     "output_type": "stream",
     "text": [
      "name: Annick\n",
      "age: 28\n",
      "city: Kigali\n"
     ]
    }
   ],
   "source": [
    "# Exercise 23\n",
    "# Example dictionary\n",
    "my_dict = {\n",
    "    \"name\": \"Annick\",\n",
    "    \"age\": 28,\n",
    "    \"city\": \"Kigali\"\n",
    "}\n",
    "\n",
    "# Iterate and print key-value pairs\n",
    "for key, value in my_dict.items():\n",
    "    print(f\"{key}: {value}\")\n"
   ]
  },
  {
   "cell_type": "markdown",
   "id": "291aba22",
   "metadata": {},
   "source": [
    "\n",
    "---\n",
    "\n",
    "### Exercise 24:\n",
    "Create a list of the first 5 letters of the alphabet using the `chr()` function.\n"
   ]
  },
  {
   "cell_type": "code",
   "execution_count": 4,
   "id": "ad91182e",
   "metadata": {},
   "outputs": [
    {
     "name": "stdout",
     "output_type": "stream",
     "text": [
      "['a', 'b', 'c', 'd', 'e']\n"
     ]
    }
   ],
   "source": [
    "# Exercise 24\n",
    "# Create the list using chr() and list comprehension\n",
    "first_five_letters = [chr(97 + i) for i in range(5)]\n",
    "\n",
    "print(first_five_letters)\n"
   ]
  },
  {
   "cell_type": "markdown",
   "id": "b26fbe9e",
   "metadata": {},
   "source": [
    "\n",
    "---\n",
    "\n",
    "### Exercise 25:\n",
    "Use the `zip()` function to combine two lists `[1, 2, 3]` and `[\"a\", \"b\", \"c\"]` into a list of tuples.\n"
   ]
  },
  {
   "cell_type": "code",
   "execution_count": 5,
   "id": "acbd5a20",
   "metadata": {},
   "outputs": [
    {
     "name": "stdout",
     "output_type": "stream",
     "text": [
      "[(1, 'a'), (2, 'b'), (3, 'c')]\n"
     ]
    }
   ],
   "source": [
    "# Exercise 25\n",
    "# Two lists\n",
    "list1 = [1, 2, 3]\n",
    "list2 = [\"a\", \"b\", \"c\"]\n",
    "\n",
    "# Combine using zip()\n",
    "combined_list = list(zip(list1, list2))\n",
    "\n",
    "print(combined_list)\n"
   ]
  },
  {
   "cell_type": "markdown",
   "id": "fb1b544b",
   "metadata": {},
   "source": [
    "\n",
    "---\n",
    "\n",
    "### Exercise 26:\n",
    "Find the index of the value `50` in the list `[10, 20, 30, 40, 50]`.\n"
   ]
  },
  {
   "cell_type": "code",
   "execution_count": 6,
   "id": "4be341e2",
   "metadata": {},
   "outputs": [
    {
     "name": "stdout",
     "output_type": "stream",
     "text": [
      "The index of 50 is: 4\n"
     ]
    }
   ],
   "source": [
    "# Exercise 26\n",
    "# The list\n",
    "numbers = [10, 20, 30, 40, 50]\n",
    "\n",
    "# Find the index of 50\n",
    "index_50 = numbers.index(50)\n",
    "\n",
    "print(f\"The index of 50 is: {index_50}\")\n"
   ]
  },
  {
   "cell_type": "markdown",
   "id": "cc1f1bbc",
   "metadata": {},
   "source": [
    "\n",
    "---\n",
    "\n",
    "### Exercise 27:\n",
    "Sort the list `names = [\"Alice\", \"Bob\", \"Charlie\", \"David\"]` in alphabetical order.\n"
   ]
  },
  {
   "cell_type": "code",
   "execution_count": 7,
   "id": "5da06905",
   "metadata": {},
   "outputs": [
    {
     "name": "stdout",
     "output_type": "stream",
     "text": [
      "['Alice', 'Bob', 'Charlie', 'David']\n"
     ]
    }
   ],
   "source": [
    "# Exercise 27\n",
    "# The list of names\n",
    "names = [\"Alice\", \"Bob\", \"Charlie\", \"David\"]\n",
    "\n",
    "# Sort the list in alphabetical order\n",
    "names.sort()\n",
    "\n",
    "print(names)\n"
   ]
  },
  {
   "cell_type": "markdown",
   "id": "cac11304",
   "metadata": {},
   "source": [
    "\n",
    "---\n",
    "\n",
    "### Exercise 28:\n",
    "Write a Python function that takes a list of integers as input and returns the largest number.\n"
   ]
  },
  {
   "cell_type": "code",
   "execution_count": 8,
   "id": "1bfc6919",
   "metadata": {},
   "outputs": [
    {
     "name": "stdout",
     "output_type": "stream",
     "text": [
      "5\n",
      "-1\n",
      "None\n"
     ]
    }
   ],
   "source": [
    "# Exercise 28\n",
    "def find_largest(numbers):\n",
    "    \"\"\"\n",
    "    Returns the largest number in a list.\n",
    "    If the list is empty, returns None.\n",
    "    \"\"\"\n",
    "    if not numbers:\n",
    "        return None  # Return None for an empty list\n",
    "\n",
    "    largest = numbers[0]\n",
    "    for num in numbers:\n",
    "        if num > largest:\n",
    "            largest = num\n",
    "    return largest\n",
    "\n",
    "# --- Example Usage ---\n",
    "print(find_largest([1, 2, 3, 4, 5]))  # Expected: 5\n",
    "print(find_largest([-10, -5, -1]))    # Expected: -1\n",
    "print(find_largest([]))               # Expected: None\n"
   ]
  },
  {
   "cell_type": "markdown",
   "id": "d90195b7",
   "metadata": {},
   "source": [
    "\n",
    "---\n",
    "\n",
    "### Exercise 29:\n",
    "Use the `count()` method to count how many times `\"apple\"` appears in the list `fruits = [\"apple\", \"banana\", \"apple\", \"orange\"]`.\n"
   ]
  },
  {
   "cell_type": "code",
   "execution_count": 9,
   "id": "8a8448c7",
   "metadata": {},
   "outputs": [
    {
     "name": "stdout",
     "output_type": "stream",
     "text": [
      "'apple' appears 2 times in the list.\n"
     ]
    }
   ],
   "source": [
    "# Exercise 29\n",
    "# The list of fruits\n",
    "fruits = [\"apple\", \"banana\", \"apple\", \"orange\"]\n",
    "\n",
    "# Use count() to count the occurrences of \"apple\"\n",
    "apple_count = fruits.count(\"apple\")\n",
    "\n",
    "print(f\"'apple' appears {apple_count} times in the list.\")\n"
   ]
  },
  {
   "cell_type": "markdown",
   "id": "45c41ffe",
   "metadata": {},
   "source": [
    "\n",
    "---\n",
    "\n",
    "### Exercise 30:\n",
    "Create a dictionary `person` where keys are `\"name\"`, `\"age\"`, and `\"city\"`, and values are `\"Alice\"`, `25`, and `\"New York\"` respectively. Then access the value of the `\"city\"` key.\n"
   ]
  },
  {
   "cell_type": "code",
   "execution_count": 10,
   "id": "01c8b6e2",
   "metadata": {},
   "outputs": [
    {
     "name": "stdout",
     "output_type": "stream",
     "text": [
      "The value of the 'city' key is: New York\n"
     ]
    }
   ],
   "source": [
    "# Exercise 30\n",
    "# Create the dictionary\n",
    "person = {\n",
    "    \"name\": \"Alice\",\n",
    "    \"age\": 25,\n",
    "    \"city\": \"New York\"\n",
    "}\n",
    "\n",
    "# Access the value of the \"city\" key\n",
    "city_value = person[\"city\"]\n",
    "\n",
    "print(f\"The value of the 'city' key is: {city_value}\")\n"
   ]
  },
  {
   "cell_type": "markdown",
   "id": "0b95c68b",
   "metadata": {},
   "source": [
    "\n",
    "---\n",
    "\n",
    "### Exercise 31:\n",
    "Write a Python function that takes a list as input and returns a new list with all duplicates removed.\n"
   ]
  },
  {
   "cell_type": "code",
   "execution_count": 11,
   "id": "5fc377d7",
   "metadata": {},
   "outputs": [
    {
     "name": "stdout",
     "output_type": "stream",
     "text": [
      "[1, 2, 3, 4, 5]\n"
     ]
    }
   ],
   "source": [
    "# Exercise 31\n",
    "def remove_duplicates(input_list):\n",
    "    \"\"\"\n",
    "    Takes a list and returns a new list with duplicates removed.\n",
    "    \"\"\"\n",
    "    # Use set() to remove duplicates, then convert back to list\n",
    "    return list(set(input_list))\n",
    "\n",
    "# --- Example Usage ---\n",
    "print(remove_duplicates([1, 2, 2, 3, 4, 4, 5]))  # Expected: [1, 2, 3, 4, 5]\n"
   ]
  },
  {
   "cell_type": "markdown",
   "id": "8ee587cd",
   "metadata": {},
   "source": [
    "\n",
    "---\n",
    "\n",
    "### Exercise 32:\n",
    "Write a Python function that takes two lists and returns their intersection.\n"
   ]
  },
  {
   "cell_type": "code",
   "execution_count": 12,
   "id": "dd7c0e7a",
   "metadata": {},
   "outputs": [
    {
     "name": "stdout",
     "output_type": "stream",
     "text": [
      "[3, 4]\n",
      "['b', 'c']\n"
     ]
    }
   ],
   "source": [
    "# Exercise 32\n",
    "def list_intersection(list1, list2):\n",
    "    \"\"\"\n",
    "    Returns a list containing the intersection of list1 and list2.\n",
    "    \"\"\"\n",
    "    return list(set(list1) & set(list2))\n",
    "\n",
    "# --- Example Usage ---\n",
    "print(list_intersection([1, 2, 3, 4], [3, 4, 5, 6]))  # Expected: [3, 4]\n",
    "print(list_intersection(['a', 'b', 'c'], ['b', 'c', 'd']))  # Expected: ['b', 'c']\n"
   ]
  },
  {
   "cell_type": "markdown",
   "id": "57d89740",
   "metadata": {},
   "source": [
    "\n",
    "---\n",
    "\n",
    "### Exercise 33:\n",
    "Create a generator that yields the squares of numbers from 1 to 10.\n"
   ]
  },
  {
   "cell_type": "code",
   "execution_count": 13,
   "id": "b83f66a7",
   "metadata": {},
   "outputs": [
    {
     "name": "stdout",
     "output_type": "stream",
     "text": [
      "1\n",
      "4\n",
      "9\n",
      "16\n",
      "25\n",
      "36\n",
      "49\n",
      "64\n",
      "81\n",
      "100\n"
     ]
    }
   ],
   "source": [
    "# Exercise 33\n",
    "def squares_generator():\n",
    "    for i in range(1, 11):\n",
    "        yield i ** 2\n",
    "\n",
    "# Example usage:\n",
    "for square in squares_generator():\n",
    "    print(square)\n"
   ]
  },
  {
   "cell_type": "markdown",
   "id": "662d4f36",
   "metadata": {},
   "source": [
    "\n",
    "---\n",
    "\n",
    "### Exercise 34:\n",
    "Write a Python function that takes a dictionary as input and returns the sum of all its values.\n"
   ]
  },
  {
   "cell_type": "code",
   "execution_count": 14,
   "id": "7c119210",
   "metadata": {},
   "outputs": [
    {
     "name": "stdout",
     "output_type": "stream",
     "text": [
      "60\n"
     ]
    }
   ],
   "source": [
    "# Exercise 34\n",
    "def sum_dict_values(d):\n",
    "    \"\"\"\n",
    "    Returns the sum of all values in the dictionary d.\n",
    "    \"\"\"\n",
    "    return sum(d.values())\n",
    "\n",
    "# --- Example Usage ---\n",
    "example_dict = {'a': 10, 'b': 20, 'c': 30}\n",
    "print(sum_dict_values(example_dict))  \n"
   ]
  },
  {
   "cell_type": "markdown",
   "id": "6e6330bd",
   "metadata": {},
   "source": [
    "\n",
    "---\n",
    "\n",
    "### Exercise 35:\n",
    "Use the `sorted()` function to sort the list `[3, 1, 4, 1, 5, 9]` in ascending order.\n"
   ]
  },
  {
   "cell_type": "code",
   "execution_count": 15,
   "id": "cc89b4b3",
   "metadata": {},
   "outputs": [
    {
     "name": "stdout",
     "output_type": "stream",
     "text": [
      "[1, 1, 3, 4, 5, 9]\n"
     ]
    }
   ],
   "source": [
    "# Exercise 35\n",
    "numbers = [3, 1, 4, 1, 5, 9]\n",
    "\n",
    "sorted_numbers = sorted(numbers)\n",
    "\n",
    "print(sorted_numbers)\n"
   ]
  },
  {
   "cell_type": "markdown",
   "id": "a0faab20",
   "metadata": {},
   "source": [
    "\n",
    "---\n",
    "\n",
    "### Exercise 36:\n",
    "Write a Python function that takes a list of strings as input and returns the longest string.\n"
   ]
  },
  {
   "cell_type": "code",
   "execution_count": 16,
   "id": "f9f10963",
   "metadata": {},
   "outputs": [
    {
     "name": "stdout",
     "output_type": "stream",
     "text": [
      "banana\n",
      "None\n"
     ]
    }
   ],
   "source": [
    "# Exercise 36\n",
    "def longest_string(strings):\n",
    "    \"\"\"\n",
    "    Returns the longest string from the list.\n",
    "    If the list is empty, returns None.\n",
    "    \"\"\"\n",
    "    if not strings:\n",
    "        return None  # Handle empty list\n",
    "\n",
    "    longest = strings[0]\n",
    "    for s in strings:\n",
    "        if len(s) > len(longest):\n",
    "            longest = s\n",
    "    return longest\n",
    "\n",
    "# --- Example Usage ---\n",
    "print(longest_string([\"apple\", \"banana\", \"cherry\", \"date\"]))  # Expected: \"banana\"\n",
    "print(longest_string([]))  # Expected: None\n"
   ]
  },
  {
   "cell_type": "markdown",
   "id": "b607894e",
   "metadata": {},
   "source": [
    "\n",
    "---\n",
    "\n",
    "### Exercise 37:\n",
    "Check if all the elements in the list `[1, 2, 3, 4, 5]` are greater than 0 using the `all()` function.\n"
   ]
  },
  {
   "cell_type": "code",
   "execution_count": 17,
   "id": "2c70c929",
   "metadata": {},
   "outputs": [
    {
     "name": "stdout",
     "output_type": "stream",
     "text": [
      "True\n"
     ]
    }
   ],
   "source": [
    "# Exercise 37\n",
    "numbers = [1, 2, 3, 4, 5]\n",
    "\n",
    "all_greater_than_zero = all(num > 0 for num in numbers)\n",
    "\n",
    "print(all_greater_than_zero)  \n"
   ]
  },
  {
   "cell_type": "markdown",
   "id": "c7a96b9d",
   "metadata": {},
   "source": [
    "\n",
    "---\n",
    "\n",
    "### Exercise 38:\n",
    "Create a list of tuples where each tuple contains a number and its square for numbers from 1 to 5.\n"
   ]
  },
  {
   "cell_type": "code",
   "execution_count": 18,
   "id": "5957f979",
   "metadata": {},
   "outputs": [
    {
     "name": "stdout",
     "output_type": "stream",
     "text": [
      "[(1, 1), (2, 4), (3, 9), (4, 16), (5, 25)]\n"
     ]
    }
   ],
   "source": [
    "# Exercise 38\n",
    "# Using list comprehension\n",
    "number_square_tuples = [(i, i**2) for i in range(1, 6)]\n",
    "\n",
    "print(number_square_tuples)\n"
   ]
  },
  {
   "cell_type": "markdown",
   "id": "81c8b43e",
   "metadata": {},
   "source": [
    "\n",
    "---\n",
    "\n",
    "### Exercise 39:\n",
    "Write a Python function that takes a list of tuples and returns a list of the second elements from each tuple.\n"
   ]
  },
  {
   "cell_type": "code",
   "execution_count": 19,
   "id": "524043c8",
   "metadata": {},
   "outputs": [
    {
     "name": "stdout",
     "output_type": "stream",
     "text": [
      "['a', 'b', 'c']\n"
     ]
    }
   ],
   "source": [
    "# Exercise 39\n",
    "def get_second_elements(tuple_list):\n",
    "    \"\"\"\n",
    "    Returns a list of the second elements from each tuple in the input list.\n",
    "    \"\"\"\n",
    "    return [t[1] for t in tuple_list]\n",
    "\n",
    "# --- Example Usage ---\n",
    "tuples = [(1, 'a'), (2, 'b'), (3, 'c')]\n",
    "print(get_second_elements(tuples))  \n"
   ]
  },
  {
   "cell_type": "markdown",
   "id": "48bc26d7",
   "metadata": {},
   "source": [
    "\n",
    "---\n",
    "\n",
    "### Exercise 40:\n",
    "Write a Python function that flattens a list of lists into a single list.\n"
   ]
  },
  {
   "cell_type": "code",
   "execution_count": 20,
   "id": "b944b52c",
   "metadata": {},
   "outputs": [
    {
     "name": "stdout",
     "output_type": "stream",
     "text": [
      "[1, 2, 3, 4, 5]\n"
     ]
    }
   ],
   "source": [
    "# Exercise 40\n",
    "def flatten_list(list_of_lists):\n",
    "    \"\"\"\n",
    "    Flattens a list of lists into a single list.\n",
    "    \"\"\"\n",
    "    flattened = []\n",
    "    for sublist in list_of_lists:\n",
    "        flattened.extend(sublist)\n",
    "    return flattened\n",
    "\n",
    "# --- Example Usage ---\n",
    "nested_list = [[1, 2], [3, 4], [5]]\n",
    "print(flatten_list(nested_list))  # Expected: [1, 2, 3, 4, 5]\n"
   ]
  },
  {
   "cell_type": "markdown",
   "id": "89e77dfb",
   "metadata": {},
   "source": [
    "\n",
    "---\n",
    "\n",
    "### Exercise 41:\n",
    "Use the `enumerate()` function to iterate through the list `[\"apple\", \"banana\", \"cherry\"]` and print the index and value.\n"
   ]
  },
  {
   "cell_type": "code",
   "execution_count": 21,
   "id": "287d36e1",
   "metadata": {},
   "outputs": [
    {
     "name": "stdout",
     "output_type": "stream",
     "text": [
      "Index: 0, Value: apple\n",
      "Index: 1, Value: banana\n",
      "Index: 2, Value: cherry\n"
     ]
    }
   ],
   "source": [
    "# Exercise 41\n",
    "fruits = [\"apple\", \"banana\", \"cherry\"]\n",
    "\n",
    "for index, value in enumerate(fruits):\n",
    "    print(f\"Index: {index}, Value: {value}\")\n"
   ]
  },
  {
   "cell_type": "markdown",
   "id": "ce43eb37",
   "metadata": {},
   "source": [
    "\n",
    "---\n",
    "\n",
    "### Exercise 42:\n",
    "Write a Python program that checks if a tuple is empty.\n"
   ]
  },
  {
   "cell_type": "code",
   "execution_count": 22,
   "id": "dffe61c2",
   "metadata": {},
   "outputs": [
    {
     "name": "stdout",
     "output_type": "stream",
     "text": [
      "Tuple is empty\n"
     ]
    }
   ],
   "source": [
    "# Exercise 42\n",
    "t = ()\n",
    "if not t:\n",
    "    print(\"Tuple is empty\")\n",
    "else:\n",
    "    print(\"Tuple is not empty\")\n"
   ]
  },
  {
   "cell_type": "markdown",
   "id": "b77d431a",
   "metadata": {},
   "source": [
    "\n",
    "---\n",
    "\n",
    "### Exercise 43:\n",
    "Create a list of even numbers between 1 and 20 using the `range()` function.\n"
   ]
  },
  {
   "cell_type": "code",
   "execution_count": 23,
   "id": "e7668e50",
   "metadata": {},
   "outputs": [
    {
     "name": "stdout",
     "output_type": "stream",
     "text": [
      "[2, 4, 6, 8, 10, 12, 14, 16, 18, 20]\n"
     ]
    }
   ],
   "source": [
    "# Exercise 43\n",
    "even_numbers = list(range(2, 21, 2))\n",
    "print(even_numbers)\n"
   ]
  },
  {
   "cell_type": "markdown",
   "id": "acdaed92",
   "metadata": {},
   "source": [
    "\n",
    "---\n",
    "\n",
    "### Exercise 44:\n",
    "Write a Python function that takes a list of numbers as input and returns the list in reverse order.\n"
   ]
  },
  {
   "cell_type": "code",
   "execution_count": 24,
   "id": "d67bdd24",
   "metadata": {},
   "outputs": [
    {
     "name": "stdout",
     "output_type": "stream",
     "text": [
      "[5, 4, 3, 2, 1]\n"
     ]
    }
   ],
   "source": [
    "# Exercise 44\n",
    "def reverse_list(numbers):\n",
    "    return numbers[::-1]\n",
    "\n",
    "# --- Example Usage ---\n",
    "print(reverse_list([1, 2, 3, 4, 5]))  # Expected: [5, 4, 3, 2, 1]\n"
   ]
  },
  {
   "cell_type": "markdown",
   "id": "5354b3c4",
   "metadata": {},
   "source": [
    "\n",
    "---\n",
    "\n",
    "### Exercise 45:\n",
    "Create a dictionary comprehension that maps numbers from 1 to 5 to their cubes.\n"
   ]
  },
  {
   "cell_type": "code",
   "execution_count": 25,
   "id": "231f0012",
   "metadata": {},
   "outputs": [
    {
     "name": "stdout",
     "output_type": "stream",
     "text": [
      "{1: 1, 2: 8, 3: 27, 4: 64, 5: 125}\n"
     ]
    }
   ],
   "source": [
    "# Exercise 45\n",
    "cubes = {x: x**3 for x in range(1, 6)}\n",
    "print(cubes)\n"
   ]
  },
  {
   "cell_type": "markdown",
   "id": "faabb654",
   "metadata": {},
   "source": [
    "\n",
    "---\n",
    "\n",
    "### Exercise 46:\n",
    "Write a Python program that creates a new list containing only the unique elements of the list `[1, 2, 2, 3, 4, 4, 5]`.\n"
   ]
  },
  {
   "cell_type": "code",
   "execution_count": 26,
   "id": "3b769de9",
   "metadata": {},
   "outputs": [
    {
     "name": "stdout",
     "output_type": "stream",
     "text": [
      "[1, 2, 3, 4, 5]\n"
     ]
    }
   ],
   "source": [
    "# Exercise 46\n",
    "original_list = [1, 2, 2, 3, 4, 4, 5]\n",
    "\n",
    "unique_list = list(set(original_list))\n",
    "\n",
    "print(unique_list)\n"
   ]
  },
  {
   "cell_type": "markdown",
   "id": "dbe53215",
   "metadata": {},
   "source": [
    "\n",
    "---\n",
    "\n",
    "### Exercise 47:\n",
    "Write a Python function that takes a list of dictionaries and returns a list of the values for a given key.\n"
   ]
  },
  {
   "cell_type": "code",
   "execution_count": 27,
   "id": "f560389e",
   "metadata": {},
   "outputs": [
    {
     "name": "stdout",
     "output_type": "stream",
     "text": [
      "[25, 30]\n",
      "['Alice', 'Bob', 'Charlie']\n"
     ]
    }
   ],
   "source": [
    "# Exercise 47\n",
    "def get_values(dict_list, key):\n",
    "    \"\"\"\n",
    "    Returns a list of values for the given key from each dictionary in the list.\n",
    "    If a dictionary does not have the key, it skips it.\n",
    "    \"\"\"\n",
    "    return [d[key] for d in dict_list if key in d]\n",
    "\n",
    "# --- Example Usage ---\n",
    "dicts = [\n",
    "    {\"name\": \"Alice\", \"age\": 25},\n",
    "    {\"name\": \"Bob\", \"age\": 30},\n",
    "    {\"name\": \"Charlie\"}\n",
    "]\n",
    "\n",
    "print(get_values(dicts, \"age\"))  # Expected: [25, 30]\n",
    "print(get_values(dicts, \"name\")) # Expected: ['Alice', 'Bob', 'Charlie']\n"
   ]
  },
  {
   "cell_type": "markdown",
   "id": "297c79ff",
   "metadata": {},
   "source": [
    "\n",
    "---\n",
    "\n",
    "### Exercise 48:\n",
    "Write a Python function that uses a generator to yield the Fibonacci sequence up to `n` terms.\n"
   ]
  },
  {
   "cell_type": "code",
   "execution_count": 28,
   "id": "63380ce6",
   "metadata": {},
   "outputs": [
    {
     "name": "stdout",
     "output_type": "stream",
     "text": [
      "0 1 1 2 3 5 8 13 21 34 "
     ]
    }
   ],
   "source": [
    "# Exercise 48\n",
    "def fibonacci(n):\n",
    "    a, b = 0, 1\n",
    "    count = 0\n",
    "    while count < n:\n",
    "        yield a\n",
    "        a, b = b, a + b\n",
    "        count += 1\n",
    "\n",
    "# --- Example Usage ---\n",
    "for num in fibonacci(10):\n",
    "    print(num, end=' ')\n"
   ]
  },
  {
   "cell_type": "markdown",
   "id": "45f7536e",
   "metadata": {},
   "source": [
    "\n",
    "---\n",
    "\n",
    "### Exercise 49:\n",
    "Write a Python function that takes a string and returns a list of all unique characters in the string.\n"
   ]
  },
  {
   "cell_type": "code",
   "execution_count": 29,
   "id": "bab510f2",
   "metadata": {},
   "outputs": [
    {
     "name": "stdout",
     "output_type": "stream",
     "text": [
      "['h', 'e', 'l', 'o']\n"
     ]
    }
   ],
   "source": [
    "# Exercise 49\n",
    "def unique_chars(s):\n",
    "    return list(set(s))\n",
    "\n",
    "# --- Example Usage ---\n",
    "print(unique_chars(\"hello\"))  # Possible output: ['h', 'e', 'l', 'o']\n"
   ]
  },
  {
   "cell_type": "markdown",
   "id": "79cfed08",
   "metadata": {},
   "source": [
    "\n",
    "---\n",
    "\n",
    "### Exercise 50:\n",
    "Write a Python function that merges two sorted lists into a single sorted list.\n"
   ]
  },
  {
   "cell_type": "code",
   "execution_count": 30,
   "id": "7fcb6676",
   "metadata": {},
   "outputs": [
    {
     "name": "stdout",
     "output_type": "stream",
     "text": [
      "[1, 2, 3, 4, 5, 6]\n"
     ]
    }
   ],
   "source": [
    "# Exercise 50\n",
    "def merge_sorted_lists(list1, list2):\n",
    "    merged = []\n",
    "    i, j = 0, 0\n",
    "\n",
    "    # Loop through both lists until one is exhausted\n",
    "    while i < len(list1) and j < len(list2):\n",
    "        if list1[i] < list2[j]:\n",
    "            merged.append(list1[i])\n",
    "            i += 1\n",
    "        else:\n",
    "            merged.append(list2[j])\n",
    "            j += 1\n",
    "\n",
    "    # Append any remaining elements from list1 or list2\n",
    "    merged.extend(list1[i:])\n",
    "    merged.extend(list2[j:])\n",
    "\n",
    "    return merged\n",
    "\n",
    "# --- Example Usage ---\n",
    "list_a = [1, 3, 5]\n",
    "list_b = [2, 4, 6]\n",
    "print(merge_sorted_lists(list_a, list_b))  # Expected: [1, 2, 3, 4, 5, 6]\n"
   ]
  },
  {
   "cell_type": "markdown",
   "id": "4359c140",
   "metadata": {},
   "source": [
    "\n",
    "---\n",
    "\n",
    "### Exercise 51:\n",
    "Use the\n",
    "\n",
    " `filter()` function to filter out odd numbers from the list `[1, 2, 3, 4, 5, 6]`.\n"
   ]
  },
  {
   "cell_type": "code",
   "execution_count": 31,
   "id": "3ec07449",
   "metadata": {},
   "outputs": [
    {
     "name": "stdout",
     "output_type": "stream",
     "text": [
      "[2, 4, 6]\n"
     ]
    }
   ],
   "source": [
    "# Exercise 51\n",
    "numbers = [1, 2, 3, 4, 5, 6]\n",
    "\n",
    "# Filter only even numbers\n",
    "even_numbers = list(filter(lambda x: x % 2 == 0, numbers))\n",
    "\n",
    "print(even_numbers)\n"
   ]
  },
  {
   "cell_type": "markdown",
   "id": "311d2578",
   "metadata": {},
   "source": [
    "\n",
    "---\n",
    "\n",
    "### Exercise 52:\n",
    "Write a Python program that converts a list of tuples `[(1, 2), (3, 4), (5, 6)]` into a dictionary.\n"
   ]
  },
  {
   "cell_type": "code",
   "execution_count": 32,
   "id": "abb42173",
   "metadata": {},
   "outputs": [
    {
     "name": "stdout",
     "output_type": "stream",
     "text": [
      "{1: 2, 3: 4, 5: 6}\n"
     ]
    }
   ],
   "source": [
    "# Exercise 52\n",
    "tuples_list = [(1, 2), (3, 4), (5, 6)]\n",
    "\n",
    "# Convert list of tuples to dictionary\n",
    "result_dict = dict(tuples_list)\n",
    "\n",
    "print(result_dict)\n"
   ]
  },
  {
   "cell_type": "markdown",
   "id": "85fd7247",
   "metadata": {},
   "source": [
    "\n",
    "---\n",
    "\n",
    "### Exercise 53:\n",
    "Write a Python function that takes two sets and returns their symmetric difference.\n"
   ]
  },
  {
   "cell_type": "code",
   "execution_count": 33,
   "id": "256f45dc",
   "metadata": {},
   "outputs": [
    {
     "name": "stdout",
     "output_type": "stream",
     "text": [
      "{1, 4}\n"
     ]
    }
   ],
   "source": [
    "# Exercise 53\n",
    "def symmetric_difference(set1, set2):\n",
    "    return set1.symmetric_difference(set2)\n",
    "\n",
    "# --- Example Usage ---\n",
    "a = {1, 2, 3}\n",
    "b = {2, 3, 4}\n",
    "\n",
    "print(symmetric_difference(a, b))  # Output: {1, 4}\n"
   ]
  },
  {
   "cell_type": "markdown",
   "id": "3583669c",
   "metadata": {},
   "source": [
    "\n",
    "---\n",
    "\n",
    "### Exercise 54:\n",
    "Write a Python program that finds the common elements in three lists `list1`, `list2`, and `list3`.\n"
   ]
  },
  {
   "cell_type": "code",
   "execution_count": 34,
   "id": "d7d8ee5e",
   "metadata": {},
   "outputs": [
    {
     "name": "stdout",
     "output_type": "stream",
     "text": [
      "[2, 3]\n"
     ]
    }
   ],
   "source": [
    "# Exercise 54\n",
    "list1 = [1, 2, 3, 4]\n",
    "list2 = [2, 3, 5, 6]\n",
    "list3 = [0, 2, 3, 7]\n",
    "\n",
    "# Convert lists to sets and find intersection\n",
    "common_elements = set(list1) & set(list2) & set(list3)\n",
    "\n",
    "print(list(common_elements))  # Output: [2, 3]\n"
   ]
  },
  {
   "cell_type": "markdown",
   "id": "9a25e857",
   "metadata": {},
   "source": [
    "\n",
    "---\n",
    "\n",
    "### Exercise 55:\n",
    "Write a Python function that returns the factorial of a number using recursion.\n"
   ]
  },
  {
   "cell_type": "code",
   "execution_count": 35,
   "id": "ebc5c223",
   "metadata": {},
   "outputs": [
    {
     "name": "stdout",
     "output_type": "stream",
     "text": [
      "120\n"
     ]
    }
   ],
   "source": [
    "# Exercise 55\n",
    "def factorial(n):\n",
    "    if n == 0 or n == 1:\n",
    "        return 1  # Base case: factorial of 0 or 1 is 1\n",
    "    else:\n",
    "        return n * factorial(n - 1)  # Recursive case\n",
    "\n",
    "# --- Example Usage ---\n",
    "print(factorial(5))  # Output: 120\n"
   ]
  },
  {
   "cell_type": "markdown",
   "id": "b54aac43",
   "metadata": {},
   "source": [
    "\n",
    "---\n",
    "\n",
    "### Exercise 56:\n",
    "Write a Python program that removes all empty strings from the list `[\"apple\", \"\", \"banana\", \"\", \"cherry\"]`.\n"
   ]
  },
  {
   "cell_type": "code",
   "execution_count": 36,
   "id": "7fde547c",
   "metadata": {},
   "outputs": [
    {
     "name": "stdout",
     "output_type": "stream",
     "text": [
      "['apple', 'banana', 'cherry']\n"
     ]
    }
   ],
   "source": [
    "# Exercise 56\n",
    "fruits = [\"apple\", \"\", \"banana\", \"\", \"cherry\"]\n",
    "\n",
    "# Remove empty strings using list comprehension\n",
    "filtered_fruits = [fruit for fruit in fruits if fruit != \"\"]\n",
    "\n",
    "print(filtered_fruits)\n"
   ]
  },
  {
   "cell_type": "markdown",
   "id": "a698981c",
   "metadata": {},
   "source": [
    "\n",
    "---\n",
    "\n",
    "### Exercise 57:\n",
    "Write a Python function that takes a dictionary and returns a new dictionary with the keys and values swapped.\n"
   ]
  },
  {
   "cell_type": "code",
   "execution_count": 37,
   "id": "ab632d15",
   "metadata": {},
   "outputs": [
    {
     "name": "stdout",
     "output_type": "stream",
     "text": [
      "{1: 'a', 2: 'b', 3: 'c'}\n"
     ]
    }
   ],
   "source": [
    "# Exercise 57\n",
    "def swap_dict_keys_values(d):\n",
    "    return {value: key for key, value in d.items()}\n",
    "\n",
    "# --- Example Usage ---\n",
    "original_dict = {'a': 1, 'b': 2, 'c': 3}\n",
    "swapped_dict = swap_dict_keys_values(original_dict)\n",
    "print(swapped_dict)  \n"
   ]
  },
  {
   "cell_type": "markdown",
   "id": "dfdc2034",
   "metadata": {},
   "source": [
    "\n",
    "---\n",
    "\n",
    "### Exercise 58:\n",
    "Write a Python function that takes a list of integers and returns a new list with only the even numbers.\n"
   ]
  },
  {
   "cell_type": "code",
   "execution_count": 38,
   "id": "db0feb48",
   "metadata": {},
   "outputs": [
    {
     "name": "stdout",
     "output_type": "stream",
     "text": [
      "[2, 4, 6]\n"
     ]
    }
   ],
   "source": [
    "# Exercise 58\n",
    "def filter_even_numbers(numbers):\n",
    "    return [num for num in numbers if num % 2 == 0]\n",
    "\n",
    "# --- Example Usage ---\n",
    "nums = [1, 2, 3, 4, 5, 6]\n",
    "even_nums = filter_even_numbers(nums)\n",
    "print(even_nums)  # Output: [2, 4, 6]\n"
   ]
  },
  {
   "cell_type": "markdown",
   "id": "5c14b9e2",
   "metadata": {},
   "source": [
    "\n",
    "---\n",
    "\n",
    "### Exercise 59:\n",
    "Write a Python function that takes a list of tuples and returns a list of the first elements of each tuple.\n"
   ]
  },
  {
   "cell_type": "code",
   "execution_count": 39,
   "id": "e481b81a",
   "metadata": {},
   "outputs": [
    {
     "name": "stdout",
     "output_type": "stream",
     "text": [
      "[1, 3, 5]\n"
     ]
    }
   ],
   "source": [
    "# Exercise 59\n",
    "def first_elements(tuples_list):\n",
    "    return [t[0] for t in tuples_list]\n",
    "\n",
    "# --- Example Usage ---\n",
    "tuples = [(1, 2), (3, 4), (5, 6)]\n",
    "result = first_elements(tuples)\n",
    "print(result)  \n"
   ]
  },
  {
   "cell_type": "markdown",
   "id": "5ffc4a73",
   "metadata": {},
   "source": [
    "\n",
    "---\n",
    "\n",
    "### Exercise 60:\n",
    "Write a Python program that removes duplicates from a list without changing the order of elements.\n"
   ]
  },
  {
   "cell_type": "code",
   "execution_count": 40,
   "id": "69b5483c",
   "metadata": {},
   "outputs": [
    {
     "name": "stdout",
     "output_type": "stream",
     "text": [
      "[1, 2, 3, 4, 5]\n"
     ]
    }
   ],
   "source": [
    "# Exercise 60\n",
    "def remove_duplicates(lst):\n",
    "    seen = set()\n",
    "    result = []\n",
    "    for item in lst:\n",
    "        if item not in seen:\n",
    "            seen.add(item)\n",
    "            result.append(item)\n",
    "    return result\n",
    "\n",
    "# --- Example Usage ---\n",
    "original_list = [1, 2, 3, 2, 1, 4, 5, 3]\n",
    "new_list = remove_duplicates(original_list)\n",
    "print(new_list)  # Output: [1, 2, 3, 4, 5]\n"
   ]
  },
  {
   "cell_type": "markdown",
   "id": "1b9b50b4",
   "metadata": {},
   "source": [
    "\n",
    "---\n",
    "\n",
    "### Exercise 61:\n",
    "Use the `map()` function to convert a list of strings to a list of their lengths.\n"
   ]
  },
  {
   "cell_type": "code",
   "execution_count": 41,
   "id": "4a4781f3",
   "metadata": {},
   "outputs": [
    {
     "name": "stdout",
     "output_type": "stream",
     "text": [
      "[5, 6, 6]\n"
     ]
    }
   ],
   "source": [
    "# Exercise 61\n",
    "strings = [\"apple\", \"banana\", \"cherry\"]\n",
    "\n",
    "lengths = list(map(len, strings))\n",
    "\n",
    "print(lengths)  \n"
   ]
  },
  {
   "cell_type": "markdown",
   "id": "320f3aca",
   "metadata": {},
   "source": [
    "\n",
    "---\n",
    "\n",
    "### Exercise 62:\n",
    "Write a Python program that calculates the average of a list of numbers.\n"
   ]
  },
  {
   "cell_type": "code",
   "execution_count": 42,
   "id": "0ddf6294",
   "metadata": {},
   "outputs": [
    {
     "name": "stdout",
     "output_type": "stream",
     "text": [
      "Average: 30.0\n"
     ]
    }
   ],
   "source": [
    "# Exercise 62\n",
    "def average(numbers):\n",
    "    if len(numbers) == 0:\n",
    "        return 0  # Avoid division by zero\n",
    "    return sum(numbers) / len(numbers)\n",
    "\n",
    "# --- Example Usage ---\n",
    "nums = [10, 20, 30, 40, 50]\n",
    "print(f\"Average: {average(nums)}\")  \n"
   ]
  },
  {
   "cell_type": "markdown",
   "id": "ada7c412",
   "metadata": {},
   "source": [
    "\n",
    "---\n",
    "\n",
    "### Exercise 63:\n",
    "Write a Python function that generates a list of the first `n` Fibonacci numbers.\n"
   ]
  },
  {
   "cell_type": "code",
   "execution_count": 43,
   "id": "5c1281c7",
   "metadata": {},
   "outputs": [
    {
     "name": "stdout",
     "output_type": "stream",
     "text": [
      "[0, 1, 1, 2, 3, 5, 8]\n"
     ]
    }
   ],
   "source": [
    "# Exercise 63\n",
    "def fibonacci(n):\n",
    "    if n <= 0:\n",
    "        return []\n",
    "    elif n == 1:\n",
    "        return [0]\n",
    "    \n",
    "    fib_list = [0, 1]\n",
    "    while len(fib_list) < n:\n",
    "        next_num = fib_list[-1] + fib_list[-2]\n",
    "        fib_list.append(next_num)\n",
    "    return fib_list\n",
    "\n",
    "# --- Example Usage ---\n",
    "print(fibonacci(7))  \n"
   ]
  },
  {
   "cell_type": "markdown",
   "id": "6a67ece7",
   "metadata": {},
   "source": [
    "\n",
    "---\n",
    "\n",
    "### Exercise 64:\n",
    "Write a Python program that counts how many times each element appears in the list `[\"apple\", \"banana\", \"apple\", \"cherry\"]`.\n"
   ]
  },
  {
   "cell_type": "code",
   "execution_count": 44,
   "id": "57213561",
   "metadata": {},
   "outputs": [
    {
     "name": "stdout",
     "output_type": "stream",
     "text": [
      "Counter({'apple': 2, 'banana': 1, 'cherry': 1})\n"
     ]
    }
   ],
   "source": [
    "# Exercise 64\n",
    "from collections import Counter\n",
    "\n",
    "fruits = [\"apple\", \"banana\", \"apple\", \"cherry\"]\n",
    "\n",
    "count = Counter(fruits)\n",
    "\n",
    "print(count)\n",
    "\n"
   ]
  },
  {
   "cell_type": "markdown",
   "id": "aa829fa6",
   "metadata": {},
   "source": [
    "\n",
    "---\n",
    "\n",
    "### Exercise 65:\n",
    "Write a Python program that removes all occurrences of a specific value from a list.\n"
   ]
  },
  {
   "cell_type": "code",
   "execution_count": 45,
   "id": "16b868ee",
   "metadata": {},
   "outputs": [
    {
     "name": "stdout",
     "output_type": "stream",
     "text": [
      "[1, 3, 4, 5]\n"
     ]
    }
   ],
   "source": [
    "# Exercise 65\n",
    "def remove_all_occurrences(lst, value):\n",
    "    return [item for item in lst if item != value]\n",
    "\n",
    "# --- Example Usage ---\n",
    "my_list = [1, 2, 3, 2, 4, 2, 5]\n",
    "value_to_remove = 2\n",
    "\n",
    "new_list = remove_all_occurrences(my_list, value_to_remove)\n",
    "print(new_list)  \n"
   ]
  },
  {
   "cell_type": "markdown",
   "id": "d67afd7d",
   "metadata": {},
   "source": [
    "\n",
    "---\n",
    "\n",
    "### Exercise 66:\n",
    "Write a Python function that takes a list of strings and returns a list of the strings that start with a vowel.\n"
   ]
  },
  {
   "cell_type": "code",
   "execution_count": 46,
   "id": "51721e69",
   "metadata": {},
   "outputs": [
    {
     "name": "stdout",
     "output_type": "stream",
     "text": [
      "['apple', 'orange', 'umbrella', 'egg']\n"
     ]
    }
   ],
   "source": [
    "# Exercise 66\n",
    "def starts_with_vowel(strings):\n",
    "    vowels = {'a', 'e', 'i', 'o', 'u'}\n",
    "    return [s for s in strings if s and s[0].lower() in vowels]\n",
    "\n",
    "# --- Example Usage ---\n",
    "words = [\"apple\", \"banana\", \"orange\", \"umbrella\", \"grape\", \"egg\"]\n",
    "result = starts_with_vowel(words)\n",
    "print(result)  \n"
   ]
  },
  {
   "cell_type": "markdown",
   "id": "25cef748",
   "metadata": {},
   "source": [
    "\n",
    "---\n",
    "\n",
    "### Exercise 67:\n",
    "Write a Python program that finds the intersection of two sets `set1` and `set2`.\n"
   ]
  },
  {
   "cell_type": "code",
   "execution_count": 47,
   "id": "e72a1ab5",
   "metadata": {},
   "outputs": [
    {
     "name": "stdout",
     "output_type": "stream",
     "text": [
      "Intersection: {3, 4, 5}\n"
     ]
    }
   ],
   "source": [
    "# Exercise 67 \n",
    "# Example sets\n",
    "set1 = {1, 2, 3, 4, 5}\n",
    "set2 = {3, 4, 5, 6, 7}\n",
    "\n",
    "# Find the intersection\n",
    "intersection = set1.intersection(set2)\n",
    "\n",
    "print(\"Intersection:\", intersection)\n"
   ]
  },
  {
   "cell_type": "markdown",
   "id": "7f72b8f0",
   "metadata": {},
   "source": [
    "\n",
    "---\n",
    "\n",
    "### Exercise 68:\n",
    "Write a Python function that flattens a nested list.\n"
   ]
  },
  {
   "cell_type": "code",
   "execution_count": 48,
   "id": "3f11ec5b",
   "metadata": {},
   "outputs": [
    {
     "name": "stdout",
     "output_type": "stream",
     "text": [
      "[1, 2, 3, 4, 5, 6]\n"
     ]
    }
   ],
   "source": [
    "# Exercise 68\n",
    "def flatten_list(nested_list):\n",
    "    \"\"\"\n",
    "    Flattens a nested list into a single list.\n",
    "\n",
    "    Args:\n",
    "        nested_list: A list which may contain nested lists.\n",
    "\n",
    "    Returns:\n",
    "        A flat list with all the elements.\n",
    "    \"\"\"\n",
    "    flat_list = []\n",
    "    for item in nested_list:\n",
    "        if isinstance(item, list):\n",
    "            flat_list.extend(flatten_list(item))  # Recursive call for nested lists\n",
    "        else:\n",
    "            flat_list.append(item)\n",
    "    return flat_list\n",
    "\n",
    "# Example usage:\n",
    "nested = [1, [2, [3, 4], 5], 6]\n",
    "flat = flatten_list(nested)\n",
    "print(flat)  \n"
   ]
  },
  {
   "cell_type": "markdown",
   "id": "6f048ddb",
   "metadata": {},
   "source": [
    "\n",
    "---\n",
    "\n",
    "### Exercise 69:\n",
    "Write a Python program that checks if all the elements in a list are unique.\n"
   ]
  },
  {
   "cell_type": "code",
   "execution_count": 49,
   "id": "3ed01a59",
   "metadata": {},
   "outputs": [
    {
     "name": "stdout",
     "output_type": "stream",
     "text": [
      "True\n",
      "False\n"
     ]
    }
   ],
   "source": [
    "# Exercise 69\n",
    "def are_elements_unique(lst):\n",
    "    \"\"\"\n",
    "    Checks if all elements in a list are unique.\n",
    "\n",
    "    Args:\n",
    "        lst: A list of elements.\n",
    "\n",
    "    Returns:\n",
    "        True if all elements are unique, False otherwise.\n",
    "    \"\"\"\n",
    "    return len(lst) == len(set(lst))\n",
    "\n",
    "# Example usage:\n",
    "numbers = [1, 2, 3, 4, 5]\n",
    "print(are_elements_unique(numbers)) \n",
    "\n",
    "numbers = [1, 2, 3, 3, 5]\n",
    "print(are_elements_unique(numbers))  \n"
   ]
  },
  {
   "cell_type": "markdown",
   "id": "39f80d26",
   "metadata": {},
   "source": [
    "\n",
    "---\n",
    "\n",
    "### Exercise 70:\n",
    "Use the `reduce()` function from the `functools` module to multiply all elements in a list.\n"
   ]
  },
  {
   "cell_type": "code",
   "execution_count": 50,
   "id": "c9392f51",
   "metadata": {},
   "outputs": [
    {
     "name": "stdout",
     "output_type": "stream",
     "text": [
      "120\n"
     ]
    }
   ],
   "source": [
    "# Exercise 70\n",
    "from functools import reduce\n",
    "\n",
    "def multiply_list_elements(lst):\n",
    "    \"\"\"\n",
    "    Multiplies all elements in a list.\n",
    "\n",
    "    Args:\n",
    "        lst: A list of numbers.\n",
    "\n",
    "    Returns:\n",
    "        The product of all numbers in the list.\n",
    "    \"\"\"\n",
    "    return reduce(lambda x, y: x * y, lst)\n",
    "\n",
    "# Example usage:\n",
    "numbers = [1, 2, 3, 4, 5]\n",
    "product = multiply_list_elements(numbers)\n",
    "print(product)  \n"
   ]
  },
  {
   "cell_type": "markdown",
   "id": "405c9fac",
   "metadata": {},
   "source": [
    "\n",
    "---\n",
    "\n",
    "### Exercise 71:\n",
    "Write a Python function that takes a list of strings and returns a dictionary where keys are strings and values are their lengths.\n"
   ]
  },
  {
   "cell_type": "code",
   "execution_count": 51,
   "id": "5a22c6ba",
   "metadata": {},
   "outputs": [
    {
     "name": "stdout",
     "output_type": "stream",
     "text": [
      "{'apple': 5, 'banana': 6, 'cherry': 6}\n"
     ]
    }
   ],
   "source": [
    "# Exercise 71\n",
    "def strings_to_length_dict(strings):\n",
    "    \"\"\"\n",
    "    Takes a list of strings and returns a dictionary where keys are the strings\n",
    "    and values are their lengths.\n",
    "    \"\"\"\n",
    "    return {s: len(s) for s in strings}\n",
    "\n",
    "# Example usage:\n",
    "words = [\"apple\", \"banana\", \"cherry\"]\n",
    "result = strings_to_length_dict(words)\n",
    "print(result)\n"
   ]
  },
  {
   "cell_type": "markdown",
   "id": "8447d495",
   "metadata": {},
   "source": [
    "\n",
    "---\n",
    "\n",
    "### Exercise 72:\n",
    "Write a Python program that counts the number of vowels in a string.\n"
   ]
  },
  {
   "cell_type": "code",
   "execution_count": 52,
   "id": "a97366b2",
   "metadata": {},
   "outputs": [
    {
     "name": "stdout",
     "output_type": "stream",
     "text": [
      "Number of vowels: 3\n"
     ]
    }
   ],
   "source": [
    "# Exercise 72\n",
    "def count_vowels(s):\n",
    "    vowels = \"aeiouAEIOU\"\n",
    "    count = sum(1 for char in s if char in vowels)\n",
    "    return count\n",
    "\n",
    "# Example usage:\n",
    "text = \"Hello, World!\"\n",
    "print(\"Number of vowels:\", count_vowels(text))\n"
   ]
  },
  {
   "cell_type": "markdown",
   "id": "a2daf99e",
   "metadata": {},
   "source": [
    "\n",
    "---\n",
    "\n",
    "### Exercise 73:\n",
    "Create a list of tuples where each tuple contains a number from 1 to 5 and its factorial.\n"
   ]
  },
  {
   "cell_type": "code",
   "execution_count": 53,
   "id": "26a95d77",
   "metadata": {},
   "outputs": [
    {
     "name": "stdout",
     "output_type": "stream",
     "text": [
      "[(1, 1), (2, 2), (3, 6), (4, 24), (5, 120)]\n"
     ]
    }
   ],
   "source": [
    "# Exercise 73\n",
    "import math\n",
    "\n",
    "factorials = [(i, math.factorial(i)) for i in range(1, 6)]\n",
    "print(factorials)\n"
   ]
  },
  {
   "cell_type": "markdown",
   "id": "574c7b40",
   "metadata": {},
   "source": [
    "\n",
    "---\n",
    "\n",
    "### Exercise 74:\n",
    "Write a Python program that converts a list of dictionaries into a single dictionary by merging them.\n"
   ]
  },
  {
   "cell_type": "code",
   "execution_count": 54,
   "id": "fe108bc9",
   "metadata": {},
   "outputs": [
    {
     "name": "stdout",
     "output_type": "stream",
     "text": [
      "{'a': 1, 'b': 2, 'c': 3}\n"
     ]
    }
   ],
   "source": [
    "# Exercise 74\n",
    "def merge_dicts(dict_list):\n",
    "    merged_dict = {}\n",
    "    for d in dict_list:\n",
    "        merged_dict.update(d)\n",
    "    return merged_dict\n",
    "\n",
    "# Example\n",
    "dicts = [{'a': 1}, {'b': 2}, {'c': 3}]\n",
    "result = merge_dicts(dicts)\n",
    "print(result)\n"
   ]
  },
  {
   "cell_type": "markdown",
   "id": "36381b03",
   "metadata": {},
   "source": [
    "\n",
    "---\n",
    "\n",
    "### Exercise 75:\n",
    "Write a Python function that checks if a set is a subset of another set.\n"
   ]
  },
  {
   "cell_type": "code",
   "execution_count": 55,
   "id": "a8ce9282",
   "metadata": {},
   "outputs": [
    {
     "name": "stdout",
     "output_type": "stream",
     "text": [
      "True\n"
     ]
    }
   ],
   "source": [
    "# Exercise 75\n",
    "def is_subset(set1, set2):\n",
    "    return set1.issubset(set2)\n",
    "\n",
    "# Example usage\n",
    "set_a = {1, 2, 3}\n",
    "set_b = {1, 2, 3, 4, 5}\n",
    "print(is_subset(set_a, set_b))  \n"
   ]
  },
  {
   "cell_type": "markdown",
   "id": "5fa98235",
   "metadata": {},
   "source": [
    "\n",
    "---\n",
    "\n",
    "### Exercise 76:\n",
    "Write a Python program that sorts a list of tuples based on the second element in each tuple.\n"
   ]
  },
  {
   "cell_type": "code",
   "execution_count": 56,
   "id": "547434ea",
   "metadata": {},
   "outputs": [
    {
     "name": "stdout",
     "output_type": "stream",
     "text": [
      "[(2, 1), (4, 2), (1, 3), (3, 4)]\n"
     ]
    }
   ],
   "source": [
    "# Exercise 76\n",
    "# Sample list of tuples\n",
    "tuples_list = [(1, 3), (2, 1), (4, 2), (3, 4)]\n",
    "\n",
    "# Sort the list of tuples by the second element\n",
    "sorted_list = sorted(tuples_list, key=lambda x: x[1])\n",
    "\n",
    "print(sorted_list)\n"
   ]
  },
  {
   "cell_type": "markdown",
   "id": "3713ff96",
   "metadata": {},
   "source": [
    "\n",
    "---\n",
    "\n",
    "### Exercise 77:\n",
    "Write a Python function that takes a list of integers and returns a new list with only the positive integers.\n"
   ]
  },
  {
   "cell_type": "code",
   "execution_count": 57,
   "id": "6f109433",
   "metadata": {},
   "outputs": [
    {
     "name": "stdout",
     "output_type": "stream",
     "text": [
      "[5, 8]\n"
     ]
    }
   ],
   "source": [
    "# Exercise 77\n",
    "def filter_positive(numbers):\n",
    "    return [num for num in numbers if num > 0]\n",
    "\n",
    "# Example usage\n",
    "nums = [-3, 0, 5, -1, 8, -2]\n",
    "positive_nums = filter_positive(nums)\n",
    "print(positive_nums)\n"
   ]
  },
  {
   "cell_type": "markdown",
   "id": "fd1b38b2",
   "metadata": {},
   "source": [
    "\n",
    "---\n",
    "\n",
    "### Exercise 78:\n",
    "Write a Python function that takes two sets and returns their union.\n"
   ]
  },
  {
   "cell_type": "code",
   "execution_count": 58,
   "id": "9ebbf168",
   "metadata": {},
   "outputs": [
    {
     "name": "stdout",
     "output_type": "stream",
     "text": [
      "{1, 2, 3, 4, 5}\n"
     ]
    }
   ],
   "source": [
    "# Exercise 78\n",
    "def union_sets(set1, set2):\n",
    "    return set1.union(set2)\n",
    "\n",
    "# Example usage\n",
    "set_a = {1, 2, 3}\n",
    "set_b = {3, 4, 5}\n",
    "result = union_sets(set_a, set_b)\n",
    "print(result)\n"
   ]
  },
  {
   "cell_type": "markdown",
   "id": "3810cede",
   "metadata": {},
   "source": [
    "\n",
    "---\n",
    "\n",
    "### Exercise 79:\n",
    "Write a Python function that takes a list of numbers and returns the product of all the numbers.\n"
   ]
  },
  {
   "cell_type": "code",
   "execution_count": 59,
   "id": "6051255e",
   "metadata": {},
   "outputs": [
    {
     "name": "stdout",
     "output_type": "stream",
     "text": [
      "24\n"
     ]
    }
   ],
   "source": [
    "# Exercise 79\n",
    "def product_of_list(numbers):\n",
    "    product = 1\n",
    "    for num in numbers:\n",
    "        product *= num\n",
    "    return product\n",
    "\n",
    "# Example usage\n",
    "nums = [2, 3, 4]\n",
    "print(product_of_list(nums))  \n"
   ]
  },
  {
   "cell_type": "markdown",
   "id": "9e0df32b",
   "metadata": {},
   "source": [
    "\n",
    "---\n",
    "\n",
    "### Exercise 80:\n",
    "Write a Python program that converts a list of characters into a string.\n"
   ]
  },
  {
   "cell_type": "code",
   "execution_count": 60,
   "id": "379112dd",
   "metadata": {},
   "outputs": [
    {
     "name": "stdout",
     "output_type": "stream",
     "text": [
      "Hello\n"
     ]
    }
   ],
   "source": [
    "# Exercise 80\n",
    "# List of characters\n",
    "char_list = ['H', 'e', 'l', 'l', 'o']\n",
    "\n",
    "# Convert list to string using join()\n",
    "result_string = ''.join(char_list)\n",
    "\n",
    "print(result_string)\n"
   ]
  },
  {
   "cell_type": "markdown",
   "id": "146b572c",
   "metadata": {},
   "source": [
    "\n",
    "---\n",
    "\n",
    "### Exercise 81:\n",
    "Write a Python program that finds the second largest number in a list of integers.\n"
   ]
  },
  {
   "cell_type": "code",
   "execution_count": 61,
   "id": "676e61dd",
   "metadata": {},
   "outputs": [
    {
     "name": "stdout",
     "output_type": "stream",
     "text": [
      "7\n"
     ]
    }
   ],
   "source": [
    "# Exercise 81\n",
    "def second_largest(numbers):\n",
    "    # Remove duplicates to handle cases where largest repeats\n",
    "    unique_numbers = list(set(numbers))\n",
    "    if len(unique_numbers) < 2:\n",
    "        return None  # No second largest if fewer than 2 unique numbers\n",
    "    unique_numbers.sort()\n",
    "    return unique_numbers[-2]\n",
    "\n",
    "# Example usage\n",
    "nums = [4, 1, 7, 7, 3, 9, 2]\n",
    "print(second_largest(nums))  \n"
   ]
  },
  {
   "cell_type": "markdown",
   "id": "08bf9c38",
   "metadata": {},
   "source": [
    "\n",
    "---\n",
    "\n",
    "### Exercise 82:\n",
    "Write a Python function that takes a dictionary and returns a list of its keys in sorted order.\n"
   ]
  },
  {
   "cell_type": "code",
   "execution_count": 62,
   "id": "07840783",
   "metadata": {},
   "outputs": [
    {
     "name": "stdout",
     "output_type": "stream",
     "text": [
      "['apple', 'banana', 'cherry']\n"
     ]
    }
   ],
   "source": [
    "# Exercise 82\n",
    "def sorted_keys(d):\n",
    "    return sorted(d.keys())\n",
    "\n",
    "# Example usage\n",
    "my_dict = {'banana': 3, 'apple': 5, 'cherry': 1}\n",
    "print(sorted_keys(my_dict)) \n"
   ]
  },
  {
   "cell_type": "markdown",
   "id": "63dcfc04",
   "metadata": {},
   "source": [
    "\n",
    "---\n",
    "\n",
    "### Exercise 83:\n",
    "Write a Python program that finds the most common element in a list.\n"
   ]
  },
  {
   "cell_type": "code",
   "execution_count": 63,
   "id": "2abbdaa6",
   "metadata": {},
   "outputs": [
    {
     "name": "stdout",
     "output_type": "stream",
     "text": [
      "2\n"
     ]
    }
   ],
   "source": [
    "# Exercise 83\n",
    "from collections import Counter\n",
    "\n",
    "def most_common_element(lst):\n",
    "    if not lst:\n",
    "        return None  # Handle empty list\n",
    "    counter = Counter(lst)\n",
    "    most_common = counter.most_common(1)  # List of (element, count) tuples\n",
    "    return most_common[0][0]\n",
    "\n",
    "# Example usage\n",
    "my_list = [3, 1, 3, 2, 3, 1, 2, 2, 2]\n",
    "print(most_common_element(my_list))  \n"
   ]
  },
  {
   "cell_type": "markdown",
   "id": "3ac8727c",
   "metadata": {},
   "source": [
    "\n",
    "---\n",
    "\n",
    "### Exercise 84:\n",
    "Write a Python function that takes a list of tuples and returns a list of the tuples sorted by the first element.\n"
   ]
  },
  {
   "cell_type": "code",
   "execution_count": 64,
   "id": "a2f3af06",
   "metadata": {},
   "outputs": [
    {
     "name": "stdout",
     "output_type": "stream",
     "text": [
      "[(1, 'a'), (2, 'b'), (3, 'c')]\n"
     ]
    }
   ],
   "source": [
    "# Exercise 84\n",
    "def sort_by_first_element(tuples_list):\n",
    "    return sorted(tuples_list, key=lambda x: x[0])\n",
    "\n",
    "# Example usage\n",
    "my_tuples = [(3, 'c'), (1, 'a'), (2, 'b')]\n",
    "print(sort_by_first_element(my_tuples)) \n"
   ]
  },
  {
   "cell_type": "markdown",
   "id": "fe10fcd0",
   "metadata": {},
   "source": [
    "\n",
    "---\n",
    "\n",
    "### Exercise 85:\n",
    "Write a Python program that removes duplicates from a list of dictionaries.\n"
   ]
  },
  {
   "cell_type": "code",
   "execution_count": 65,
   "id": "5da29451",
   "metadata": {},
   "outputs": [
    {
     "name": "stdout",
     "output_type": "stream",
     "text": [
      "[{'name': 'Alice', 'age': 25}, {'name': 'Bob', 'age': 30}]\n"
     ]
    }
   ],
   "source": [
    "# Exercise 85\n",
    "def remove_duplicates(dict_list):\n",
    "    seen = set()\n",
    "    unique_dicts = []\n",
    "    for d in dict_list:\n",
    "        # Convert dict items to a tuple of sorted key-value pairs\n",
    "        dict_tuple = tuple(sorted(d.items()))\n",
    "        if dict_tuple not in seen:\n",
    "            seen.add(dict_tuple)\n",
    "            unique_dicts.append(d)\n",
    "    return unique_dicts\n",
    "\n",
    "# Example usage\n",
    "dicts = [\n",
    "    {'name': 'Alice', 'age': 25},\n",
    "    {'age': 25, 'name': 'Alice'},  # Duplicate but different order\n",
    "    {'name': 'Bob', 'age': 30},\n",
    "    {'name': 'Alice', 'age': 25}   # Exact duplicate\n",
    "]\n",
    "\n",
    "result = remove_duplicates(dicts)\n",
    "print(result)\n",
    "\n"
   ]
  },
  {
   "cell_type": "markdown",
   "id": "76e005e6",
   "metadata": {},
   "source": [
    "\n",
    "---\n",
    "\n",
    "### Exercise 86:\n",
    "Write a Python function that takes a list of numbers and returns the minimum and maximum numbers in the list.\n"
   ]
  },
  {
   "cell_type": "code",
   "execution_count": 66,
   "id": "2573ccd9",
   "metadata": {},
   "outputs": [
    {
     "name": "stdout",
     "output_type": "stream",
     "text": [
      "Minimum: 1, Maximum: 9\n"
     ]
    }
   ],
   "source": [
    "# Exercise 86\n",
    "def find_min_max(numbers):\n",
    "    if not numbers:\n",
    "        return None, None  # Handle empty list case\n",
    "    minimum = min(numbers)\n",
    "    maximum = max(numbers)\n",
    "    return minimum, maximum\n",
    "\n",
    "# Example usage:\n",
    "nums = [3, 7, 1, 9, 4]\n",
    "min_num, max_num = find_min_max(nums)\n",
    "print(f\"Minimum: {min_num}, Maximum: {max_num}\")\n"
   ]
  },
  {
   "cell_type": "markdown",
   "id": "c13d74a1",
   "metadata": {},
   "source": [
    "\n",
    "---\n",
    "\n",
    "### Exercise 87:\n",
    "Write a Python program that creates a list of tuples from two lists.\n"
   ]
  },
  {
   "cell_type": "code",
   "execution_count": 67,
   "id": "e1e91424",
   "metadata": {},
   "outputs": [
    {
     "name": "stdout",
     "output_type": "stream",
     "text": [
      "[(1, 'a'), (2, 'b'), (3, 'c')]\n"
     ]
    }
   ],
   "source": [
    "# Exercise 87\n",
    "# Two example lists\n",
    "list1 = [1, 2, 3]\n",
    "list2 = ['a', 'b', 'c']\n",
    "\n",
    "# Create list of tuples by pairing elements from both lists\n",
    "result = list(zip(list1, list2))\n",
    "\n",
    "print(result)\n"
   ]
  },
  {
   "cell_type": "markdown",
   "id": "f0f3f4ad",
   "metadata": {},
   "source": [
    "\n",
    "---\n",
    "\n",
    "### Exercise 88:\n",
    "Write a Python function that takes a list of strings and returns a list of the strings in reverse order.\n"
   ]
  },
  {
   "cell_type": "code",
   "execution_count": 68,
   "id": "25b9437c",
   "metadata": {},
   "outputs": [
    {
     "name": "stdout",
     "output_type": "stream",
     "text": [
      "['cherry', 'banana', 'apple']\n"
     ]
    }
   ],
   "source": [
    "# Exercise 88\n",
    "def reverse_list(strings):\n",
    "    return strings[::-1]\n",
    "\n",
    "# Example usage:\n",
    "words = [\"apple\", \"banana\", \"cherry\"]\n",
    "reversed_words = reverse_list(words)\n",
    "print(reversed_words)\n"
   ]
  },
  {
   "cell_type": "markdown",
   "id": "43dc3593",
   "metadata": {},
   "source": [
    "\n",
    "---\n",
    "\n",
    "### Exercise 89:\n",
    "Write a Python function that takes a list of integers and returns the sum of all odd numbers.\n"
   ]
  },
  {
   "cell_type": "code",
   "execution_count": 69,
   "id": "d44a17e4",
   "metadata": {},
   "outputs": [
    {
     "name": "stdout",
     "output_type": "stream",
     "text": [
      "9\n"
     ]
    }
   ],
   "source": [
    "# Exercise 89\n",
    "def sum_of_odds(numbers):\n",
    "    total = 0\n",
    "    for num in numbers:\n",
    "        if num % 2 != 0:  # Check if the number is odd\n",
    "            total += num\n",
    "    return total\n",
    "\n",
    "# Example usage:\n",
    "nums = [1, 2, 3, 4, 5, 6]\n",
    "print(sum_of_odds(nums)) \n"
   ]
  },
  {
   "cell_type": "markdown",
   "id": "b494aae8",
   "metadata": {},
   "source": [
    "\n",
    "---\n",
    "\n",
    "### Exercise 90:\n",
    "Write a Python program that checks if a string is a palindrome.\n"
   ]
  },
  {
   "cell_type": "code",
   "execution_count": 70,
   "id": "73fdee3b",
   "metadata": {},
   "outputs": [
    {
     "name": "stdout",
     "output_type": "stream",
     "text": [
      "Enter a string: company \n",
      "It is not a palindrome.\n"
     ]
    }
   ],
   "source": [
    "# Exercise 90\n",
    "def is_palindrome(s):\n",
    "    # Remove spaces and convert to lowercase for case-insensitive comparison\n",
    "    s = s.replace(\" \", \"\").lower()\n",
    "    return s == s[::-1]\n",
    "\n",
    "# Example usage:\n",
    "string = input(\"Enter a string: \")\n",
    "if is_palindrome(string):\n",
    "    print(\"It is a palindrome.\")\n",
    "else:\n",
    "    print(\"It is not a palindrome.\")\n"
   ]
  },
  {
   "cell_type": "markdown",
   "id": "632ba2b9",
   "metadata": {},
   "source": [
    "\n",
    "---\n",
    "\n",
    "### Exercise 91:\n",
    "Write a Python program that finds the median of a list of numbers.\n"
   ]
  },
  {
   "cell_type": "code",
   "execution_count": 71,
   "id": "e01eb242",
   "metadata": {},
   "outputs": [
    {
     "name": "stdout",
     "output_type": "stream",
     "text": [
      "Median: 3\n",
      "Median: 2.5\n"
     ]
    }
   ],
   "source": [
    "# Exercise 91\n",
    "def find_median(numbers):\n",
    "    numbers = sorted(numbers)  # Sort the list\n",
    "    n = len(numbers)\n",
    "    mid = n // 2\n",
    "\n",
    "    if n % 2 == 1:\n",
    "        # Odd number of elements: return the middle one\n",
    "        return numbers[mid]\n",
    "    else:\n",
    "        # Even number of elements: return the average of the two middle ones\n",
    "        return (numbers[mid - 1] + numbers[mid]) / 2\n",
    "\n",
    "# Example usage:\n",
    "nums = [3, 1, 4, 2, 5]\n",
    "print(\"Median:\", find_median(nums))  \n",
    "\n",
    "nums_even = [3, 1, 4, 2]\n",
    "print(\"Median:\", find_median(nums_even))  \n"
   ]
  },
  {
   "cell_type": "markdown",
   "id": "cc98919a",
   "metadata": {},
   "source": [
    "\n",
    "---\n",
    "\n",
    "### Exercise 92:\n",
    "Write a Python function that takes a list of dictionaries and returns a dictionary with the total value for each key.\n"
   ]
  },
  {
   "cell_type": "code",
   "execution_count": 72,
   "id": "4b823f16",
   "metadata": {},
   "outputs": [
    {
     "name": "stdout",
     "output_type": "stream",
     "text": [
      "{'a': 14, 'b': 12, 'c': 6}\n"
     ]
    }
   ],
   "source": [
    "# Exercise 92\n",
    "def sum_dict_values(dict_list):\n",
    "    total = {}\n",
    "    for d in dict_list:\n",
    "        for key, value in d.items():\n",
    "            total[key] = total.get(key, 0) + value\n",
    "    return total\n",
    "\n",
    "# Example usage:\n",
    "dicts = [\n",
    "    {'a': 10, 'b': 5},\n",
    "    {'a': 3, 'b': 7, 'c': 4},\n",
    "    {'a': 1, 'c': 2}\n",
    "]\n",
    "\n",
    "print(sum_dict_values(dicts))\n",
    "\n"
   ]
  },
  {
   "cell_type": "markdown",
   "id": "2a7b4a1f",
   "metadata": {},
   "source": [
    "\n",
    "---\n",
    "\n",
    "### Exercise 93:\n",
    "Write a Python program that calculates the mode of a list of numbers.\n"
   ]
  },
  {
   "cell_type": "code",
   "execution_count": 73,
   "id": "42035756",
   "metadata": {},
   "outputs": [
    {
     "name": "stdout",
     "output_type": "stream",
     "text": [
      "Mode: 4\n"
     ]
    }
   ],
   "source": [
    "# Exercise 93\n",
    "from collections import Counter\n",
    "\n",
    "def find_mode(numbers):\n",
    "    if not numbers:\n",
    "        return None  # No mode if list is empty\n",
    "    \n",
    "    counts = Counter(numbers)\n",
    "    max_count = max(counts.values())\n",
    "    \n",
    "    # Get all numbers with the max frequency\n",
    "    modes = [num for num, count in counts.items() if count == max_count]\n",
    "    \n",
    "    if len(modes) == 1:\n",
    "        return modes[0]  # Single mode\n",
    "    else:\n",
    "        return modes     # Multiple modes\n",
    "\n",
    "# Example usage:\n",
    "numbers = [1, 2, 2, 3, 4, 4, 4, 5]\n",
    "mode_result = find_mode(numbers)\n",
    "print(\"Mode:\", mode_result)\n"
   ]
  },
  {
   "cell_type": "markdown",
   "id": "b37470a9",
   "metadata": {},
   "source": [
    "\n",
    "---\n",
    "\n",
    "### Exercise 94:\n",
    "Write a Python function that takes a list of numbers and returns the sum of the squares of all the numbers.\n"
   ]
  },
  {
   "cell_type": "code",
   "execution_count": 74,
   "id": "6ce9e87b",
   "metadata": {},
   "outputs": [
    {
     "name": "stdout",
     "output_type": "stream",
     "text": [
      "30\n"
     ]
    }
   ],
   "source": [
    "# Exercise 94\n",
    "def sum_of_squares(numbers):\n",
    "    return sum(x**2 for x in numbers)\n",
    "\n",
    "# Example usage:\n",
    "nums = [1, 2, 3, 4]\n",
    "result = sum_of_squares(nums)\n",
    "print(result)  \n"
   ]
  },
  {
   "cell_type": "markdown",
   "id": "cd40161b",
   "metadata": {},
   "source": [
    "\n",
    "---\n",
    "\n",
    "### Exercise 95:\n",
    "Write a Python program that creates a list of tuples, where each tuple contains a number and its cube for numbers from 1 to 5.\n"
   ]
  },
  {
   "cell_type": "code",
   "execution_count": 75,
   "id": "6d8fe1a0",
   "metadata": {},
   "outputs": [
    {
     "name": "stdout",
     "output_type": "stream",
     "text": [
      "[(1, 1), (2, 8), (3, 27), (4, 64), (5, 125)]\n"
     ]
    }
   ],
   "source": [
    "# Exercise 95\n",
    "# Create the list of tuples with number and its cube\n",
    "number_cubes = [(num, num**3) for num in range(1, 6)]\n",
    "\n",
    "# Print the result\n",
    "print(number_cubes)\n"
   ]
  },
  {
   "cell_type": "markdown",
   "id": "ae965a3c",
   "metadata": {},
   "source": [
    "\n",
    "---\n",
    "\n",
    "### Exercise 96:\n",
    "Write a Python function that returns a list of all prime numbers up to `n`.\n"
   ]
  },
  {
   "cell_type": "code",
   "execution_count": 76,
   "id": "922ee043",
   "metadata": {},
   "outputs": [
    {
     "name": "stdout",
     "output_type": "stream",
     "text": [
      "[2, 3, 5, 7, 11, 13, 17, 19]\n"
     ]
    }
   ],
   "source": [
    "# Exercise 96\n",
    "def primes_up_to(n):\n",
    "    primes = []\n",
    "    for num in range(2, n + 1):\n",
    "        is_prime = True\n",
    "        for i in range(2, int(num**0.5) + 1):\n",
    "            if num % i == 0:\n",
    "                is_prime = False\n",
    "                break\n",
    "        if is_prime:\n",
    "            primes.append(num)\n",
    "    return primes\n",
    "\n",
    "# Example usage:\n",
    "print(primes_up_to(20))\n"
   ]
  },
  {
   "cell_type": "markdown",
   "id": "d5568b95",
   "metadata": {},
   "source": [
    "\n",
    "---\n",
    "\n",
    "### Exercise 97:\n",
    "Write a Python program that finds the common keys between two dictionaries.\n"
   ]
  },
  {
   "cell_type": "code",
   "execution_count": 77,
   "id": "7dc99fcf",
   "metadata": {},
   "outputs": [
    {
     "name": "stdout",
     "output_type": "stream",
     "text": [
      "['b', 'c']\n"
     ]
    }
   ],
   "source": [
    "# Exercise 97\n",
    "def common_keys(dict1, dict2):\n",
    "    # Use set intersection to find common keys\n",
    "    return list(set(dict1.keys()) & set(dict2.keys()))\n",
    "\n",
    "# Example usage:\n",
    "dict_a = {'a': 1, 'b': 2, 'c': 3}\n",
    "dict_b = {'b': 4, 'c': 5, 'd': 6}\n",
    "\n",
    "print(common_keys(dict_a, dict_b))\n"
   ]
  },
  {
   "cell_type": "markdown",
   "id": "bc63aa23",
   "metadata": {},
   "source": [
    "\n",
    "---\n",
    "\n",
    "### Exercise 98:\n",
    "Write a Python function that takes a list of strings and returns a list of the strings that contain more than 5 characters.\n"
   ]
  },
  {
   "cell_type": "code",
   "execution_count": 78,
   "id": "5d279573",
   "metadata": {},
   "outputs": [
    {
     "name": "stdout",
     "output_type": "stream",
     "text": [
      "['banana', 'cherry', 'elderberry']\n"
     ]
    }
   ],
   "source": [
    "# Exercise 98\n",
    "def filter_long_strings(strings):\n",
    "    return [s for s in strings if len(s) > 5]\n",
    "\n",
    "# Example usage:\n",
    "words = [\"apple\", \"banana\", \"cherry\", \"date\", \"elderberry\"]\n",
    "print(filter_long_strings(words))\n"
   ]
  },
  {
   "cell_type": "markdown",
   "id": "d7b1bc80",
   "metadata": {},
   "source": [
    "\n",
    "---\n",
    "\n",
    "### Exercise 99:\n",
    "Write a Python program that converts a list of strings into a list of tuples, where each tuple contains the string and its length.\n"
   ]
  },
  {
   "cell_type": "code",
   "execution_count": 79,
   "id": "872e6d36",
   "metadata": {},
   "outputs": [
    {
     "name": "stdout",
     "output_type": "stream",
     "text": [
      "[('apple', 5), ('banana', 6), ('cherry', 6)]\n"
     ]
    }
   ],
   "source": [
    "# Exercise 99\n",
    "def strings_to_tuples(strings):\n",
    "    return [(s, len(s)) for s in strings]\n",
    "\n",
    "# Example usage:\n",
    "words = [\"apple\", \"banana\", \"cherry\"]\n",
    "result = strings_to_tuples(words)\n",
    "print(result)\n"
   ]
  },
  {
   "cell_type": "markdown",
   "id": "277dc676",
   "metadata": {},
   "source": [
    "\n",
    "---\n",
    "\n",
    "### Exercise 100:\n",
    "Write a Python function that takes a list of dictionaries and returns a new dictionary by summing the values of each key across all dictionaries.\n"
   ]
  },
  {
   "cell_type": "code",
   "execution_count": 80,
   "id": "7667d86f",
   "metadata": {},
   "outputs": [
    {
     "name": "stdout",
     "output_type": "stream",
     "text": [
      "{'a': 7, 'b': 4, 'c': 6}\n"
     ]
    }
   ],
   "source": [
    "# Exercise 100\n",
    "def sum_dicts(dict_list):\n",
    "    result = {}\n",
    "    for d in dict_list:\n",
    "        for key, value in d.items():\n",
    "            if key in result:\n",
    "                result[key] += value\n",
    "            else:\n",
    "                result[key] = value\n",
    "    return result\n",
    "\n",
    "# Example usage:\n",
    "dicts = [\n",
    "    {'a': 2, 'b': 3},\n",
    "    {'a': 5, 'c': 4},\n",
    "    {'b': 1, 'c': 2}\n",
    "]\n",
    "\n",
    "print(sum_dicts(dicts))\n"
   ]
  },
  {
   "cell_type": "markdown",
   "id": "683a0ab7",
   "metadata": {},
   "source": [
    "\n",
    "---"
   ]
  },
  {
   "cell_type": "code",
   "execution_count": null,
   "id": "4e7202b1-2504-4f93-9664-f1b1c42bf507",
   "metadata": {},
   "outputs": [],
   "source": []
  }
 ],
 "metadata": {
  "kernelspec": {
   "display_name": "Python 3 (ipykernel)",
   "language": "python",
   "name": "python3"
  },
  "language_info": {
   "codemirror_mode": {
    "name": "ipython",
    "version": 3
   },
   "file_extension": ".py",
   "mimetype": "text/x-python",
   "name": "python",
   "nbconvert_exporter": "python",
   "pygments_lexer": "ipython3",
   "version": "3.11.5"
  }
 },
 "nbformat": 4,
 "nbformat_minor": 5
}
