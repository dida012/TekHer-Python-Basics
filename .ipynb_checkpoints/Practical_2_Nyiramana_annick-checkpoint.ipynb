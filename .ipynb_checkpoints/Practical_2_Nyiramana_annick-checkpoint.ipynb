{
 "cells": [
  {
   "cell_type": "markdown",
   "id": "d68c1dee",
   "metadata": {},
   "source": [
    "# Practical_2: String and files"
   ]
  },
  {
   "cell_type": "markdown",
   "id": "bea983a3",
   "metadata": {},
   "source": [
    "---\n",
    "\n",
    "### Exercise 1:\n",
    "Create a string variable `text` and assign it the value `\"Python is amazing!\"`.\n",
    "\n",
    "```python\n",
    "# Exercise 1\n",
    "```\n",
    "\n",
    "---\n",
    "\n",
    "### Exercise 2:\n",
    "Find the length of the string `\"Hello, World!\"` and store it in a variable `length`.\n",
    "\n",
    "```python\n",
    "# Exercise 2\n",
    "```\n",
    "\n",
    "---\n",
    "\n",
    "### Exercise 3:\n",
    "Convert the string `\"python programming\"` to uppercase and store it in a variable `upper_text`.\n",
    "\n",
    "```python\n",
    "# Exercise 3\n",
    "```\n",
    "\n",
    "---\n",
    "\n",
    "### Exercise 4:\n",
    "Extract the first 5 characters from the string `\"Artificial Intelligence\"`.\n",
    "\n",
    "```python\n",
    "# Exercise 4\n",
    "```\n",
    "\n",
    "---\n",
    "\n",
    "### Exercise 5:\n",
    "Concatenate the strings `\"Hello\"` and `\"World\"` with a space in between.\n",
    "\n",
    "```python\n",
    "# Exercise 5\n",
    "```\n",
    "\n",
    "---\n",
    "\n",
    "### Exercise 6:\n",
    "Replace the word `\"dog\"` with `\"cat\"` in the string `\"The quick brown dog jumps over the lazy dog.\"`.\n",
    "\n",
    "```python\n",
    "# Exercise 6\n",
    "```\n",
    "\n",
    "---\n",
    "\n",
    "### Exercise 7:\n",
    "Split the string `\"apple,banana,orange\"` by commas and store the result in a list `fruits_list`.\n",
    "\n",
    "```python\n",
    "# Exercise 7\n",
    "```\n",
    "\n",
    "---\n",
    "\n",
    "### Exercise 8:\n",
    "Use string formatting to create the sentence `\"My name is Alice and I am 25 years old.\"`, where the name and age are variables.\n",
    "\n",
    "```python\n",
    "# Exercise 8\n",
    "```\n",
    "\n",
    "---\n",
    "\n",
    "### Exercise 9:\n",
    "Check if the string `\"python\"` is present in the sentence `\"I love python programming\"`.\n",
    "\n",
    "```python\n",
    "# Exercise 9\n",
    "```\n",
    "\n",
    "---\n",
    "\n",
    "### Exercise 10:\n",
    "Count the number of occurrences of the letter `\"e\"` in the string `\"Elephant is an elegant animal\"`.\n",
    "\n",
    "```python\n",
    "# Exercise 10\n",
    "```\n",
    "\n",
    "---\n",
    "\n",
    "### Exercise 11:\n",
    "Remove any leading and trailing spaces from the string `\"   Data Science   \"`.\n",
    "\n",
    "```python\n",
    "# Exercise 11\n",
    "```\n",
    "\n",
    "---\n",
    "\n",
    "### Exercise 12:\n",
    "Convert the string `\"100\"` into an integer and store it in a variable `int_value`.\n",
    "\n",
    "```python\n",
    "# Exercise 12\n",
    "```\n",
    "\n",
    "---\n",
    "\n",
    "### Exercise 13:\n",
    "Extract the substring `\"pro\"` from the string `\"programming\"`.\n",
    "\n",
    "```python\n",
    "# Exercise 13\n",
    "```\n",
    "\n",
    "---\n",
    "\n",
    "### Exercise 14:\n",
    "Check if the string `\"data\"` starts with `\"da\"` and ends with `\"ta\"`.\n",
    "\n",
    "```python\n",
    "# Exercise 14\n",
    "```\n",
    "\n",
    "---\n",
    "\n",
    "### Exercise 15:\n",
    "Reverse the string `\"machine learning\"` and store the result in `reversed_text`.\n",
    "\n",
    "```python\n",
    "# Exercise 15\n",
    "```\n",
    "\n",
    "---\n",
    "\n",
    "### Exercise 16:\n",
    "Convert the first letter of each word in the string `\"machine learning is fun\"` to uppercase.\n",
    "\n",
    "```python\n",
    "# Exercise 16\n",
    "```\n",
    "\n",
    "---\n",
    "\n",
    "### Exercise 17:\n",
    "Create a multiline string representing a poem and store it in a variable `poem`.\n",
    "\n",
    "```python\n",
    "# Exercise 17\n",
    "```\n",
    "\n",
    "---\n",
    "\n",
    "### Exercise 18:\n",
    "Write a string to a file named `\"output.txt\"`.\n",
    "\n",
    "```python\n",
    "# Exercise 18\n",
    "```\n",
    "\n",
    "---\n",
    "\n",
    "### Exercise 19:\n",
    "Read the contents of a file named `\"data.txt\"` and print it line by line.\n",
    "\n",
    "```python\n",
    "# Exercise 19\n",
    "```\n",
    "\n",
    "---\n",
    "\n",
    "### Exercise 20:\n",
    "Check if a file `\"example.txt\"` exists before opening it.\n",
    "\n",
    "```python\n",
    "# Exercise 20\n",
    "```\n",
    "\n",
    "---\n",
    "\n",
    "### Exercise 21:\n",
    "Append a new line `\"This is a new line\"` to an existing file `\"notes.txt\"`.\n",
    "\n",
    "```python\n",
    "# Exercise 21\n",
    "```\n",
    "\n",
    "---\n",
    "\n",
    "### Exercise 22:\n",
    "Read the contents of a file `\"log.txt\"` and store each line in a list `log_lines`.\n",
    "\n",
    "```python\n",
    "# Exercise 22\n",
    "```\n",
    "\n",
    "---\n",
    "\n",
    "### Exercise 23:\n",
    "Create a new file `\"report.txt\"` and write the string `\"Data analysis report\"` to it.\n",
    "\n",
    "```python\n",
    "# Exercise 23\n",
    "```\n",
    "\n",
    "---\n",
    "\n",
    "### Exercise 24:\n",
    "Replace the word `\"error\"` with `\"issue\"` in a file `\"log.txt\"`.\n",
    "\n",
    "```python\n",
    "# Exercise 24\n",
    "```\n",
    "\n",
    "---\n",
    "\n",
    "### Exercise 25:\n",
    "Count the number of words in a text file `\"document.txt\"`.\n",
    "\n",
    "```python\n",
    "# Exercise 25\n",
    "```\n",
    "\n",
    "---\n",
    "\n",
    "### Exercise 26:\n",
    "Write a Python script that reads a file `\"essay.txt\"` and prints the total number of lines, words, and characters.\n",
    "\n",
    "```python\n",
    "# Exercise 26\n",
    "```\n",
    "\n",
    "---\n",
    "\n",
    "### Exercise 27:\n",
    "Copy the contents of one file `\"source.txt\"` to another file `\"destination.txt\"`.\n",
    "\n",
    "```python\n",
    "# Exercise 27\n",
    "```\n",
    "\n",
    "---\n",
    "\n",
    "### Exercise 28:\n",
    "Write a Python function that takes a filename as input and returns the number of lines in the file.\n",
    "\n",
    "```python\n",
    "# Exercise 28\n",
    "```\n",
    "\n",
    "---\n",
    "\n",
    "### Exercise 29:\n",
    "Extract all the words from a text file `\"article.txt\"` that contain more than 5 characters.\n",
    "\n",
    "```python\n",
    "# Exercise 29\n",
    "```\n",
    "\n",
    "---\n",
    "\n",
    "### Exercise 30:\n",
    "Convert the contents of a file `\"notes.txt\"` to uppercase and save the result in another file `\"uppercase_notes.txt\"`.\n",
    "\n",
    "```python\n",
    "# Exercise 30\n",
    "```\n",
    "\n",
    "---\n",
    "\n",
    "### Exercise 31:\n",
    "Write a Python script that reads a file and removes all empty lines.\n",
    "\n",
    "```python\n",
    "# Exercise 31\n",
    "```\n",
    "\n",
    "---\n",
    "\n",
    "### Exercise 32:\n",
    "Open a file `\"config.txt\"` in both read and write mode.\n",
    "\n",
    "```python\n",
    "# Exercise 32\n",
    "```\n",
    "\n",
    "---\n",
    "\n",
    "### Exercise 33:\n",
    "Write a Python function that reads a file and prints the longest line in the file.\n",
    "\n",
    "```python\n",
    "# Exercise 33\n",
    "```\n",
    "\n",
    "---\n",
    "\n",
    "### Exercise 34:\n",
    "Write a Python script to count the frequency of each letter in a text file `\"message.txt\"`.\n",
    "\n",
    "```python\n",
    "# Exercise 34\n",
    "```\n",
    "\n",
    "---\n",
    "\n",
    "### Exercise 35:\n",
    "Write a Python script that reads a file and prints the total number of characters, excluding spaces.\n",
    "\n",
    "```python\n",
    "# Exercise 35\n",
    "```\n",
    "\n",
    "---\n",
    "\n",
    "### Exercise 36:\n",
    "Create a Python script to check whether a file is empty or not.\n",
    "\n",
    "```python\n",
    "# Exercise 36\n",
    "```\n",
    "\n",
    "---\n",
    "\n",
    "### Exercise 37:\n",
    "Write a Python function that reads a file and removes all punctuation marks from the text.\n",
    "\n",
    "```python\n",
    "# Exercise 37\n",
    "```\n",
    "\n",
    "---\n",
    "\n",
    "### Exercise 38:\n",
    "Create a Python function that writes a list of strings to a file, each string on a new line.\n",
    "\n",
    "```python\n",
    "# Exercise 38\n",
    "```\n",
    "\n",
    "---\n",
    "\n",
    "### Exercise 39:\n",
    "Write a Python script to count the number of lines that start with a specific letter (e.g., \"A\") in a text file.\n",
    "\n",
    "```python\n",
    "# Exercise 39\n",
    "```\n",
    "\n",
    "---\n",
    "\n",
    "### Exercise 40:\n",
    "Write a Python function that takes a string as input and writes it to a file `\"output.txt\"` in reverse order.\n",
    "\n",
    "```python\n",
    "# Exercise 40\n",
    "```\n",
    "\n",
    "---\n",
    "\n",
    "### Exercise 41:\n",
    "Write a Python script that reads a file and prints all the lines that contain the word `\"Python\"`.\n",
    "\n",
    "```python\n",
    "# Exercise 41\n",
    "```\n",
    "\n",
    "---\n",
    "\n",
    "### Exercise 42:\n",
    "Write a Python script that opens a file and removes all numeric digits from the file's content.\n",
    "\n",
    "```python\n",
    "# Exercise 42\n",
    "```\n",
    "\n",
    "---\n",
    "\n",
    "### Exercise 43:\n",
    "Write a Python script to find the most frequent word in a text file `\"book.txt\"`.\n",
    "\n",
    "```python\n",
    "# Exercise 43\n",
    "```\n",
    "\n",
    "---\n",
    "\n",
    "### Exercise 44:\n",
    "Write a Python script that reads a file and prints all the lines that contain exactly 5 words.\n",
    "\n",
    "```python\n",
    "# Exercise 44\n",
    "```\n",
    "\n",
    "---\n",
    "\n",
    "### Exercise 45:\n",
    "Write a Python script to read a file and print the first and last line of the file.\n",
    "\n",
    "```python\n",
    "# Exercise 45\n",
    "```\n",
    "\n",
    "---\n",
    "\n",
    "### Exercise 46:\n",
    "Write a Python script that checks if a file `\"students.txt\"` is writable.\n",
    "\n",
    "```python\n",
    "# Exercise 46\n",
    "```\n",
    "\n",
    "---\n",
    "\n",
    "### Exercise 47:\n",
    "Create a Python function that opens a file and returns the number of unique words in the file.\n",
    "\n",
    "```python\n",
    "# Exercise 47\n",
    "```\n",
    "\n",
    "---\n",
    "\n",
    "### Exercise 48:\n",
    "Write a Python script that reads a file and prints all lines in reverse order.\n",
    "\n",
    "```python\n",
    "# Exercise 48\n",
    "```\n",
    "\n",
    "---\n",
    "\n",
    "### Exercise 49:\n",
    "Write a Python function that reads a file and returns the most common letter in the text.\n",
    "\n",
    "```python\n",
    "# Exercise 49\n",
    "```\n",
    "\n",
    "---\n",
    "\n",
    "### Exercise 50:\n",
    "Write a Python script that reads a file and replaces every occurrence of `\"Python\"` with `\"Java\"`.\n",
    "\n",
    "```python\n",
    "# Exercise 50\n",
    "```\n",
    "\n",
    "---\n",
    "\n"
   ]
  },
  {
   "cell_type": "code",
   "execution_count": 1,
   "id": "dcf6ca38",
   "metadata": {},
   "outputs": [],
   "source": [
    "# Exercise 1\n",
    "text = \"Python is amazing!\"\n"
   ]
  },
  {
   "cell_type": "code",
   "execution_count": 2,
   "id": "61afa13a",
   "metadata": {},
   "outputs": [],
   "source": [
    "# Exercise 2\n",
    "length = len(\"Hello, World!\")\n"
   ]
  },
  {
   "cell_type": "code",
   "execution_count": 3,
   "id": "504b12e8",
   "metadata": {},
   "outputs": [],
   "source": [
    "# Exercise 3\n",
    "upper_text = \"python programming\".upper()\n"
   ]
  },
  {
   "cell_type": "code",
   "execution_count": 4,
   "id": "4cf3ce0f",
   "metadata": {},
   "outputs": [],
   "source": [
    "# Exercise 4\n",
    "substring = \"Artificial Intelligence\"[:5]\n"
   ]
  },
  {
   "cell_type": "code",
   "execution_count": 5,
   "id": "d3934f8e",
   "metadata": {},
   "outputs": [],
   "source": [
    "# Exercise 5\n",
    "greeting = \"Hello\" + \" \" + \"World\"\n"
   ]
  },
  {
   "cell_type": "code",
   "execution_count": 6,
   "id": "c6340c5d",
   "metadata": {},
   "outputs": [],
   "source": [
    "# Exercise 6\n",
    "text = \"The quick brown dog jumps over the lazy dog.\"\n",
    "new_text = text.replace(\"dog\", \"cat\")\n"
   ]
  },
  {
   "cell_type": "code",
   "execution_count": 7,
   "id": "cb7dbbe0",
   "metadata": {},
   "outputs": [],
   "source": [
    "# Exercise 7\n",
    "fruits = \"apple,banana,orange\"\n",
    "fruits_list = fruits.split(\",\")\n"
   ]
  },
  {
   "cell_type": "code",
   "execution_count": 8,
   "id": "b5caa8ee",
   "metadata": {},
   "outputs": [],
   "source": [
    "# Exercise 8\n",
    "name = \"Annick\"\n",
    "age = 25\n",
    "sentence = f\"My name is {name} and I am {age} years old.\"\n"
   ]
  },
  {
   "cell_type": "code",
   "execution_count": 9,
   "id": "95c55218",
   "metadata": {},
   "outputs": [],
   "source": [
    "# Exercise 9:\n",
    "# Check if the string \"python\" is present in the sentence \"I love python programming\".\n",
    "\n",
    "sentence = \"I love python programming\"\n",
    "word = \"python\"\n",
    "is_present = word in sentence\n"
   ]
  },
  {
   "cell_type": "code",
   "execution_count": 10,
   "id": "f6c0d1ad",
   "metadata": {},
   "outputs": [],
   "source": [
    "# Exercise 10:\n",
    "# Count the number of occurrences of the letter \"e\" in the string \"Elephant is an elegant animal\".\n",
    "\n",
    "text = \"Elephant is an elegant animal\"\n",
    "count_e = text.lower().count(\"e\")\n"
   ]
  },
  {
   "cell_type": "code",
   "execution_count": 11,
   "id": "c706e6a5",
   "metadata": {},
   "outputs": [],
   "source": [
    "# Exercise 11:\n",
    "# Remove any leading and trailing spaces from the string \" Data Science \".\n",
    "\n",
    "text = \" Data Science \"\n",
    "clean_text = text.strip()\n"
   ]
  },
  {
   "cell_type": "code",
   "execution_count": 12,
   "id": "0c822957",
   "metadata": {},
   "outputs": [],
   "source": [
    "# Exercise 12:\n",
    "# Convert the string \"100\" into an integer and store it in a variable int_value.\n",
    "\n",
    "int_value = int(\"100\")\n"
   ]
  },
  {
   "cell_type": "code",
   "execution_count": 13,
   "id": "903c0f25",
   "metadata": {},
   "outputs": [],
   "source": [
    "# Exercise 13:\n",
    "# Extract the substring \"pro\" from the string \"programming\".\n",
    "\n",
    "substring = \"programming\"[0:3]\n"
   ]
  },
  {
   "cell_type": "code",
   "execution_count": 14,
   "id": "df9f875e",
   "metadata": {},
   "outputs": [],
   "source": [
    "# Exercise 14:\n",
    "text = \"data\"\n",
    "starts_with_da = text.startswith(\"da\")\n",
    "ends_with_ta = text.endswith(\"ta\")\n"
   ]
  },
  {
   "cell_type": "code",
   "execution_count": 15,
   "id": "2b6af410",
   "metadata": {},
   "outputs": [],
   "source": [
    "# Exercise 15:\n",
    "# Define the original string\n",
    "text = \"machine learning\"\n",
    "\n",
    "# Reverse the string using slicing with step -1\n",
    "reversed_text = text[::-1]\n"
   ]
  },
  {
   "cell_type": "code",
   "execution_count": 16,
   "id": "ac24519d",
   "metadata": {},
   "outputs": [
    {
     "name": "stdout",
     "output_type": "stream",
     "text": [
      "Machine Learning Is Fun\n"
     ]
    }
   ],
   "source": [
    "# Exercise 16:\n",
    "# Convert the first letter of each word in the string \"machine learning is fun\" to uppercase\n",
    "\n",
    "# Original string\n",
    "text = \"machine learning is fun\"\n",
    "\n",
    "# Use the title() method to capitalize the first letter of each word\n",
    "result = text.title()\n",
    "\n",
    "# Print the result\n",
    "print(result)  # Output: Machine Learning Is Fun\n"
   ]
  },
  {
   "cell_type": "code",
   "execution_count": 17,
   "id": "9b27519b",
   "metadata": {},
   "outputs": [
    {
     "name": "stdout",
     "output_type": "stream",
     "text": [
      "  \n",
      "Roses are red,\n",
      "Violets are blue,\n",
      "Python is fun,\n",
      "And so are you.\n",
      "\n"
     ]
    }
   ],
   "source": [
    "# Exercise 17:\n",
    "# Create a multiline string representing a poem and store it in a variable named 'poem'\n",
    "\n",
    "poem = \"\"\"  \n",
    "Roses are red,\n",
    "Violets are blue,\n",
    "Python is fun,\n",
    "And so are you.\n",
    "\"\"\"\n",
    "\n",
    "# Print the poem\n",
    "print(poem)\n"
   ]
  },
  {
   "cell_type": "code",
   "execution_count": 18,
   "id": "81981165",
   "metadata": {},
   "outputs": [],
   "source": [
    "# Exercise 18:\n",
    "# Write a string to a file named \"output.txt\"\n",
    "\n",
    "# The string to be written to the file\n",
    "text_to_write = \"Hello, this is a sample string written to a file.\"\n",
    "\n",
    "# Open the file in write mode ('w'). If the file doesn't exist, it will be created.\n",
    "with open(\"output.txt\", \"w\") as file:\n",
    "    # Write the string to the file\n",
    "    file.write(text_to_write)\n",
    "\n",
    "# File is automatically closed when the 'with' block ends\n"
   ]
  },
  {
   "cell_type": "code",
   "execution_count": 36,
   "id": "16de4ccc",
   "metadata": {},
   "outputs": [
    {
     "name": "stdout",
     "output_type": "stream",
     "text": [
      "C:\\Users\\User\\Documents\\TeckGit\\Tekher\\TekHer-Python-Basics\n",
      "Name,Age,Score\n",
      "Alice,23,85\n",
      "Bob,30,90\n",
      "Charlie,25,88\n",
      "Hello World\n",
      "This is a test file.\n",
      "Line 3\n"
     ]
    }
   ],
   "source": [
    "# Exercise 19:\n",
    "#\n",
    "import os\n",
    "print(os.getcwd())\n",
    "#Provide full/absolute path\n",
    "with open(r\"C:\\Users\\User\\Documents\\TeckGit\\Tekher\\TekHer-Python-Basics\\data\\data.txt\", \"r\") as file:\n",
    "\n",
    "    for line in file:\n",
    "        print(line.strip())\n",
    "        #Create the file in code (if it's for testing)\n",
    "with open(\"data.txt\", \"w\") as file:\n",
    "    file.write(\"Hello World\\nThis is a test file.\\nLine 3\")\n",
    "\n",
    "# Now read it\n",
    "with open(\"data.txt\", \"r\") as file:\n",
    "    for line in file:\n",
    "        print(line.strip())\n",
    "\n"
   ]
  },
  {
   "cell_type": "code",
   "execution_count": 21,
   "id": "7c7814f4",
   "metadata": {},
   "outputs": [
    {
     "name": "stdout",
     "output_type": "stream",
     "text": [
      "The file 'example.txt' does not exist.\n"
     ]
    }
   ],
   "source": [
    "# Exercise 20:\n",
    "\n",
    "import os  # Importing os module\n",
    "\n",
    "# Check if the file \"example.txt\" exists\n",
    "if os.path.exists(\"example.txt\"):\n",
    "    # If it exists, open and read the file\n",
    "    with open(\"example.txt\", \"r\") as file:\n",
    "        content = file.read()\n",
    "        print(content)\n",
    "else:\n",
    "    # If it does not exist, print a message\n",
    "    print(\"The file 'example.txt' does not exist.\")\n",
    "\n"
   ]
  },
  {
   "cell_type": "code",
   "execution_count": 22,
   "id": "19cbbb4c",
   "metadata": {},
   "outputs": [],
   "source": [
    "# Exercise 21:\n",
    "\n",
    "# Open the file \"notes.txt\" in append mode\n",
    "with open(\"notes.txt\", \"a\") as file:\n",
    "    # Append the new line to the file\n",
    "    file.write(\"This is a new line\\n\")\n"
   ]
  },
  {
   "cell_type": "code",
   "execution_count": 38,
   "id": "f837021d",
   "metadata": {},
   "outputs": [
    {
     "name": "stdout",
     "output_type": "stream",
     "text": [
      "2024-05-20 10:00:00 INFO Program started\n",
      "2024-05-20 10:05:00 ERROR Invalid input\n"
     ]
    }
   ],
   "source": [
    "# Exercise 22:\n",
    "# Read every line from the file \"log.txt\" located in a specific folder,\n",
    "# and store each line as an element in a list called log_lines.\n",
    "\n",
    "# Option 1: Use a raw string (recommended)\n",
    "with open(r\"C:\\Users\\User\\Documents\\TeckGit\\Tekher\\TekHer-Python-Basics\\data\\log.txt\", \"r\") as file:\n",
    "    # Read all lines from the file and store them in a list\n",
    "    log_lines = file.readlines()\n",
    "\n",
    "# Optional: Remove trailing newline characters and print each line\n",
    "for line in log_lines:\n",
    "    print(line.strip())\n",
    "\n",
    "\n"
   ]
  },
  {
   "cell_type": "code",
   "execution_count": 24,
   "id": "f2295183",
   "metadata": {},
   "outputs": [],
   "source": [
    "# Exercise 23:\n",
    "\n",
    "# Open (or create) the file \"report.txt\" in write mode\n",
    "with open(\"report.txt\", \"w\") as file:\n",
    "    # Write the string \"Data analysis report\" to the file\n",
    "    file.write(\"Data analysis report\")\n"
   ]
  },
  {
   "cell_type": "code",
   "execution_count": 39,
   "id": "2d336471",
   "metadata": {},
   "outputs": [],
   "source": [
    "# Exercise 24:\n",
    "\n",
    "# Open the file \"log.txt\" in read mode to read its contents\n",
    "with open(\"log.txt\", \"r\") as file:\n",
    "    content = file.read()\n",
    "\n",
    "# Replace all occurrences of the word \"error\" with \"issue\"\n",
    "updated_content = content.replace(\"error\", \"issue\")\n",
    "\n",
    "# Open the file again in write mode to overwrite with updated content\n",
    "with open(\"log.txt\", \"w\") as file:\n",
    "    file.write(updated_content)\n"
   ]
  },
  {
   "cell_type": "code",
   "execution_count": 40,
   "id": "11f3993d",
   "metadata": {},
   "outputs": [
    {
     "name": "stdout",
     "output_type": "stream",
     "text": [
      "Total number of words in 'document.txt': 12\n"
     ]
    }
   ],
   "source": [
    "# Exercise 25:\n",
    "# Goal: Count the number of words in \"document.txt\"\n",
    "# located in the specified folder.\n",
    "\n",
    "# Step 1: Use the full path to the file (use a raw string to avoid backslash issues)\n",
    "file_path = r\"C:\\Users\\User\\Documents\\TeckGit\\Tekher\\TekHer-Python-Basics\\data\\document.txt\"\n",
    "\n",
    "try:\n",
    "    # Step 2: Open the file in read mode\n",
    "    with open(file_path, \"r\") as file:\n",
    "        # Step 3: Read the entire file content\n",
    "        content = file.read()\n",
    "        \n",
    "        # Step 4: Split the content into words using .split()\n",
    "        words = content.split()\n",
    "        \n",
    "        # Step 5: Count the number of words\n",
    "        word_count = len(words)\n",
    "\n",
    "    # Step 6: Print the result\n",
    "    print(f\"Total number of words in 'document.txt': {word_count}\")\n",
    "\n",
    "except FileNotFoundError:\n",
    "    print(\"❌ Error: The file 'document.txt' was not found.\")\n",
    "    print(\"Please check the file path again:\")\n",
    "    print(file_path)\n",
    "\n"
   ]
  },
  {
   "cell_type": "code",
   "execution_count": 41,
   "id": "15ca13fc",
   "metadata": {},
   "outputs": [
    {
     "name": "stdout",
     "output_type": "stream",
     "text": [
      "Total number of lines in 'essay.txt': 1\n"
     ]
    }
   ],
   "source": [
    "# Exercise 26:\n",
    "#\n",
    "# Goal: Count the number of lines in \"essay.txt\" located in a specific folder.\n",
    "\n",
    "# Step 1: Provide the full absolute file path (use raw string to avoid backslash issues)\n",
    "file_path = r\"C:\\Users\\User\\Documents\\TeckGit\\Tekher\\TekHer-Python-Basics\\data\\essay.txt\"\n",
    "\n",
    "try:\n",
    "    # Step 2: Open the file in read mode\n",
    "    with open(file_path, \"r\") as file:\n",
    "        # Step 3: Read all lines into a list\n",
    "        lines = file.readlines()\n",
    "\n",
    "    # Step 4: Count the total number of lines\n",
    "    line_count = len(lines)\n",
    "\n",
    "    # Step 5: Print the result\n",
    "    print(f\"Total number of lines in 'essay.txt': {line_count}\")\n",
    "\n",
    "except FileNotFoundError:\n",
    "    print(\"❌ Error: The file 'essay.txt' was not found.\")\n",
    "    print(\"Check that the path is correct:\")\n",
    "    print(file_path)\n",
    "\n"
   ]
  },
  {
   "cell_type": "code",
   "execution_count": 42,
   "id": "7dd0c815",
   "metadata": {},
   "outputs": [
    {
     "name": "stdout",
     "output_type": "stream",
     "text": [
      "✅ Contents successfully copied from source.txt to destination.txt\n"
     ]
    }
   ],
   "source": [
    "# Exercise 27:\n",
    "#\n",
    "# Goal: Read the contents of \"source.txt\" and copy them into \"destination.txt\"\n",
    "\n",
    "# Step 1: Use full path to the source file (raw string to avoid path errors)\n",
    "source_path = r\"C:\\Users\\User\\Documents\\TeckGit\\Tekher\\TekHer-Python-Basics\\data\\source.txt\"\n",
    "\n",
    "# Optional: Choose a full path for the destination file too\n",
    "destination_path = r\"C:\\Users\\User\\Documents\\TeckGit\\Tekher\\TekHer-Python-Basics\\data\\destination.txt\"\n",
    "\n",
    "try:\n",
    "    # Step 2: Open the source file in read mode\n",
    "    with open(source_path, \"r\") as source_file:\n",
    "        content = source_file.read()  # Read everything from source\n",
    "\n",
    "    # Step 3: Open the destination file in write mode and write the content\n",
    "    with open(destination_path, \"w\") as destination_file:\n",
    "        destination_file.write(content)\n",
    "\n",
    "    # Step 4: Confirmation message\n",
    "    print(f\"✅ Contents successfully copied from source.txt to destination.txt\")\n",
    "\n",
    "except FileNotFoundError:\n",
    "    print(\"❌ Error: 'source.txt' not found.\")\n",
    "    print(\"Check that the path is correct:\")\n",
    "    print(source_path)\n",
    "\n"
   ]
  },
  {
   "cell_type": "code",
   "execution_count": 29,
   "id": "1ba74845",
   "metadata": {},
   "outputs": [],
   "source": [
    "# Exercise 28:\n",
    "\n",
    "def count_lines(filename):\n",
    "    \"\"\"\n",
    "    Returns the number of lines in the specified file.\n",
    "    \n",
    "    Args:\n",
    "        filename (str): The name of the file to count lines from.\n",
    "        \n",
    "    Returns:\n",
    "        int: Number of lines in the file.\n",
    "    \"\"\"\n",
    "    with open(filename, \"r\") as file:\n",
    "        lines = file.readlines()  # Read all lines into a list\n",
    "        return len(lines)          # Return the number of lines\n",
    "\n",
    "# Example usage:\n",
    "# print(count_lines(\"example.txt\"))\n"
   ]
  },
  {
   "cell_type": "code",
   "execution_count": 43,
   "id": "4f6572aa",
   "metadata": {},
   "outputs": [
    {
     "name": "stdout",
     "output_type": "stream",
     "text": [
      "✅ Total number of words: 14\n",
      "First 10 words: ['This', 'is', 'a', 'sample', 'article', 'about', 'AI', 'and', 'its', 'applications.']\n"
     ]
    }
   ],
   "source": [
    "# Exercise 29:\n",
    "#\n",
    "# Read the content of \"article.txt\" and split it into words.\n",
    "\n",
    "# Step 1: Define the full path to article.txt using a raw string\n",
    "file_path = r\"C:\\Users\\User\\Documents\\TeckGit\\Tekher\\TekHer-Python-Basics\\data\\article.txt\"\n",
    "\n",
    "try:\n",
    "    # Step 2: Open the file in read mode\n",
    "    with open(file_path, \"r\") as file:\n",
    "        # Step 3: Read the full content\n",
    "        content = file.read()\n",
    "\n",
    "    # Step 4: Split the content into words using whitespace\n",
    "    words = content.split()\n",
    "\n",
    "    # Step 5: Print the total word count and optionally the first few words\n",
    "    print(f\"✅ Total number of words: {len(words)}\")\n",
    "    print(\"First 10 words:\", words[:10])\n",
    "\n",
    "except FileNotFoundError:\n",
    "    print(\"❌ Error: The file 'article.txt' was not found at the specified location.\")\n",
    "    print(\"Please check this path:\")\n",
    "    print(file_path)\n",
    "\n"
   ]
  },
  {
   "cell_type": "code",
   "execution_count": 31,
   "id": "d60c1a38",
   "metadata": {},
   "outputs": [],
   "source": [
    "# Exercise 30:\n",
    "\n",
    "# Open the original file in read mode\n",
    "with open(\"notes.txt\", \"r\") as input_file:\n",
    "    content = input_file.read()  # Read the entire content\n",
    "\n",
    "# Convert the content to uppercase\n",
    "uppercase_content = content.upper()\n",
    "\n",
    "# Open the destination file in write mode\n",
    "with open(\"uppercase_notes.txt\", \"w\") as output_file:\n",
    "    output_file.write(uppercase_content)  # Write the uppercase content\n"
   ]
  },
  {
   "cell_type": "code",
   "execution_count": 44,
   "id": "83a913f8",
   "metadata": {},
   "outputs": [
    {
     "name": "stdout",
     "output_type": "stream",
     "text": [
      "❌ Error: The file was not found at 'C:\\Users\\User\\Documents\\TeckGit\\Tekher\\TekHer-Python-Basics\\data\\input.txt'. Please check the path.\n"
     ]
    }
   ],
   "source": [
    "# Exercise 31:\n",
    "#\n",
    "# Read a file, remove all empty lines, and save the result.\n",
    "\n",
    "# Specify the input file path (update as needed)\n",
    "input_path = r\"C:\\Users\\User\\Documents\\TeckGit\\Tekher\\TekHer-Python-Basics\\data\\input.txt\"\n",
    "\n",
    "# Specify the output file path (can overwrite input or save as new file)\n",
    "output_path = r\"C:\\Users\\User\\Documents\\TeckGit\\Tekher\\TekHer-Python-Basics\\data\\output_no_empty_lines.txt\"\n",
    "\n",
    "try:\n",
    "    # Open the input file in read mode\n",
    "    with open(input_path, \"r\") as infile:\n",
    "        # Read all lines from the file\n",
    "        lines = infile.readlines()\n",
    "\n",
    "    # Filter out lines that are empty or contain only whitespace\n",
    "    non_empty_lines = [line for line in lines if line.strip() != \"\"]\n",
    "\n",
    "    # Open the output file in write mode and save filtered lines\n",
    "    with open(output_path, \"w\") as outfile:\n",
    "        outfile.writelines(non_empty_lines)\n",
    "\n",
    "    print(f\"✅ Empty lines removed and saved to '{output_path}'\")\n",
    "\n",
    "except FileNotFoundError:\n",
    "    print(f\"❌ Error: The file was not found at '{input_path}'. Please check the path.\")\n"
   ]
  },
  {
   "cell_type": "code",
   "execution_count": 45,
   "id": "7d72611f",
   "metadata": {},
   "outputs": [
    {
     "name": "stdout",
     "output_type": "stream",
     "text": [
      "Current content of config.txt:\n",
      "setting1=true\n",
      "setting2=false\n",
      "threshold=0.8\n",
      "\n"
     ]
    }
   ],
   "source": [
    "# Exercise 32:\n",
    "#\n",
    "# Open the file \"config.txt\" in read and write mode.\n",
    "\n",
    "# Full path to the file (update if needed)\n",
    "file_path = r\"C:\\Users\\User\\Documents\\TeckGit\\Tekher\\TekHer-Python-Basics\\data\\config.txt\"\n",
    "\n",
    "try:\n",
    "    # Open the file in read and write mode (\"r+\")\n",
    "    with open(file_path, \"r+\") as file:\n",
    "        # Step 1: Read the current content\n",
    "        content = file.read()\n",
    "        print(\"Current content of config.txt:\")\n",
    "        print(content)\n",
    "\n",
    "        # Step 2: Move the cursor to the beginning if you want to overwrite or append\n",
    "        file.seek(0)\n",
    "\n",
    "        # Step 3: Write something new (example)\n",
    "        file.write(\"# This line was added or overwritten\\n\")\n",
    "\n",
    "        # Optional: truncate file to remove leftover content after writing\n",
    "        file.truncate()\n",
    "\n",
    "except FileNotFoundError:\n",
    "    print(f\"❌ Error: The file 'config.txt' was not found at '{file_path}'.\")\n"
   ]
  },
  {
   "cell_type": "code",
   "execution_count": 46,
   "id": "31cea42e",
   "metadata": {},
   "outputs": [
    {
     "name": "stdout",
     "output_type": "stream",
     "text": [
      "❌ Error: File not found at C:\\Users\\User\\Documents\\TeckGit\\Tekher\\TekHer-Python-Basics\\data\\yourfile.txt\n"
     ]
    }
   ],
   "source": [
    "# Exercise 33:\n",
    "#\n",
    "# Define a function to read a file and print the longest line.\n",
    "\n",
    "def print_longest_line(file_path):\n",
    "    try:\n",
    "        with open(file_path, \"r\") as file:\n",
    "            longest_line = \"\"\n",
    "            for line in file:\n",
    "                # Update longest_line if current line is longer\n",
    "                if len(line) > len(longest_line):\n",
    "                    longest_line = line\n",
    "            \n",
    "        # Print the longest line, stripping trailing newlines\n",
    "        print(\"Longest line in the file:\")\n",
    "        print(longest_line.strip())\n",
    "\n",
    "    except FileNotFoundError:\n",
    "        print(f\"❌ Error: File not found at {file_path}\")\n",
    "\n",
    "# Example usage:\n",
    "file_path = r\"C:\\Users\\User\\Documents\\TeckGit\\Tekher\\TekHer-Python-Basics\\data\\yourfile.txt\"\n",
    "print_longest_line(file_path)\n"
   ]
  },
  {
   "cell_type": "code",
   "execution_count": 47,
   "id": "7e0a993e",
   "metadata": {},
   "outputs": [
    {
     "name": "stdout",
     "output_type": "stream",
     "text": [
      "Letter frequencies in 'message.txt':\n",
      "a: 2\n",
      "b: 0\n",
      "c: 0\n",
      "d: 0\n",
      "e: 6\n",
      "f: 1\n",
      "g: 1\n",
      "h: 3\n",
      "i: 3\n",
      "j: 0\n",
      "k: 0\n",
      "l: 3\n",
      "m: 1\n",
      "n: 0\n",
      "o: 1\n",
      "p: 0\n",
      "q: 0\n",
      "r: 1\n",
      "s: 4\n",
      "t: 2\n",
      "u: 0\n",
      "v: 0\n",
      "w: 0\n",
      "x: 0\n",
      "y: 0\n",
      "z: 0\n"
     ]
    }
   ],
   "source": [
    "# Exercise 34:\n",
    "#\n",
    "# Count the frequency of each letter in the file \"message.txt\".\n",
    "\n",
    "from collections import Counter\n",
    "import string\n",
    "\n",
    "# Full path to your message.txt file\n",
    "file_path = r\"C:\\Users\\User\\Documents\\TeckGit\\Tekher\\TekHer-Python-Basics\\data\\message.txt\"\n",
    "\n",
    "try:\n",
    "    with open(file_path, \"r\") as file:\n",
    "        content = file.read().lower()  # Read entire content and convert to lowercase\n",
    "\n",
    "    # Filter to keep only alphabetic characters (a-z)\n",
    "    letters_only = [ch for ch in content if ch in string.ascii_lowercase]\n",
    "\n",
    "    # Count frequency using Counter\n",
    "    letter_freq = Counter(letters_only)\n",
    "\n",
    "    # Print the frequency of each letter in alphabetical order\n",
    "    print(\"Letter frequencies in 'message.txt':\")\n",
    "    for letter in string.ascii_lowercase:\n",
    "        print(f\"{letter}: {letter_freq.get(letter, 0)}\")\n",
    "\n",
    "except FileNotFoundError:\n",
    "    print(f\"❌ Error: 'message.txt' not found at {file_path}\")\n"
   ]
  },
  {
   "cell_type": "code",
   "execution_count": 48,
   "id": "5ea44fbe",
   "metadata": {},
   "outputs": [
    {
     "name": "stdout",
     "output_type": "stream",
     "text": [
      "❌ Error: File not found at C:\\Users\\User\\Documents\\TeckGit\\Tekher\\TekHer-Python-Basics\\data\\yourfile.txt\n"
     ]
    }
   ],
   "source": [
    "# Exercise 35:\n",
    "#\n",
    "# Read a file and print the total number of characters, excluding spaces.\n",
    "\n",
    "# Full path to your file (update as needed)\n",
    "file_path = r\"C:\\Users\\User\\Documents\\TeckGit\\Tekher\\TekHer-Python-Basics\\data\\yourfile.txt\"\n",
    "\n",
    "try:\n",
    "    with open(file_path, \"r\") as file:\n",
    "        content = file.read()\n",
    "\n",
    "    # Remove all spaces from content\n",
    "    content_no_spaces = content.replace(\" \", \"\")\n",
    "\n",
    "    # Count remaining characters\n",
    "    char_count = len(content_no_spaces)\n",
    "\n",
    "    print(f\"Total characters (excluding spaces): {char_count}\")\n",
    "\n",
    "except FileNotFoundError:\n",
    "    print(f\"❌ Error: File not found at {file_path}\")\n"
   ]
  },
  {
   "cell_type": "code",
   "execution_count": 49,
   "id": "f9e42400",
   "metadata": {},
   "outputs": [
    {
     "name": "stdout",
     "output_type": "stream",
     "text": [
      "❌ Error: File not found at C:\\Users\\User\\Documents\\TeckGit\\Tekher\\TekHer-Python-Basics\\data\\yourfile.txt\n"
     ]
    }
   ],
   "source": [
    "# Exercise 36:\n",
    "#\n",
    "# Check whether a file is empty or not.\n",
    "\n",
    "# Full path to your file\n",
    "file_path = r\"C:\\Users\\User\\Documents\\TeckGit\\Tekher\\TekHer-Python-Basics\\data\\yourfile.txt\"\n",
    "\n",
    "try:\n",
    "    with open(file_path, \"r\") as file:\n",
    "        content = file.read()\n",
    "        if content:\n",
    "            print(\"The file is NOT empty.\")\n",
    "        else:\n",
    "            print(\"The file IS empty.\")\n",
    "\n",
    "except FileNotFoundError:\n",
    "    print(f\"❌ Error: File not found at {file_path}\")\n"
   ]
  },
  {
   "cell_type": "code",
   "execution_count": 50,
   "id": "afda4092",
   "metadata": {},
   "outputs": [
    {
     "name": "stdout",
     "output_type": "stream",
     "text": [
      "❌ Error: File not found at C:\\Users\\User\\Documents\\TeckGit\\Tekher\\TekHer-Python-Basics\\data\\yourfile.txt\n"
     ]
    }
   ],
   "source": [
    "# Exercise 37:\n",
    "#\n",
    "# Function to read a file and remove all punctuation marks from its content.\n",
    "\n",
    "import string\n",
    "\n",
    "def remove_punctuation_from_file(file_path):\n",
    "    try:\n",
    "        with open(file_path, \"r\") as file:\n",
    "            content = file.read()\n",
    "        \n",
    "        # Remove punctuation using str.translate()\n",
    "        translator = str.maketrans('', '', string.punctuation)\n",
    "        cleaned_content = content.translate(translator)\n",
    "        \n",
    "        print(\"Text after removing punctuation:\")\n",
    "        print(cleaned_content)\n",
    "        \n",
    "    except FileNotFoundError:\n",
    "        print(f\"❌ Error: File not found at {file_path}\")\n",
    "\n",
    "# Example usage:\n",
    "file_path = r\"C:\\Users\\User\\Documents\\TeckGit\\Tekher\\TekHer-Python-Basics\\data\\yourfile.txt\"\n",
    "remove_punctuation_from_file(file_path)\n"
   ]
  },
  {
   "cell_type": "code",
   "execution_count": 51,
   "id": "7f65e83c",
   "metadata": {},
   "outputs": [
    {
     "name": "stdout",
     "output_type": "stream",
     "text": [
      "✅ Successfully wrote 3 lines to C:\\Users\\User\\Documents\\TeckGit\\Tekher\\TekHer-Python-Basics\\data\\output.txt\n"
     ]
    }
   ],
   "source": [
    "# Exercise 38:\n",
    "#\n",
    "# Function to write a list of strings to a file, each on a new line.\n",
    "\n",
    "def write_list_to_file(file_path, string_list):\n",
    "    try:\n",
    "        with open(file_path, \"w\") as file:\n",
    "            for line in string_list:\n",
    "                file.write(line + \"\\n\")  # Write each string followed by a newline\n",
    "        print(f\"✅ Successfully wrote {len(string_list)} lines to {file_path}\")\n",
    "    except Exception as e:\n",
    "        print(f\"❌ Error writing to file: {e}\")\n",
    "\n",
    "# Example usage:\n",
    "lines = [\n",
    "    \"This is line one.\",\n",
    "    \"Here is line two.\",\n",
    "    \"This is the final line.\"\n",
    "]\n",
    "\n",
    "file_path = r\"C:\\Users\\User\\Documents\\TeckGit\\Tekher\\TekHer-Python-Basics\\data\\output.txt\"\n",
    "write_list_to_file(file_path, lines)\n"
   ]
  },
  {
   "cell_type": "code",
   "execution_count": 52,
   "id": "b406c146",
   "metadata": {},
   "outputs": [
    {
     "name": "stdout",
     "output_type": "stream",
     "text": [
      "❌ Error: File not found at C:\\Users\\User\\Documents\\TeckGit\\Tekher\\TekHer-Python-Basics\\data\\yourfile.txt\n"
     ]
    }
   ],
   "source": [
    "# Exercise 39:\n",
    "#\n",
    "# Count the number of lines that start with a specific letter in a text file.\n",
    "\n",
    "def count_lines_starting_with(file_path, letter):\n",
    "    try:\n",
    "        count = 0\n",
    "        with open(file_path, \"r\") as file:\n",
    "            for line in file:\n",
    "                # Strip leading whitespace and check first character\n",
    "                if line.lstrip().startswith(letter):\n",
    "                    count += 1\n",
    "        print(f\"Number of lines starting with '{letter}': {count}\")\n",
    "    except FileNotFoundError:\n",
    "        print(f\"❌ Error: File not found at {file_path}\")\n",
    "\n",
    "# Example usage:\n",
    "file_path = r\"C:\\Users\\User\\Documents\\TeckGit\\Tekher\\TekHer-Python-Basics\\data\\yourfile.txt\"\n",
    "count_lines_starting_with(file_path, \"A\")\n"
   ]
  },
  {
   "cell_type": "code",
   "execution_count": 53,
   "id": "2895df10",
   "metadata": {},
   "outputs": [
    {
     "name": "stdout",
     "output_type": "stream",
     "text": [
      "✅ Reversed string written to C:\\Users\\User\\Documents\\TeckGit\\Tekher\\TekHer-Python-Basics\\data\\output.txt\n"
     ]
    }
   ],
   "source": [
    "# Exercise 40:\n",
    "#\n",
    "# Function to take a string as input and write it to \"output.txt\" in reverse order.\n",
    "\n",
    "def write_reversed_string_to_file(input_string, file_path):\n",
    "    try:\n",
    "        reversed_string = input_string[::-1]  # Reverse the string using slicing\n",
    "        with open(file_path, \"w\") as file:\n",
    "            file.write(reversed_string)\n",
    "        print(f\"✅ Reversed string written to {file_path}\")\n",
    "    except Exception as e:\n",
    "        print(f\"❌ Error writing to file: {e}\")\n",
    "\n",
    "# Example usage:\n",
    "text = \"Python programming is fun!\"\n",
    "file_path = r\"C:\\Users\\User\\Documents\\TeckGit\\Tekher\\TekHer-Python-Basics\\data\\output.txt\"\n",
    "write_reversed_string_to_file(text, file_path)\n"
   ]
  },
  {
   "cell_type": "code",
   "execution_count": 54,
   "id": "df9045bc",
   "metadata": {},
   "outputs": [
    {
     "name": "stdout",
     "output_type": "stream",
     "text": [
      "❌ Error: File not found at C:\\Users\\User\\Documents\\TeckGit\\Tekher\\TekHer-Python-Basics\\data\\yourfile.txt\n"
     ]
    }
   ],
   "source": [
    "# Exercise 41:\n",
    "#\n",
    "# Read a file and print all lines that contain the word \"Python\".\n",
    "\n",
    "def print_lines_with_python(file_path):\n",
    "    try:\n",
    "        with open(file_path, \"r\") as file:\n",
    "            for line in file:\n",
    "                if \"Python\" in line:\n",
    "                    print(line.strip())  # Strip removes extra newlines/whitespace\n",
    "    except FileNotFoundError:\n",
    "        print(f\"❌ Error: File not found at {file_path}\")\n",
    "\n",
    "# Example usage:\n",
    "file_path = r\"C:\\Users\\User\\Documents\\TeckGit\\Tekher\\TekHer-Python-Basics\\data\\yourfile.txt\"\n",
    "print_lines_with_python(file_path)\n"
   ]
  },
  {
   "cell_type": "code",
   "execution_count": 55,
   "id": "efcc090d",
   "metadata": {},
   "outputs": [
    {
     "name": "stdout",
     "output_type": "stream",
     "text": [
      "❌ Error: File not found at C:\\Users\\User\\Documents\\TeckGit\\Tekher\\TekHer-Python-Basics\\data\\yourfile.txt\n"
     ]
    }
   ],
   "source": [
    "# Exercise 42:\n",
    "#\n",
    "# Open a file, remove all numeric digits from its content, and save or print the result.\n",
    "\n",
    "import re  # For regular expressions\n",
    "\n",
    "def remove_digits_from_file(file_path):\n",
    "    try:\n",
    "        # Read original content\n",
    "        with open(file_path, \"r\") as file:\n",
    "            content = file.read()\n",
    "        \n",
    "        # Remove all digits using regex\n",
    "        cleaned_content = re.sub(r\"\\d\", \"\", content)\n",
    "\n",
    "        # Optional: Print cleaned content\n",
    "        print(\"Content without digits:\\n\")\n",
    "        print(cleaned_content)\n",
    "\n",
    "        # Optional: Save cleaned content to a new file\n",
    "        output_path = file_path.replace(\".txt\", \"_no_digits.txt\")\n",
    "        with open(output_path, \"w\") as output_file:\n",
    "            output_file.write(cleaned_content)\n",
    "\n",
    "        print(f\"\\n✅ Cleaned content saved to: {output_path}\")\n",
    "    \n",
    "    except FileNotFoundError:\n",
    "        print(f\"❌ Error: File not found at {file_path}\")\n",
    "\n",
    "# Example usage\n",
    "file_path = r\"C:\\Users\\User\\Documents\\TeckGit\\Tekher\\TekHer-Python-Basics\\data\\yourfile.txt\"\n",
    "remove_digits_from_file(file_path)\n"
   ]
  },
  {
   "cell_type": "code",
   "execution_count": 56,
   "id": "be1306b0",
   "metadata": {},
   "outputs": [
    {
     "name": "stdout",
     "output_type": "stream",
     "text": [
      "✅ Most frequent word: 'a' (occurs 3 times)\n"
     ]
    }
   ],
   "source": [
    "# Exercise 43:\n",
    "#\n",
    "# Read \"book.txt\" and find the most frequent word in the text.\n",
    "\n",
    "from collections import Counter\n",
    "import re\n",
    "\n",
    "def find_most_frequent_word(file_path):\n",
    "    try:\n",
    "        with open(file_path, \"r\") as file:\n",
    "            content = file.read().lower()  # Convert to lowercase for consistent counting\n",
    "\n",
    "        # Use regex to extract words (ignores punctuation)\n",
    "        words = re.findall(r'\\b[a-z]+\\b', content)\n",
    "\n",
    "        # Count word frequencies\n",
    "        word_counts = Counter(words)\n",
    "\n",
    "        # Get the most common word and its frequency\n",
    "        most_common_word, frequency = word_counts.most_common(1)[0]\n",
    "\n",
    "        print(f\"✅ Most frequent word: '{most_common_word}' (occurs {frequency} times)\")\n",
    "\n",
    "    except FileNotFoundError:\n",
    "        print(f\"❌ Error: File not found at {file_path}\")\n",
    "\n",
    "# Example usage:\n",
    "file_path = r\"C:\\Users\\User\\Documents\\TeckGit\\Tekher\\TekHer-Python-Basics\\data\\book.txt\"\n",
    "find_most_frequent_word(file_path)\n"
   ]
  },
  {
   "cell_type": "code",
   "execution_count": 57,
   "id": "58491a4e",
   "metadata": {},
   "outputs": [
    {
     "name": "stdout",
     "output_type": "stream",
     "text": [
      "❌ Error: File not found at C:\\Users\\User\\Documents\\TeckGit\\Tekher\\TekHer-Python-Basics\\data\\yourfile.txt\n"
     ]
    }
   ],
   "source": [
    "# Exercise 44:\n",
    "#\n",
    "# Read a file and print all lines that contain exactly 5 words.\n",
    "\n",
    "def print_lines_with_five_words(file_path):\n",
    "    try:\n",
    "        with open(file_path, \"r\") as file:\n",
    "            for line in file:\n",
    "                # Split line into words\n",
    "                word_list = line.strip().split()\n",
    "                # Check if the line has exactly 5 words\n",
    "                if len(word_list) == 5:\n",
    "                    print(line.strip())\n",
    "    except FileNotFoundError:\n",
    "        print(f\"❌ Error: File not found at {file_path}\")\n",
    "\n",
    "# Example usage:\n",
    "file_path = r\"C:\\Users\\User\\Documents\\TeckGit\\Tekher\\TekHer-Python-Basics\\data\\yourfile.txt\"\n",
    "print_lines_with_five_words(file_path)\n"
   ]
  },
  {
   "cell_type": "code",
   "execution_count": 58,
   "id": "d5191ef0",
   "metadata": {},
   "outputs": [
    {
     "name": "stdout",
     "output_type": "stream",
     "text": [
      "❌ Error: File not found at C:\\Users\\User\\Documents\\TeckGit\\Tekher\\TekHer-Python-Basics\\data\\yourfile.txt\n"
     ]
    }
   ],
   "source": [
    "# Exercise 45:\n",
    "#\n",
    "# Read a file and print the first and last line of the file.\n",
    "\n",
    "def print_first_and_last_line(file_path):\n",
    "    try:\n",
    "        with open(file_path, \"r\") as file:\n",
    "            lines = file.readlines()  # Read all lines into a list\n",
    "\n",
    "        if not lines:\n",
    "            print(\"⚠️ The file is empty.\")\n",
    "        else:\n",
    "            first_line = lines[0].strip()\n",
    "            last_line = lines[-1].strip()\n",
    "            print(f\"📌 First line: {first_line}\")\n",
    "            print(f\"📌 Last line: {last_line}\")\n",
    "\n",
    "    except FileNotFoundError:\n",
    "        print(f\"❌ Error: File not found at {file_path}\")\n",
    "\n",
    "# Example usage:\n",
    "file_path = r\"C:\\Users\\User\\Documents\\TeckGit\\Tekher\\TekHer-Python-Basics\\data\\yourfile.txt\"\n",
    "print_first_and_last_line(file_path)\n"
   ]
  },
  {
   "cell_type": "code",
   "execution_count": 59,
   "id": "96fb2c3c",
   "metadata": {},
   "outputs": [
    {
     "name": "stdout",
     "output_type": "stream",
     "text": [
      "✅ The file is writable.\n"
     ]
    }
   ],
   "source": [
    "# Exercise 46:\n",
    "#\n",
    "# Check if a file \"students.txt\" is writable.\n",
    "\n",
    "import os\n",
    "\n",
    "def is_file_writable(file_path):\n",
    "    # Check if file exists\n",
    "    if not os.path.exists(file_path):\n",
    "        print(f\"❌ File not found at {file_path}\")\n",
    "        return\n",
    "\n",
    "    # Try to open the file in append mode to test writability\n",
    "    try:\n",
    "        with open(file_path, \"a\"):\n",
    "            print(\"✅ The file is writable.\")\n",
    "    except IOError:\n",
    "        print(\"❌ The file is not writable.\")\n",
    "\n",
    "# Example usage\n",
    "file_path = r\"C:\\Users\\User\\Documents\\TeckGit\\Tekher\\TekHer-Python-Basics\\data\\students.txt\"\n",
    "is_file_writable(file_path)\n"
   ]
  },
  {
   "cell_type": "code",
   "execution_count": 60,
   "id": "7036629c",
   "metadata": {},
   "outputs": [
    {
     "name": "stdout",
     "output_type": "stream",
     "text": [
      "❌ Error: File not found at C:\\Users\\User\\Documents\\TeckGit\\Tekher\\TekHer-Python-Basics\\data\\yourfile.txt\n"
     ]
    },
    {
     "data": {
      "text/plain": [
       "0"
      ]
     },
     "execution_count": 60,
     "metadata": {},
     "output_type": "execute_result"
    }
   ],
   "source": [
    "# Exercise 47:\n",
    "#\n",
    "# Create a function that opens a file and returns the number of unique words in it.\n",
    "\n",
    "import re\n",
    "\n",
    "def count_unique_words(file_path):\n",
    "    try:\n",
    "        with open(file_path, \"r\") as file:\n",
    "            content = file.read().lower()  # Read entire content and convert to lowercase\n",
    "\n",
    "        # Use regex to extract words (letters only)\n",
    "        words = re.findall(r'\\b[a-z]+\\b', content)\n",
    "\n",
    "        # Use a set to get unique words\n",
    "        unique_words = set(words)\n",
    "\n",
    "        print(f\"✅ Number of unique words: {len(unique_words)}\")\n",
    "        return len(unique_words)\n",
    "\n",
    "    except FileNotFoundError:\n",
    "        print(f\"❌ Error: File not found at {file_path}\")\n",
    "        return 0\n",
    "\n",
    "# Example usage:\n",
    "file_path = r\"C:\\Users\\User\\Documents\\TeckGit\\Tekher\\TekHer-Python-Basics\\data\\yourfile.txt\"\n",
    "count_unique_words(file_path)\n"
   ]
  },
  {
   "cell_type": "code",
   "execution_count": 61,
   "id": "be2e543f",
   "metadata": {},
   "outputs": [
    {
     "name": "stdout",
     "output_type": "stream",
     "text": [
      "❌ Error: File not found at C:\\Users\\User\\Documents\\TeckGit\\Tekher\\TekHer-Python-Basics\\data\\yourfile.txt\n"
     ]
    }
   ],
   "source": [
    "# Exercise 48:\n",
    "#\n",
    "# Read a file and print all lines in reverse order.\n",
    "\n",
    "def print_lines_in_reverse(file_path):\n",
    "    try:\n",
    "        with open(file_path, \"r\") as file:\n",
    "            lines = file.readlines()  # Read all lines\n",
    "\n",
    "        # Print lines from last to first\n",
    "        for line in reversed(lines):\n",
    "            print(line.strip())\n",
    "\n",
    "    except FileNotFoundError:\n",
    "        print(f\"❌ Error: File not found at {file_path}\")\n",
    "\n",
    "# Example usage:\n",
    "file_path = r\"C:\\Users\\User\\Documents\\TeckGit\\Tekher\\TekHer-Python-Basics\\data\\yourfile.txt\"\n",
    "print_lines_in_reverse(file_path)\n"
   ]
  },
  {
   "cell_type": "code",
   "execution_count": 62,
   "id": "c922094d",
   "metadata": {},
   "outputs": [
    {
     "name": "stdout",
     "output_type": "stream",
     "text": [
      "❌ Error: File not found at C:\\Users\\User\\Documents\\TeckGit\\Tekher\\TekHer-Python-Basics\\data\\yourfile.txt\n"
     ]
    }
   ],
   "source": [
    "# Exercise 49:\n",
    "#\n",
    "# Read a file and return the most common letter in the text.\n",
    "\n",
    "from collections import Counter\n",
    "import string\n",
    "\n",
    "def most_common_letter(file_path):\n",
    "    try:\n",
    "        with open(file_path, \"r\") as file:\n",
    "            content = file.read().lower()  # Read and convert to lowercase\n",
    "\n",
    "        # Filter only letters (a-z)\n",
    "        letters = [ch for ch in content if ch in string.ascii_lowercase]\n",
    "\n",
    "        if not letters:\n",
    "            print(\"⚠️ No letters found in the file.\")\n",
    "            return None\n",
    "\n",
    "        # Count frequency of each letter\n",
    "        letter_counts = Counter(letters)\n",
    "\n",
    "        # Get the most common letter and its count\n",
    "        most_common, count = letter_counts.most_common(1)[0]\n",
    "\n",
    "        print(f\"✅ Most common letter: '{most_common}' (occurs {count} times)\")\n",
    "        return most_common\n",
    "\n",
    "    except FileNotFoundError:\n",
    "        print(f\"❌ Error: File not found at {file_path}\")\n",
    "        return None\n",
    "\n",
    "# Example usage:\n",
    "file_path = r\"C:\\Users\\User\\Documents\\TeckGit\\Tekher\\TekHer-Python-Basics\\data\\yourfile.txt\"\n",
    "most_common_letter(file_path)\n"
   ]
  },
  {
   "cell_type": "code",
   "execution_count": 63,
   "id": "f90eabe0",
   "metadata": {},
   "outputs": [
    {
     "name": "stdout",
     "output_type": "stream",
     "text": [
      "❌ Error: File not found at C:\\Users\\User\\Documents\\TeckGit\\Tekher\\TekHer-Python-Basics\\data\\yourfile.txt\n"
     ]
    }
   ],
   "source": [
    "# Exercise 50:\n",
    "#\n",
    "# Read a file and replace every occurrence of \"Python\" with \"Java\".\n",
    "\n",
    "def replace_python_with_java(file_path):\n",
    "    try:\n",
    "        with open(file_path, \"r\") as file:\n",
    "            content = file.read()\n",
    "\n",
    "        # Replace \"Python\" with \"Java\"\n",
    "        updated_content = content.replace(\"Python\", \"Java\")\n",
    "\n",
    "        # Write the updated content back to the file\n",
    "        with open(file_path, \"w\") as file:\n",
    "            file.write(updated_content)\n",
    "\n",
    "        print(f\"✅ Replaced all occurrences of 'Python' with 'Java' in {file_path}\")\n",
    "\n",
    "    except FileNotFoundError:\n",
    "        print(f\"❌ Error: File not found at {file_path}\")\n",
    "\n",
    "# Example usage:\n",
    "file_path = r\"C:\\Users\\User\\Documents\\TeckGit\\Tekher\\TekHer-Python-Basics\\data\\yourfile.txt\"\n",
    "replace_python_with_java(file_path)\n"
   ]
  },
  {
   "cell_type": "code",
   "execution_count": null,
   "id": "290d42e9",
   "metadata": {},
   "outputs": [],
   "source": []
  }
 ],
 "metadata": {
  "kernelspec": {
   "display_name": "Python 3 (ipykernel)",
   "language": "python",
   "name": "python3"
  },
  "language_info": {
   "codemirror_mode": {
    "name": "ipython",
    "version": 3
   },
   "file_extension": ".py",
   "mimetype": "text/x-python",
   "name": "python",
   "nbconvert_exporter": "python",
   "pygments_lexer": "ipython3",
   "version": "3.11.5"
  }
 },
 "nbformat": 4,
 "nbformat_minor": 5
}
