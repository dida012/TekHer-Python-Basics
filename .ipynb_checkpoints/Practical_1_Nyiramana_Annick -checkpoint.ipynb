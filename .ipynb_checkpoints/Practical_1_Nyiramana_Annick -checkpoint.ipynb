{
 "cells": [
  {
   "cell_type": "markdown",
   "id": "426486dd",
   "metadata": {},
   "source": [
    "# Practical_1: Variables and Assignments"
   ]
  },
  {
   "cell_type": "code",
   "execution_count": 2,
   "id": "9115491b",
   "metadata": {},
   "outputs": [],
   "source": [
    "# Exercise 1\n",
    "x = 10\n"
   ]
  },
  {
   "cell_type": "code",
   "execution_count": 3,
   "id": "8a27d427",
   "metadata": {},
   "outputs": [],
   "source": [
    "# Exercise 2\n",
    "is_valid = True\n"
   ]
  },
  {
   "cell_type": "code",
   "execution_count": 4,
   "id": "2650c27c",
   "metadata": {},
   "outputs": [],
   "source": [
    "# Exercise 3\n",
    "name = \"Python Programming\"\n"
   ]
  },
  {
   "cell_type": "code",
   "execution_count": 5,
   "id": "1a8d0894",
   "metadata": {},
   "outputs": [],
   "source": [
    "# Exercise 4\n",
    "sum_result = 5 + 3\n"
   ]
  },
  {
   "cell_type": "code",
   "execution_count": 6,
   "id": "e616c076",
   "metadata": {},
   "outputs": [],
   "source": [
    "# Exercise 5\n",
    "a, b, c = 5, 10, 15\n"
   ]
  },
  {
   "cell_type": "code",
   "execution_count": 7,
   "id": "bee0e22a",
   "metadata": {},
   "outputs": [],
   "source": [
    "# Exercise 6\n",
    "x = 10\n",
    "y = x\n"
   ]
  },
  {
   "cell_type": "code",
   "execution_count": 8,
   "id": "5ab0ffee",
   "metadata": {},
   "outputs": [],
   "source": [
    "# Exercise 7\n",
    "gravity = 9.8\n"
   ]
  },
  {
   "cell_type": "code",
   "execution_count": 9,
   "id": "4ef9ba30",
   "metadata": {},
   "outputs": [],
   "source": [
    "# Exercise 8\n",
    "country = \"Canada\"  # You can change this to your favorite country\n"
   ]
  },
  {
   "cell_type": "code",
   "execution_count": 10,
   "id": "6dec16fe",
   "metadata": {},
   "outputs": [],
   "source": [
    "# Exercise 9\n",
    "age = 25\n",
    "age = 26\n"
   ]
  },
  {
   "cell_type": "code",
   "execution_count": 11,
   "id": "d42c6dc7",
   "metadata": {},
   "outputs": [],
   "source": [
    "# Exercise 10\n",
    "result = 20 - 7\n"
   ]
  },
  {
   "cell_type": "code",
   "execution_count": 12,
   "id": "298562ac",
   "metadata": {},
   "outputs": [],
   "source": [
    "# Exercise 11\n",
    "int_value = 42\n",
    "float_value = 3.14\n"
   ]
  },
  {
   "cell_type": "code",
   "execution_count": 13,
   "id": "791c2f0c",
   "metadata": {},
   "outputs": [],
   "source": [
    "# Exercise 12\n",
    "is_completed = False\n"
   ]
  },
  {
   "cell_type": "code",
   "execution_count": 14,
   "id": "bd4a0028",
   "metadata": {},
   "outputs": [],
   "source": [
    "# Exercise 13\n",
    "x = 5\n",
    "y = 10\n",
    "\n",
    "x, y = y, x\n"
   ]
  },
  {
   "cell_type": "code",
   "execution_count": 15,
   "id": "b8066758",
   "metadata": {},
   "outputs": [],
   "source": [
    "# Exercise 14\n",
    "complex_num = 3 + 4j\n"
   ]
  },
  {
   "cell_type": "code",
   "execution_count": 16,
   "id": "55f25398",
   "metadata": {},
   "outputs": [],
   "source": [
    "# Exercise 15\n",
    "var = 10        # integer assignment\n",
    "var = \"hello\"   # reassigned to a string\n"
   ]
  },
  {
   "cell_type": "code",
   "execution_count": 17,
   "id": "93684a87",
   "metadata": {},
   "outputs": [],
   "source": [
    "# Exercise 16\n",
    "first_name = \"Annick\"\n",
    "last_name = \"Nyiramana\"\n"
   ]
  },
  {
   "cell_type": "code",
   "execution_count": 18,
   "id": "82023cce",
   "metadata": {},
   "outputs": [],
   "source": [
    "# Exercise 17\n",
    "temperature = 35.5\n"
   ]
  },
  {
   "cell_type": "code",
   "execution_count": 19,
   "id": "aa5eaf84",
   "metadata": {},
   "outputs": [],
   "source": [
    "# Exercise 18\n",
    "product = 8 * 6\n"
   ]
  },
  {
   "cell_type": "code",
   "execution_count": 20,
   "id": "8befc8a1",
   "metadata": {},
   "outputs": [],
   "source": [
    "# Exercise 19\n",
    "sentence = \"Learning Python is fun and rewarding!\"\n"
   ]
  },
  {
   "cell_type": "code",
   "execution_count": 21,
   "id": "50ac629f",
   "metadata": {},
   "outputs": [],
   "source": [
    "# Exercise 20\n",
    "int_value = int('50')\n"
   ]
  },
  {
   "cell_type": "code",
   "execution_count": 22,
   "id": "e769dc88",
   "metadata": {},
   "outputs": [],
   "source": [
    "# Exercise 21\n",
    "quotient = 144 / 12\n"
   ]
  },
  {
   "cell_type": "code",
   "execution_count": 23,
   "id": "da02a914",
   "metadata": {},
   "outputs": [],
   "source": [
    "# Exercise 22\n",
    "remainder = 47 % 5\n"
   ]
  },
  {
   "cell_type": "code",
   "execution_count": 24,
   "id": "80b0977f",
   "metadata": {},
   "outputs": [],
   "source": [
    "# Exercise 23\n",
    "is_student = True\n"
   ]
  },
  {
   "cell_type": "code",
   "execution_count": 25,
   "id": "7cddbbd8",
   "metadata": {},
   "outputs": [],
   "source": [
    "# Exercise 24\n",
    "mod_result = 45 % 4\n"
   ]
  },
  {
   "cell_type": "code",
   "execution_count": 26,
   "id": "e6fe648f",
   "metadata": {},
   "outputs": [],
   "source": [
    "# Exercise 25\n",
    "pi = 3.14159\n"
   ]
  },
  {
   "cell_type": "code",
   "execution_count": 27,
   "id": "4ee3135d",
   "metadata": {},
   "outputs": [],
   "source": [
    "# Exercise 26\n",
    "length = 7\n",
    "width = 5\n",
    "area = length * width\n"
   ]
  },
  {
   "cell_type": "code",
   "execution_count": 28,
   "id": "9ab1673a",
   "metadata": {},
   "outputs": [],
   "source": [
    "# Exercise 27\n",
    "negative_value = -12\n"
   ]
  },
  {
   "cell_type": "code",
   "execution_count": 29,
   "id": "92cb3bb1",
   "metadata": {},
   "outputs": [],
   "source": [
    "# Exercise 28\n",
    "greeting = \"Hello, World!\"\n"
   ]
  },
  {
   "cell_type": "code",
   "execution_count": 30,
   "id": "69265747",
   "metadata": {},
   "outputs": [],
   "source": [
    "# Exercise 29\n",
    "population = 7_900_000_000  # Approximate world population in billions\n"
   ]
  },
  {
   "cell_type": "code",
   "execution_count": 31,
   "id": "2d22e10d",
   "metadata": {},
   "outputs": [],
   "source": [
    "# Exercise 30\n",
    "power_result = 2 ** 8\n"
   ]
  },
  {
   "cell_type": "code",
   "execution_count": 32,
   "id": "b24f8f5d",
   "metadata": {},
   "outputs": [],
   "source": [
    "# Exercise 31\n",
    "fruits = [\"apple\", \"banana\", \"mango\", \"orange\"]\n"
   ]
  },
  {
   "cell_type": "code",
   "execution_count": 33,
   "id": "14985817",
   "metadata": {},
   "outputs": [],
   "source": [
    "# Exercise 32\n",
    "coordinates = (10, 20, 30)\n"
   ]
  },
  {
   "cell_type": "code",
   "execution_count": 34,
   "id": "7eeeebbd",
   "metadata": {},
   "outputs": [],
   "source": [
    "# Exercise 33\n",
    "person = {\n",
    "    \"name\": \"Annick\",\n",
    "    \"age\": 30\n",
    "}\n"
   ]
  },
  {
   "cell_type": "code",
   "execution_count": 35,
   "id": "b2a4af5c",
   "metadata": {},
   "outputs": [],
   "source": [
    "# Exercise 34\n",
    "num1 = 5.5\n",
    "num2 = 3.2\n",
    "total = num1 + num2\n"
   ]
  },
  {
   "cell_type": "code",
   "execution_count": 36,
   "id": "fd6133cd",
   "metadata": {},
   "outputs": [],
   "source": [
    "# Exercise 35\n",
    "is_sunny = 10 > 5\n"
   ]
  },
  {
   "cell_type": "code",
   "execution_count": 37,
   "id": "2575c36f",
   "metadata": {},
   "outputs": [
    {
     "name": "stdout",
     "output_type": "stream",
     "text": [
      "Age: 25\n"
     ]
    }
   ],
   "source": [
    "# Exercise 36\n",
    "text = \"Age:\"\n",
    "number = 25\n",
    "print(text, number)\n"
   ]
  },
  {
   "cell_type": "code",
   "execution_count": 38,
   "id": "3de57a3c",
   "metadata": {},
   "outputs": [],
   "source": [
    "# Exercise 37\n",
    "var = 100    # originally a number\n",
    "var = False  # reassigned to a boolean\n"
   ]
  },
  {
   "cell_type": "code",
   "execution_count": 39,
   "id": "50391d8c",
   "metadata": {},
   "outputs": [],
   "source": [
    "# Exercise 38\n",
    "is_weekend = False\n"
   ]
  },
  {
   "cell_type": "code",
   "execution_count": 40,
   "id": "96fc2dfa",
   "metadata": {},
   "outputs": [],
   "source": [
    "# Exercise 39\n",
    "description = \"\"\"This is a multi-line\n",
    "string that spans\n",
    "across several lines.\"\"\"\n"
   ]
  },
  {
   "cell_type": "code",
   "execution_count": 41,
   "id": "a7991513",
   "metadata": {},
   "outputs": [],
   "source": [
    "# Exercise 40\n",
    "number = -25\n",
    "absolute_value = abs(number)\n"
   ]
  },
  {
   "cell_type": "code",
   "execution_count": 42,
   "id": "e164d2f2",
   "metadata": {},
   "outputs": [],
   "source": [
    "# Exercise 41\n",
    "floor_div_result = 100 // 6\n"
   ]
  },
  {
   "cell_type": "code",
   "execution_count": 43,
   "id": "1be37de9",
   "metadata": {},
   "outputs": [],
   "source": [
    "# Exercise 42\n",
    "mixed_sum = 7 + 3.5\n"
   ]
  },
  {
   "cell_type": "code",
   "execution_count": 44,
   "id": "a556bdec",
   "metadata": {},
   "outputs": [],
   "source": [
    "# Exercise 43\n",
    "first_name = \"Annick\"\n",
    "last_name = \"Nyiramana\"\n",
    "full_name = first_name + \" \" + last_name\n"
   ]
  },
  {
   "cell_type": "code",
   "execution_count": 45,
   "id": "48e08eed",
   "metadata": {},
   "outputs": [],
   "source": [
    "# Exercise 44\n",
    "empty_list = []\n"
   ]
  },
  {
   "cell_type": "code",
   "execution_count": 46,
   "id": "cef2aafa",
   "metadata": {},
   "outputs": [],
   "source": [
    "# Exercise 45\n",
    "a = 10\n",
    "b = 15\n",
    "is_a_greater = a > b\n"
   ]
  },
  {
   "cell_type": "code",
   "execution_count": 47,
   "id": "f97c46a4",
   "metadata": {},
   "outputs": [],
   "source": [
    "# Exercise 46\n",
    "sentence = \"Python programming is a versatile and widely-used language.\"\n",
    "length = len(sentence)\n"
   ]
  },
  {
   "cell_type": "code",
   "execution_count": 48,
   "id": "1e06b82f",
   "metadata": {},
   "outputs": [],
   "source": [
    "# Exercise 47\n",
    "division_result = 7 / 3\n"
   ]
  },
  {
   "cell_type": "code",
   "execution_count": 49,
   "id": "9d82fab4",
   "metadata": {},
   "outputs": [],
   "source": [
    "# Exercise 48\n",
    "speed = 100  # kilometers per hour\n"
   ]
  },
  {
   "cell_type": "code",
   "execution_count": 50,
   "id": "128eaa4b",
   "metadata": {},
   "outputs": [],
   "source": [
    "# Exercise 49\n",
    "x = 4\n",
    "y = 3 * x + 5\n"
   ]
  },
  {
   "cell_type": "code",
   "execution_count": 51,
   "id": "f538f903",
   "metadata": {},
   "outputs": [],
   "source": [
    "# Exercise 50\n",
    "num1 = 10\n",
    "num2 = 20\n",
    "num3 = 30\n",
    "average = (num1 + num2 + num3) / 3\n"
   ]
  },
  {
   "cell_type": "code",
   "execution_count": null,
   "id": "09fe838c",
   "metadata": {},
   "outputs": [],
   "source": []
  }
 ],
 "metadata": {
  "kernelspec": {
   "display_name": "Python 3 (ipykernel)",
   "language": "python",
   "name": "python3"
  },
  "language_info": {
   "codemirror_mode": {
    "name": "ipython",
    "version": 3
   },
   "file_extension": ".py",
   "mimetype": "text/x-python",
   "name": "python",
   "nbconvert_exporter": "python",
   "pygments_lexer": "ipython3",
   "version": "3.11.5"
  }
 },
 "nbformat": 4,
 "nbformat_minor": 5
}
